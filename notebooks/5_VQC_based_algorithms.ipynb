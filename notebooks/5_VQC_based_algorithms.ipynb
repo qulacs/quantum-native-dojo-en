{
 "cells": [
  {
   "cell_type": "markdown",
   "metadata": {},
   "source": [
    "# Chapter 5 Algorithms Based on Variational Quantum Circuits\n",
    "In this chapter, we will learn about the most important application of NISQ devices, the quantum-classical hybrid algorithm based on variational quantum circuits. These algorithms are extremely important for the application of NISQ devices to real problems."
   ]
  },
  {
   "cell_type": "markdown",
   "metadata": {
    "nbsphinx-toctree": {}
   },
   "source": [
    "- [5-1. Variational Quantum Eigensolver（VQE)](5.1_variational_quantum_eigensolver.ipynb)\n",
    "- [5-2. Quantum Circuit Learning](5.2_Quantum_Circuit_Learning.ipynb)\n",
    "- [Column：Classification by Quantum Circuit Learning](5.2c1_application_of_QCL_to_classification.ipynb)\n",
    "- [Column：Quantum Reservoir Computing](5.2c2_quantum_reservoir_computing.ipynb)\n",
    "- [5-3. Quantum Approximate Optimazation Algorithm (QAOA)](5.3_quantum_approximate_optimazation_algorithm.ipynb)"
   ]
  },
  {
   "cell_type": "markdown",
   "metadata": {},
   "source": []
  }
 ],
 "metadata": {
  "celltoolbar": "Edit Metadata",
  "kernelspec": {
   "display_name": "Python 3.9.5 64-bit ('3.9.5')",
   "language": "python",
   "name": "python3"
  },
  "language_info": {
   "codemirror_mode": {
    "name": "ipython",
    "version": 3
   },
   "file_extension": ".py",
   "mimetype": "text/x-python",
   "name": "python",
   "nbconvert_exporter": "python",
   "pygments_lexer": "ipython3",
   "version": "3.9.5"
  },
  "vscode": {
   "interpreter": {
    "hash": "80f21df302999c09c3d444fe636c3228c9e442cf42cf86d38eb61dd3d3032f70"
   }
  }
 },
 "nbformat": 4,
 "nbformat_minor": 2
}
