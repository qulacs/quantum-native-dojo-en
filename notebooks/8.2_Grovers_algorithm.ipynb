{
 "cells": [
  {
   "attachments": {},
   "cell_type": "markdown",
   "metadata": {},
   "source": [
    "## 8-2. Grover's algorithm\n",
    "\n",
    "Grover's algorithm is a quantum algorithm for searching for specific data from an unsorted database [1].\n",
    "Grover's algorithm can find a solution in $O(\\sqrt{N})$ queries (calling an oracle) for $N$ unsorted data. Since $O(N)$ queries are required for a classical computer, a quadratic acceleration is achieved by using a quantum algorithm.\n",
    "\n",
    "Once the oracle is constructed, Grover's algorithm can accelerate the entire search portion of any classical algorithm. For example\n",
    "\n",
    "- Satisfiability problem (SAT problem)\n",
    "- The problem of finding the original value from a particular hash value\n",
    "\n",
    "and the latter has actually been proposed in a paper as a Bitcoin mining acceleration [2].\n",
    "\n",
    "In this section, we first provide a theoretical explanation of Glover's algorithm and then present an example implementation using Qulacs."
   ]
  },
  {
   "attachments": {},
   "cell_type": "markdown",
   "metadata": {},
   "source": [
    "### Algorithm Flow\n",
    "The flow of Grover's algorithm is simple and is as follows.\n",
    "As in the previous section, consider the problem of searching for $M$ solutions from a database of $N$ elements, where the element labels are $N$ digit bit sequences $x = x_1 \\ldots x_n$.\n",
    "\n",
    "1. prepare a superposition of all states $|s\\rangle = \\frac{1}{\\sqrt{N}}\\sum_x |x\\rangle$.\n",
    "2. apply oracle $U_w$ (reversal operation on the solution)\n",
    "3. apply the inversion operation $U_s$ with $|s\\rangle$ as the axis of symmetry\n",
    "4. Repeat steps 2 and 3 $k$ times\n",
    "5. perform the measurement\n",
    "\n",
    "Let's look at each step in detail."
   ]
  },
  {
   "attachments": {},
   "cell_type": "markdown",
   "metadata": {},
   "source": [
    "#### 1. prepare a superposition state of all states $|s\\rangle = \\frac{1}{\\sqrt{N}}\\sum_x |x\\rangle$.\n",
    "This is easy. For the initial state $|0\\cdots0\\rangle$, we can apply Hadamard gate $H$ to all qubits.\n",
    "\n",
    "$$\n",
    " (H\\otimes \\cdots \\otimes H) |0\\cdots0\\rangle = \\frac{1}{(\\sqrt{2})^n} (|0\\rangle+|1\\rangle) \\otimes \\cdots \\otimes (|0\\rangle+|1\\rangle)\n",
    " = |s\\rangle\n",
    "$$\n"
   ]
  },
  {
   "attachments": {},
   "cell_type": "markdown",
   "metadata": {},
   "source": [
    "#### 2. Apply the oracle $U_w$ (reversal operation on the solution)\n",
    "Next, we let the oracle act on the state $|s\\rangle$.\n",
    "Here, as an oracle, we will consider the operation \"if $x$ is a solution to the input $|x\\rangle$, the phase is inverted by multiplying by (-1), and if it is not a solution, nothing is done\" as described at the end of [previous section](8.1_oracle.ipynb), and the auxiliary bits are omitted. In other words, define the oracle $U_w$ as follows.\n",
    "\n",
    "$$\n",
    " U_w = I - 2\\sum_{w\\in \\text{solution}}|w\\rangle \\langle w|,  \n",
    "$$\n",
    "\n",
    "$$\n",
    " U_w|x\\rangle =  \n",
    "\\begin{cases}\n",
    " |x\\rangle  \\:\\: \\text{(x is not solution)} \\\\\n",
    " -|x\\rangle \\:\\: \\text{(x is solution)}\n",
    "\\end{cases}\n",
    "$$\n",
    "\n",
    "The oracle $U_w$ is called an \"inversion operation on the solution\" because it inverts the phase only when the input is a solution."
   ]
  },
  {
   "attachments": {},
   "cell_type": "markdown",
   "metadata": {},
   "source": [
    "#### 3. Applying the inversion operation $U_s$ with $|s\\rangle$ as the axis of symmetry\n",
    "In step 2, we considered the inversion operation on the solution, and in step 3, we will apply the inversion operation $U_s$ with the superposition of all states $|s\\rangle$ as the axis of symmetry.\n",
    "\n",
    "$$\n",
    " U_s = 2 |s\\rangle \\langle s| - I\n",
    "$$\n",
    "\n",
    "This operator acts on input state $|\\psi\\rangle = a|s\\rangle + b|s_\\perp\\rangle$ ($|s_\\perp\\rangle$ is a vector orthogonal to $|s\\rangle$)as follows\n",
    "\n",
    "$$\n",
    " U_s|\\psi\\rangle = a |s\\rangle - b|s_\\perp\\rangle\n",
    "$$\n",
    "\n",
    "and inverts only the phase of the part proportional to $|s_\\perp\\rangle$."
   ]
  },
  {
   "attachments": {},
   "cell_type": "markdown",
   "metadata": {},
   "source": [
    "#### 4. Repeat steps 2 and 3 $k$ times\n",
    "Repeat the above two inversion operations $U_w$ and $U_s$. As we will see later, approximately $O(\\sqrt{N/M})$ iterations are sufficient to obtain a solution with high enough probability for the next step 5 measurement. In other words, the number of times to call the oracle is $O(\\sqrt{N})$."
   ]
  },
  {
   "attachments": {},
   "cell_type": "markdown",
   "metadata": {},
   "source": [
    "#### 5. Take a measurement\n",
    "After the steps up to this point, the state is $(U_s U_w)^k | s \\rangle$. $k$ is the number of iterations of steps 2 and 3.\n",
    "As described below, in fact, (absolute value of) the coefficient of the state $|w\\rangle$ corresponding to the solution $w$ is very large in this state, so if we perform the measurement in the computational basis, we can obtain the solution $w$ (bit string) with a high probability.\n",
    "\n",
    "\n",
    "Roughly speaking, this is the only operation to be performed in Grover's algorithm, and it is very simple."
   ]
  },
  {
   "attachments": {},
   "cell_type": "markdown",
   "metadata": {},
   "source": [
    "### Geometric Explanation\n",
    "Next, we provide a geometric explanation of why Grover's algorithm works. (There are other explanations that focus on the average operation of the coefficients, see for example [3].)\n",
    "\n",
    "#### Definition of a two-dimensional plane\n",
    "First, consider a two-dimensional plane stretched in the following two states $|\\alpha\\rangle,|\\beta\\rangle$.\n",
    "\n",
    "$$\n",
    "|\\alpha\\rangle = \\frac{1}{\\sqrt{N-M}} \\sum_{x \\in {not solution}} |x\\rangle\n",
    "$$\n",
    "\n",
    "$$\n",
    "|\\beta\\rangle = \\frac{1}{\\sqrt{M}}\\sum_{x \\in solution} |x\\rangle\n",
    "$$  \n",
    "\n",
    "The superposition state $|s\\rangle$ of all states can be expressed as follows, which shows that it is a vector in this 2-dimensional plane.\n",
    "\n",
    "$$\n",
    "|s\\rangle = \\sqrt{\\frac{N-M}{N}} |\\alpha\\rangle + \\sqrt{\\frac{M}{N}} |\\beta\\rangle\n",
    "$$\n",
    "\n",
    "In particular, using angles which satisfies $\\cos{\\frac{\\theta}{2}} = \\sqrt{\\frac{N-M}{N}}, \\sin{\\frac{\\theta}{2}} = \\sqrt{\\frac{M}{N}}$ we can write\n",
    "\n",
    "$$\n",
    "|s\\rangle = \\cos{\\frac{\\theta}{2}} |\\alpha\\rangle + \\sin{\\frac{\\theta}{2}} |\\beta\\rangle\n",
    "$$\n",
    "\n",
    "This is illustrated in the following figure.\n",
    "(Note that since $N \\gg{} M$ in general in search problems, $\\sqrt{M/N}$ is close to 0 and $\\theta$ is often a positive number close to 0.)\n",
    "\n",
    "![Grovers](figs/8/GroverReflection.png)"
   ]
  },
  {
   "attachments": {},
   "cell_type": "markdown",
   "metadata": {},
   "source": [
    "#### Two inversion operations $U_s U_w$ = rotation in a two-dimensional plane \n",
    "Considering in this plane, the oracle $U_w$ is an inversion operation with respect to the $|\\beta\\rangle$ axis ($U_w|\\alpha\\rangle =|\\alpha\\rangle, U_w|\\beta\\rangle = -|\\beta\\rangle$).\n",
    "Therefore, after applying $U_w$, applying inversion $U_s$ with $|s\\rangle$ as the symmetry axis will result in a rotation in the $|\\alpha\\rangle,|\\beta\\rangle$ plane by an angle $\\theta$. (see the figure).\n",
    "\n",
    "Since Grover's algorithm repeats $U_s U_w$ $k$ times, the state is rotated $k$ times, and just before the measurement\n",
    "\n",
    "$$\n",
    " (U_s U_w)^k |s\\rangle = \\cos{\\frac{(2k+1)\\theta}{2}} |\\alpha\\rangle + \\sin{\\frac{(2k+1)\\theta}{2}} |\\beta\\rangle\n",
    "$$\n",
    "\n",
    "When $N \\gg M$ , $\\theta$ was a positive number close to zero, so each time $|s\\rangle$ was acted on by $U_s U_w$, the coefficient of $|\\alpha\\rangle$ would decrease and that of $|\\beta\\rangle$ would increase.\n",
    "Since $|\\beta\\rangle$ was made up of a superposition of all solution states, this means that the probability of obtaining a solution increases when $(U_s U_w)^k |s\\rangle$ is measured.\n",
    "\n",
    "This is  the reasons why Glover's algorithm can successfully search for solutions.\n",
    "\n",
    "#### Estimating the optimal $k$.\n",
    "Finally, let's evaluate how much $k$, the number of times to act on $U_s U_w$, i.e., how many times to call the oracle.\n",
    "This will determine the computational complexity.\n",
    "\n",
    "The closest $(U_s U_w)^k |s\\rangle$ comes to $|\\beta\\rangle$ is when $\\frac{(2k+1)\\theta}{2}$ is close to $\\frac{\\pi}{2}$, that is when $k$ is\n",
    "\n",
    "$$\n",
    " R = \\text{ClosestInteger}\\left( \\frac{\\pi}{2\\theta} -\\frac{1}{2} \\right)\n",
    "$$\n",
    "\n",
    "ここで $\\text{ClosestInteger}(\\ldots)$ は $\\ldots$ に最も近い整数を表す。\n",
    "$R$の上限を評価しよう。 $\\theta > 0$ について成り立つ式\n",
    "\n",
    "where $\\text{ClosestInteger}(\\ldots)$ denotes the integer closest to $\\ldots$.\n",
    "Let us evaluate the upper bound of $R$. \n",
    "\n",
    "$$\n",
    " \\frac{\\theta}{2} \\geq  \\sin \\frac{\\theta}{2} = \\sqrt{\\frac{M}{N}}\n",
    "$$\n",
    "\n",
    "With the above equation that hold for $\\theta > 0$, we get\n",
    "\n",
    "$$\n",
    " R \\leq \\left( \\frac{\\pi}{2\\theta} -\\frac{1}{2} \\right) + 1 = \\frac{\\pi}{2\\theta} + \\frac{1}{2} \\leq \\frac{\\pi}{4}\\sqrt{\\frac{N}{M}} + \\frac{1}{2}\n",
    "$$\n",
    "\n",
    "\n",
    "That is, $R$ is at most $O(\\sqrt{N/M})$ and Grover's algorithm works with $O(\\sqrt{N})$."
   ]
  },
  {
   "attachments": {},
   "cell_type": "markdown",
   "metadata": {},
   "source": [
    "### Example Implementation\n",
    "Let us try to implement Grover's algorithm using Qulacs. (The implementation code is almost the same as in [4]."
   ]
  },
  {
   "cell_type": "code",
   "execution_count": 1,
   "metadata": {},
   "outputs": [],
   "source": [
    "## Importing libraries\n",
    "import matplotlib.pyplot as plt\n",
    "import numpy as np\n",
    "import time \n",
    "import random\n",
    "from qulacs import QuantumState\n",
    "from qulacs.state import inner_product\n",
    "from qulacs import QuantumCircuit\n",
    "from qulacs.gate import to_matrix_gate\n",
    "from qulacs import QuantumState\n",
    "from qulacs.gate import Identity, X,Y,Z #Pauli operator\n",
    "from qulacs.gate import H\n",
    "from qulacs.gate import RX,RY,RZ #Rotation operations on Pauli operators\n",
    "\n",
    "## Run only if you are in a Google Colaboratory / (Linux or Mac) jupyter notebook environment.\n",
    "## Qulacs errors will be output normally.\n",
    "!pip3 install wurlitzer\n",
    "%load_ext wurlitzer"
   ]
  },
  {
   "cell_type": "code",
   "execution_count": 2,
   "metadata": {},
   "outputs": [],
   "source": [
    "## Function to plot the distribution of absolute values of coefficients\n",
    "def show_distribution(state,nqubits):\n",
    "    plt.bar([i for i in range(pow(2,nqubits))], abs(state.get_vector()))\n",
    "    plt.show()"
   ]
  },
  {
   "attachments": {},
   "cell_type": "markdown",
   "metadata": {},
   "source": [
    "#### Checking the operation\n",
    "First, let's implement Grover's algorithm with 5 qubits and check its operation.\n",
    "The superposition state of all states $|s\\rangle$ can be created by acting on all bits of the state $|0\\cdots0\\rangle$ with Hadamard gate."
   ]
  },
  {
   "cell_type": "code",
   "execution_count": 3,
   "metadata": {},
   "outputs": [
    {
     "data": {
      "image/png": "[encoded data removed]",
      "text/plain": [
       "<Figure size 432x288 with 1 Axes>"
      ]
     },
     "metadata": {
      "needs_background": "light"
     },
     "output_type": "display_data"
    }
   ],
   "source": [
    "nqubits = 5\n",
    "state = QuantumState(nqubits)\n",
    "state.set_zero_state()\n",
    "\n",
    "def make_Hadamard(nqubits):\n",
    "    Hadamard = QuantumCircuit(nqubits)\n",
    "    for i in range(nqubits):\n",
    "        Hadamard.add_gate(H(i))\n",
    "    return Hadamard\n",
    "\n",
    "Hadamard = make_Hadamard(nqubits)\n",
    "Hadamard.update_quantum_state(state)\n",
    "\n",
    "show_distribution(state,nqubits)"
   ]
  },
  {
   "attachments": {},
   "cell_type": "markdown",
   "metadata": {},
   "source": [
    "Next, we create the oracle $U_w$. Here we set $|1\\ldots1\\rangle$ as the solution, and create an operator that adds a phase (-1) to only $|1\\ldots1\\rangle$.\n",
    "Such an operator can be implemented as \"an operator that apply the $Z$ gate on the `nqubits`th qubit when all qubits from the `0`th to the `nqubits-1`th are `1`.\n",
    "The implementation uses Qulacs special gate `to_matrix_gate`. Also, we use `control_index` and `control_with_value`."
   ]
  },
  {
   "cell_type": "code",
   "execution_count": 4,
   "metadata": {},
   "outputs": [],
   "source": [
    "def make_U_w(nqubits):\n",
    "    U_w = QuantumCircuit(nqubits)\n",
    "    CnZ = to_matrix_gate(Z(nqubits-1))\n",
    "    # apply gate only if i-th qubits are all 1's\n",
    "    for i in range(nqubits-1):\n",
    "        control_index = i\n",
    "        control_with_value = 1\n",
    "        CnZ.add_control_qubit(control_index, control_with_value)\n",
    "    U_w.add_gate(CnZ)\n",
    "    return U_w"
   ]
  },
  {
   "attachments": {},
   "cell_type": "markdown",
   "metadata": {},
   "source": [
    "Checking the action of the oracle, we can see that indeed only the last component ($|1\\cdots1\\rangle$) is inverted in phase."
   ]
  },
  {
   "cell_type": "code",
   "execution_count": 5,
   "metadata": {},
   "outputs": [
    {
     "name": "stdout",
     "output_type": "stream",
     "text": [
      "[ 0.1767767+0.j  0.1767767+0.j  0.1767767+0.j  0.1767767+0.j\n",
      "  0.1767767+0.j  0.1767767+0.j  0.1767767+0.j  0.1767767+0.j\n",
      "  0.1767767+0.j  0.1767767+0.j  0.1767767+0.j  0.1767767+0.j\n",
      "  0.1767767+0.j  0.1767767+0.j  0.1767767+0.j  0.1767767+0.j\n",
      "  0.1767767+0.j  0.1767767+0.j  0.1767767+0.j  0.1767767+0.j\n",
      "  0.1767767+0.j  0.1767767+0.j  0.1767767+0.j  0.1767767+0.j\n",
      "  0.1767767+0.j  0.1767767+0.j  0.1767767+0.j  0.1767767+0.j\n",
      "  0.1767767+0.j  0.1767767+0.j  0.1767767+0.j -0.1767767+0.j]\n"
     ]
    }
   ],
   "source": [
    "hoge = state.copy()\n",
    "U_w = make_U_w(nqubits)\n",
    "U_w.update_quantum_state(hoge)\n",
    "print(hoge.get_vector())"
   ]
  },
  {
   "attachments": {},
   "cell_type": "markdown",
   "metadata": {},
   "source": [
    "Similarly, create an inversion $U_s$ with $|s\\rangle$ as the symmetry axis. Use the following equation holds.\n",
    "\n",
    "$$\n",
    "U_s = 2 |s\\rangle \\langle s| - I = H^{\\otimes n} (2 |0\\cdots0\\rangle \\langle0\\cdots0| - I) H^{\\otimes n}  \n",
    "$$"
   ]
  },
  {
   "cell_type": "code",
   "execution_count": 6,
   "metadata": {},
   "outputs": [],
   "source": [
    "def make_U_s(nqubits):\n",
    "    U_s = QuantumCircuit(nqubits)\n",
    "    for i in range(nqubits):\n",
    "        U_s.add_gate(H(i))\n",
    "\n",
    "    ## 2|0><0| - I implementation\n",
    "    ## First, phase (-1) is given to all states. The gate matrix is arrary([[-1,0],[0,-1]])\n",
    "    U_s.add_gate(to_matrix_gate(RZ(nqubits-1, 2*np.pi))) \n",
    "    U_s.add_gate( X(nqubits-1) )\n",
    "    ## apply the Z-gate only if all i-th qubits are 0\n",
    "    CnZ = to_matrix_gate(Z(nqubits-1))\n",
    "    for i in range(nqubits-1):\n",
    "        control_index = i\n",
    "        control_with_value = 0\n",
    "        CnZ.add_control_qubit(control_index, control_with_value)\n",
    "    U_s.add_gate( CnZ )\n",
    "    U_s.add_gate( X(nqubits-1) ) \n",
    "\n",
    "    for i in range(nqubits):\n",
    "        U_s.add_gate(H(i))\n",
    "\n",
    "    return U_s"
   ]
  },
  {
   "attachments": {},
   "cell_type": "markdown",
   "metadata": {},
   "source": [
    "Now let's apply $U_s U_w$ just once and see how the probability distribution changes. The probability of all 1 states (the rightmost one) gets slightly larger."
   ]
  },
  {
   "cell_type": "code",
   "execution_count": 7,
   "metadata": {},
   "outputs": [
    {
     "data": {
      "image/png": "[encoded data removed]",
      "text/plain": [
       "<Figure size 432x288 with 1 Axes>"
      ]
     },
     "metadata": {
      "needs_background": "light"
     },
     "output_type": "display_data"
    }
   ],
   "source": [
    "## Prepare initial state\n",
    "state = QuantumState(nqubits)\n",
    "state.set_zero_state()\n",
    "Hadamard.update_quantum_state(state)\n",
    "\n",
    "## apply U_s U_w \n",
    "U_s = make_U_s(nqubits)\n",
    "U_w.update_quantum_state(state)\n",
    "U_s.update_quantum_state(state)\n",
    "show_distribution(state,nqubits)"
   ]
  },
  {
   "attachments": {},
   "cell_type": "markdown",
   "metadata": {},
   "source": [
    "Repeat this a few times and you'll see."
   ]
  },
  {
   "cell_type": "code",
   "execution_count": 8,
   "metadata": {},
   "outputs": [
    {
     "data": {
      "image/png": "[encoded data removed]",
      "text/plain": [
       "<Figure size 432x288 with 1 Axes>"
      ]
     },
     "metadata": {
      "needs_background": "light"
     },
     "output_type": "display_data"
    },
    {
     "name": "stdout",
     "output_type": "stream",
     "text": [
      "0.5082329989778305\n"
     ]
    },
    {
     "data": {
      "image/png": "[encoded data removed]",
      "text/plain": [
       "<Figure size 432x288 with 1 Axes>"
      ]
     },
     "metadata": {
      "needs_background": "light"
     },
     "output_type": "display_data"
    },
    {
     "name": "stdout",
     "output_type": "stream",
     "text": [
      "0.7761601777867947\n"
     ]
    },
    {
     "data": {
      "image/png": "[encoded data removed]",
      "text/plain": [
       "<Figure size 432x288 with 1 Axes>"
      ]
     },
     "metadata": {
      "needs_background": "light"
     },
     "output_type": "display_data"
    },
    {
     "name": "stdout",
     "output_type": "stream",
     "text": [
      "0.9470673343724091\n"
     ]
    },
    {
     "data": {
      "image/png": "[encoded data removed]",
      "text/plain": [
       "<Figure size 432x288 with 1 Axes>"
      ]
     },
     "metadata": {
      "needs_background": "light"
     },
     "output_type": "display_data"
    },
    {
     "name": "stdout",
     "output_type": "stream",
     "text": [
      "0.9995910741614723\n"
     ]
    }
   ],
   "source": [
    "## Create a solution state |1....1> to evaluate the inner product.\n",
    "target_state = QuantumState(nqubits)\n",
    "target_state.set_computational_basis(2**nqubits-1) ## 2**n_qubits-1 is a binary number 1.... .1 \n",
    "    \n",
    "## Run Grover's algorithm\n",
    "state = QuantumState(nqubits)\n",
    "state.set_zero_state()\n",
    "\n",
    "Hadamard.update_quantum_state(state)\n",
    "\n",
    "for i in range(4):\n",
    "    U_w.update_quantum_state(state)\n",
    "    U_s.update_quantum_state(state)\n",
    "    show_distribution(state,nqubits)\n",
    "    print(np.linalg.norm(inner_product(state, target_state)))"
   ]
  },
  {
   "attachments": {},
   "cell_type": "markdown",
   "metadata": {},
   "source": [
    "After about $k=4$ iterations, we got a solution state with probability almost 1.\n",
    "Let `nqubits` be a bit larger and check the behavior of the solution output probability for $k$."
   ]
  },
  {
   "cell_type": "code",
   "execution_count": 9,
   "metadata": {},
   "outputs": [
    {
     "name": "stdout",
     "output_type": "stream",
     "text": [
      "maximal probability 9.997306e-01 is obtained at k = 25\n"
     ]
    },
    {
     "data": {
      "text/plain": [
       "[<matplotlib.lines.Line2D at 0x11d3ee990>]"
      ]
     },
     "execution_count": 9,
     "metadata": {},
     "output_type": "execute_result"
    },
    {
     "data": {
      "image/png": "[encoded data removed]",
      "text/plain": [
       "<Figure size 432x288 with 1 Axes>"
      ]
     },
     "metadata": {
      "needs_background": "light"
     },
     "output_type": "display_data"
    }
   ],
   "source": [
    "nqubits = 10\n",
    "state = QuantumState(nqubits)\n",
    "state.set_zero_state()\n",
    "\n",
    "## Create a solution state |1....1> to evaluate the inner product.\n",
    "target_state = QuantumState(nqubits)\n",
    "target_state.set_computational_basis(2**nqubits-1) ## 2**n_qubits-1 is binary number 1...1 \n",
    "    \n",
    "## Run Grover's algorithm\n",
    "Hadamard = make_Hadamard(nqubits)\n",
    "U_w= make_U_w(nqubits)\n",
    "U_s = make_U_s(nqubits)\n",
    "\n",
    "result = []\n",
    "\n",
    "state = QuantumState(nqubits)\n",
    "state.set_zero_state()\n",
    "Hadamard.update_quantum_state(state)\n",
    "for k in range(30):\n",
    "    U_w.update_quantum_state(state)\n",
    "    U_s.update_quantum_state(state)\n",
    "    #show_distribution(state,nqubits)\n",
    "    result.append(np.linalg.norm(inner_product(state, target_state)))\n",
    "\n",
    "max_k = np.argmax(result)\n",
    "print( f\"maximal probability {result[max_k]:5e} is obtained at k = {max_k+1}\")\n",
    "\n",
    "plt.plot(np.arange(1, 30+1), result, \"o-\")"
   ]
  },
  {
   "attachments": {},
   "cell_type": "markdown",
   "metadata": {},
   "source": [
    "The target state is obtained with probability 1 almost $k=25$ times. Also, the $k$ dependence of the probability is a sine function, as we saw in the \"Geometric Explanation\" section.\n",
    "\n",
    "Finally, let's see how the $k$ needed to find the solution behaves with respect to the number of qubits."
   ]
  },
  {
   "cell_type": "code",
   "execution_count": 10,
   "metadata": {},
   "outputs": [
    {
     "name": "stdout",
     "output_type": "stream",
     "text": [
      "nqubits=6, num_iter=7, suc_prob=9.526013e-01\n",
      "nqubits=8, num_iter=13, suc_prob=9.930691e-01\n",
      "nqubits=10, num_iter=26, suc_prob=9.963280e-01\n",
      "nqubits=12, num_iter=51, suc_prob=9.992534e-01\n",
      "nqubits=14, num_iter=101, suc_prob=9.998851e-01\n",
      "nqubits=16, num_iter=202, suc_prob=9.999368e-01\n"
     ]
    }
   ],
   "source": [
    "result = []\n",
    "min_nqubits = 6\n",
    "max_nqubits = 16\n",
    "for nqubits in range(min_nqubits, max_nqubits+1, 2):\n",
    "    ## Prepare circuit\n",
    "    Hadamard = make_Hadamard(nqubits)\n",
    "    U_w= make_U_w(nqubits)\n",
    "    U_s = make_U_s(nqubits)\n",
    "\n",
    "    ## Create a solution state |1....1> to evaluate the inner product. \n",
    "    target_state = QuantumState(nqubits)\n",
    "    target_state.set_computational_basis(2**nqubits-1) ## 2**n_qubits-1 is binary number 1...1 \n",
    "\n",
    "    state = QuantumState(nqubits)\n",
    "    state.set_zero_state()\n",
    "    Hadamard.update_quantum_state(state)\n",
    "\n",
    "    ## Multiply U_s U_w until the probability starts to decrease\n",
    "    tmp = 0\n",
    "    flag = 0\n",
    "    num_iter = 0\n",
    "    while flag == 0 and num_iter <= 1000:\n",
    "        num_iter += 1\n",
    "        U_w.update_quantum_state(state)\n",
    "        U_s.update_quantum_state(state)\n",
    "        suc_prob = np.linalg.norm(inner_product(state, target_state))\n",
    "        if tmp < suc_prob:\n",
    "            tmp = suc_prob\n",
    "        else: \n",
    "            flag = 1\n",
    "    result.append( [nqubits, num_iter, suc_prob] )\n",
    "    print(f\"nqubits={nqubits}, num_iter={num_iter}, suc_prob={suc_prob:5e}\")"
   ]
  },
  {
   "cell_type": "code",
   "execution_count": 11,
   "metadata": {},
   "outputs": [
    {
     "data": {
      "text/plain": [
       "<matplotlib.legend.Legend at 0x11a5fd410>"
      ]
     },
     "execution_count": 11,
     "metadata": {},
     "output_type": "execute_result"
    },
    {
     "data": {
      "image/png": "[encoded data removed]",
      "text/plain": [
       "<Figure size 432x288 with 1 Axes>"
      ]
     },
     "metadata": {
      "needs_background": "light"
     },
     "output_type": "display_data"
    }
   ],
   "source": [
    "result_array = np.array(result)\n",
    "\n",
    "plt.xlim(min_nqubits-1, max_nqubits+1)\n",
    "plt.xlabel(\"n, # of qubits\", fontsize=15)\n",
    "plt.ylabel(\"k, # of iteration\", fontsize=15)\n",
    "plt.semilogy(result_array[:,0], result_array[:,1], \"o-\", label=\"experiment\")\n",
    "plt.semilogy(result_array[:,0], 0.05*2**result_array[:,0], \"-\", label=r\"$\\propto N=2^n$\")\n",
    "plt.semilogy(result_array[:,0], 2**(0.5*result_array[:,0]), \"-\", label=r\"$\\propto \\sqrt{N}=2^{n/2}$\")\n",
    "plt.legend(fontsize=10)"
   ]
  },
  {
   "attachments": {},
   "cell_type": "markdown",
   "metadata": {},
   "source": [
    "The number of iterations = the number of oracle calls $k$ is proportional to $O(\\sqrt{N})$, not $O(N)$."
   ]
  },
  {
   "attachments": {},
   "cell_type": "markdown",
   "metadata": {},
   "source": [
    "### Appendix\n",
    "Interested readers are encouraged to use Grover's algorithm to solve the convenience store placement problem [IBM Quantum Challenge 2019 contest problem](https://github.com/quantum-challenge/2019/blob/master/problems/final/Final.ipynb). An [example solution](https://github.com/quantum-challenge/2019/blob/master/problems/final/answer_and_comment_by_judges.ipynb) has also been uploaded."
   ]
  },
  {
   "attachments": {},
   "cell_type": "markdown",
   "metadata": {},
   "source": [
    "### Reference\n",
    "\n",
    "[1] M. A. Nielsen and I. L. Chuang, `6.1 The quantum search algorithm` of “Quantum Computation and Quantum Information 10th Anniversary Edition“, University Printing House     \n",
    "[2] D. Aggarwal, G. Brennen, T. Lee, M. Santha, and M. Tomamichel, “Quantum Attacks on Bitcoin, and How to Protect Against Them“, Ledger, [S.l.], v. 3, oct. 2018, https://ledgerjournal.org/ojs/index.php/ledger/article/view/127   \n",
    "[3] IBM Quantum Challenge 2019, Week 2 notebook https://github.com/quantum-challenge/2019/blob/master/problems/week2/week2.ipynb   \n",
    "[4] Keisuke Fujii, “Implement the Grover Search Quantum Algorithm in depth.“, https://github.com/keisukefujii/QulacsExamples/blob/master/GroverSearch.ipynb"
   ]
  }
 ],
 "metadata": {
  "kernelspec": {
   "display_name": "Python 3",
   "language": "python",
   "name": "python3"
  },
  "language_info": {
   "codemirror_mode": {
    "name": "ipython",
    "version": 3
   },
   "file_extension": ".py",
   "mimetype": "text/x-python",
   "name": "python",
   "nbconvert_exporter": "python",
   "pygments_lexer": "ipython3",
   "version": "3.7.5"
  },
  "varInspector": {
   "cols": {
    "lenName": 16,
    "lenType": 16,
    "lenVar": 40
   },
   "kernels_config": {
    "python": {
     "delete_cmd_postfix": "",
     "delete_cmd_prefix": "del ",
     "library": "var_list.py",
     "varRefreshCmd": "print(var_dic_list())"
    },
    "r": {
     "delete_cmd_postfix": ") ",
     "delete_cmd_prefix": "rm(",
     "library": "var_list.r",
     "varRefreshCmd": "cat(var_dic_list()) "
    }
   },
   "types_to_exclude": [
    "module",
    "function",
    "builtin_function_or_method",
    "instance",
    "_Feature"
   ],
   "window_display": false
  }
 },
 "nbformat": 4,
 "nbformat_minor": 2
}
