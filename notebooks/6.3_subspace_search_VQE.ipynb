{
 "cells": [
  {
   "attachments": {},
   "cell_type": "markdown",
   "metadata": {
    "colab_type": "text",
    "id": "8xIq6dtwsyL7"
   },
   "source": [
    "## 6-3. Excited state search method (subspace-search variational quantum eigensolver)\n",
    "\n",
    "As explained in [section 5-1](5.1_variational_quantum_eigensolver.ipynb), variational quantum eigensolver (VQE) is an algorithm for exploring the **ground state** of a quantum system. The ground state is an important state that determines the properties of various materials. There are phenomena such as photoresponse that are difficult to describe without using **excited states**.\n",
    "\n",
    "Therefore, algorithms for creating excited-state wavefunctions on quantum computers are also being actively researched. Among them, I would like to introduce a new method proposed in 2018, Subspace-Search VQE (SSVQE) [1].\n",
    "\n",
    "### Algorithm\n",
    "\n",
    "The procedures of SSVQE are shown below.\n",
    "\n",
    "1. Prepare $k$ initial states $\\{|\\varphi_i\\rangle\\}_{i=0}^{k-1}$ that are orthogonal to each other.\n",
    "2. For each of them, apply a suitable quantum circuit $U(\\theta)$ to generate the trial state $\\{|\\psi_i(\\theta)\\rangle \\}_{i=0}^{k-1}$  (Note: $|\\psi_i(\\theta)\\rangle = U(\\theta)|\\varphi_i\\rangle$)\n",
    "3. Tune $\\theta$ to minimize the cost function $L(\\theta) = \\sum_i w_i \\langle\\psi_i(\\theta)|H|\\psi_i(\\theta)\\rangle$. where $w_i$ is chosen to be positive and $w_i<w_j$ for $i>j$.\n",
    "\n",
    "When $U(\\theta)$ has sufficient expressive power, $|\\psi_i\\rangle$ becomes the $i$-th excited state in converged $\\theta$. This is because the global minimum point of the cost function is $|\\psi_i\\rangle = |E_i\\rangle$, where $|E_i\\rangle$ is the $i$-th excited state of the Hamiltonian. (See the original paper [1] for details.)\n",
    "\n",
    "Below is an example of simulating SSVQE using Qulacs."
   ]
  },
  {
   "attachments": {},
   "cell_type": "markdown",
   "metadata": {},
   "source": [
    "### SSVQE implementation\n",
    "\n",
    "Implement SSVQE to search the ground state and the first excited state of the hydrogen molecule. If we treat the hydrogen molecule with the `sto-3g` minimal basis set, we get a 4-qubit Hamiltonian. Therefore, assuming the mutually orthogonal initial states $\\{|\\varphi_i\\rangle\\}_{i=0}^{1}$ required for SSVQE, we use one qubit flipped $|0000\\rangle$ and $|0001\\rangle$ .\n",
    "\n",
    "* Note for those familiar with quantum chemistry: the first excited state here refers to the first excited state of the Hamiltonian of the hydrogen molecule without considering the number of electrons, which in chemical terms is the ground state of the hydrogen molecule ion."
   ]
  },
  {
   "attachments": {},
   "cell_type": "markdown",
   "metadata": {
    "colab_type": "text",
    "id": "nkH99NaGsyMB"
   },
   "source": [
    "#### Preparation of Hamiltonian\n",
    "\n",
    "The Hamiltonian is calculated by PySCF + OpenFermion in the same procedure as last time. However, since excited states are also a problem in SSVQE, use `scipy.sparse.linalg.eigsh` to obtain the exact solution of the excited state."
   ]
  },
  {
   "cell_type": "code",
   "execution_count": null,
   "metadata": {},
   "outputs": [],
   "source": [
    "## Run if required libraries are not installed\n",
    "## If you run on Google Colaboratory, igore the warning 'You must restart the runtime in order to use newly installed versions.'\n",
    "## If you restart runtime, calculation may crash.\n",
    "!pip install qulacs pyscf openfermion openfermionpyscf\n",
    "\n",
    "## Run only in Google Colaboratory or (Linux or Mac) jupyter notebook environment\n",
    "## Qulacs errors will be output normally.\n",
    "!pip3 install wurlitzer\n",
    "%load_ext wurlitzer"
   ]
  },
  {
   "cell_type": "code",
   "execution_count": 4,
   "metadata": {
    "colab": {},
    "colab_type": "code",
    "id": "pH7RThdDsyL9"
   },
   "outputs": [],
   "source": [
    "import qulacs\n",
    "from openfermion.transforms import get_fermion_operator, jordan_wigner\n",
    "from openfermion.linalg import get_sparse_operator #If you have an error, please update openfermion later than version 1.0.0\n",
    "from openfermion.chem import MolecularData\n",
    "from openfermionpyscf import run_pyscf\n",
    "from scipy.optimize import minimize\n",
    "from pyscf import fci\n",
    "import numpy as np\n",
    "import matplotlib.pyplot as plt"
   ]
  },
  {
   "cell_type": "code",
   "execution_count": 5,
   "metadata": {
    "colab": {
     "base_uri": "https://localhost:8080/",
     "height": 51
    },
    "colab_type": "code",
    "id": "xJpl7Vp9syMC",
    "outputId": "1ed4152e-e9f6-42f0-89fa-046b0d078dcc"
   },
   "outputs": [],
   "source": [
    "basis = \"sto-3g\"\n",
    "multiplicity = 1\n",
    "charge = 0\n",
    "distance  = 0.977\n",
    "geometry = [[\"H\", [0,0,0]],[\"H\", [0,0,distance]]]\n",
    "description  = \"tmp\"\n",
    "molecule = MolecularData(geometry, basis, multiplicity, charge, description)\n",
    "molecule = run_pyscf(molecule,run_scf=1,run_fci=1)\n",
    "n_qubit = molecule.n_qubits\n",
    "n_electron = molecule.n_electrons\n",
    "fermionic_hamiltonian = get_fermion_operator(molecule.get_molecular_hamiltonian())\n",
    "jw_hamiltonian = jordan_wigner(fermionic_hamiltonian)\n",
    "hamiltonian_matrix = get_sparse_operator(jw_hamiltonian)\n",
    "from scipy.sparse.linalg import eigsh\n",
    "eigval, eigvec = eigsh(hamiltonian_matrix, k=2, which=\"SA\")\n",
    "from qulacs import Observable\n",
    "from qulacs.observable import create_observable_from_openfermion_text\n",
    "qulacs_hamiltonian = create_observable_from_openfermion_text(str(jw_hamiltonian))"
   ]
  },
  {
   "attachments": {},
   "cell_type": "markdown",
   "metadata": {
    "colab_type": "text",
    "id": "QjFzqer6syMQ"
   },
   "source": [
    "#### preparation of ansatz\n",
    "\n",
    "Let's compose a quantum circuit on Qulacs. Same as last time, the quantum circuits were modeled after those used in experiments with superconducting qubits (A. Kandala _et. al._ , “Hardware-efficient variational quantum eigensolver for small molecules and quantum magnets“, Nature **549**, 242–246)."
   ]
  },
  {
   "cell_type": "code",
   "execution_count": 6,
   "metadata": {
    "colab": {},
    "colab_type": "code",
    "id": "oY7YBgDEsyMR"
   },
   "outputs": [],
   "source": [
    "from qulacs import QuantumState, QuantumCircuit\n",
    "from qulacs.gate import CZ, RY, RZ, merge\n",
    "\n",
    "depth = n_qubit"
   ]
  },
  {
   "cell_type": "code",
   "execution_count": 7,
   "metadata": {
    "colab": {},
    "colab_type": "code",
    "id": "GPH6iPWosyMT"
   },
   "outputs": [],
   "source": [
    "def he_ansatz_circuit(n_qubit, depth, theta_list):\n",
    "    \"\"\"he_ansatz_circuit\n",
    "    Returns hardware efficient ansatz circuit.\n",
    "\n",
    "    Args:\n",
    "        n_qubit (:class:`int`):\n",
    "            the number of qubit used (equivalent to the number of fermionic modes)\n",
    "        depth (:class:`int`):\n",
    "            depth of the circuit.\n",
    "        theta_list (:class:`numpy.ndarray`):\n",
    "            rotation angles.\n",
    "    Returns:\n",
    "        :class:`qulacs.QuantumCircuit`\n",
    "    \"\"\"\n",
    "    circuit = QuantumCircuit(n_qubit)\n",
    "    circuit.add_gate(RY(0, theta_list[-2]))\n",
    "    circuit.add_gate(RZ(0, theta_list[-1]))\n",
    "    for d in range(depth):\n",
    "        for i in range(n_qubit):\n",
    "            circuit.add_gate(merge(RY(i, theta_list[2*i+2*n_qubit*d]), RZ(i, theta_list[2*i+1+2*n_qubit*d])))\n",
    "        for i in range(n_qubit//2):\n",
    "            circuit.add_gate(CZ(2*i, 2*i+1))\n",
    "        for i in range(n_qubit//2-1):\n",
    "            circuit.add_gate(CZ(2*i+1, 2*i+2))\n",
    "    for i in range(n_qubit):\n",
    "        circuit.add_gate(merge(RY(i, theta_list[2*i+2*n_qubit*depth]), RZ(i, theta_list[2*i+1+2*n_qubit*depth])))\n",
    "    \n",
    "    return circuit"
   ]
  },
  {
   "attachments": {},
   "cell_type": "markdown",
   "metadata": {
    "colab_type": "text",
    "id": "9Z6wA1WIsyMf"
   },
   "source": [
    "#### Define cost function of SSVQE"
   ]
  },
  {
   "cell_type": "code",
   "execution_count": 8,
   "metadata": {
    "colab": {},
    "colab_type": "code",
    "id": "MHmEm6HJsyMf"
   },
   "outputs": [
    {
     "data": {
      "text/plain": [
       "0.211562756558141"
      ]
     },
     "execution_count": 8,
     "metadata": {},
     "output_type": "execute_result"
    }
   ],
   "source": [
    "def get_exp(state, theta_list):\n",
    "    circuit = he_ansatz_circuit(n_qubit, depth, theta_list) #compose a quantum circuit\n",
    "    circuit.update_quantum_state(state) #apply a quantum circuit to a state\n",
    "    return qulacs_hamiltonian.get_expectation_value(state)\n",
    "\n",
    "def cost(theta_list):\n",
    "    state0 = QuantumState(n_qubit) #prepare |00000>\n",
    "    state1 = QuantumState(n_qubit); state1.set_computational_basis(1) #prepare |00001> \n",
    "    return get_exp(state0, theta_list)+0.5*get_exp(state1, theta_list)\n",
    "    \n",
    "init_theta_list = np.random.random(2*n_qubit*(depth+1)+2)*1e-1\n",
    "cost(init_theta_list)"
   ]
  },
  {
   "attachments": {},
   "cell_type": "markdown",
   "metadata": {
    "colab_type": "text",
    "id": "G67GMD8xsyMi"
   },
   "source": [
    "#### Execution of SSVQE\n",
    "\n",
    "Now that we're ready, let's run SSVQE. For optimization, the BFGS method implemented in scipy is used, and the initial parameters are randomly selected. It should finish in tens of seconds."
   ]
  },
  {
   "cell_type": "code",
   "execution_count": 10,
   "metadata": {
    "colab": {},
    "colab_type": "code",
    "id": "OTPuIj4SsyMl"
   },
   "outputs": [],
   "source": [
    "exp_history0 = []\n",
    "exp_history1 = []\n",
    "def callback(theta_list):\n",
    "    state0 = QuantumState(n_qubit) #prepare |0000> \n",
    "    state1 = QuantumState(n_qubit); state1.set_computational_basis(1) #prepare |0001> \n",
    "    exp_history0.append(get_exp(state0, theta_list))\n",
    "    exp_history1.append(get_exp(state1, theta_list))\n",
    "init_theta_list = np.random.random(2*n_qubit*(depth+1)+2)*1e-1\n",
    "method = \"BFGS\"\n",
    "options = {\"disp\": True, \"maxiter\": 50, \"gtol\": 1e-6}\n",
    "opt = minimize(cost, init_theta_list,\n",
    "               method=method,\n",
    "               callback=callback)"
   ]
  },
  {
   "attachments": {},
   "cell_type": "markdown",
   "metadata": {},
   "source": [
    "Plotting the execution result, we can see that it has converged to the correct solution."
   ]
  },
  {
   "cell_type": "code",
   "execution_count": 20,
   "metadata": {
    "colab": {},
    "colab_type": "code",
    "id": "t1c_ycEKsyMp"
   },
   "outputs": [
    {
     "data": {
      "image/png": "[encoded data removed]",
      "text/plain": [
       "<Figure size 432x288 with 1 Axes>"
      ]
     },
     "metadata": {
      "needs_background": "light"
     },
     "output_type": "display_data"
    }
   ],
   "source": [
    "plt.rcParams[\"font.size\"] = 18\n",
    "plt.plot(exp_history0, label=r\"input $|0000\\rangle$\")\n",
    "plt.plot(exp_history1, label=r\"input $|0001\\rangle$\")\n",
    "plt.plot(range(len(exp_history0)), [molecule.fci_energy]*len(exp_history0), linestyle=\"dashed\", color=\"black\", label=\"Exact ground state energy\")\n",
    "plt.plot(range(len(exp_history1)), [eigval[1]]*len(exp_history1), linestyle=\"-.\", color=\"black\", label=\"Exact 1st excited state energy\")\n",
    "plt.xlabel(\"Iteration\")\n",
    "plt.ylabel(\"Energy expectation value\")\n",
    "plt.legend(bbox_to_anchor=(1.05, 1), loc='upper left', borderaxespad=0, fontsize=18)\n",
    "plt.show()"
   ]
  },
  {
   "attachments": {},
   "cell_type": "markdown",
   "metadata": {},
   "source": [
    "### Reference\n",
    "[1] K. M Nakanishi, K. Mitarai, and K. Fujii, “Subspace-search variational quantum eigensolver for excited states”, Phys. Rev. Research 1, 033062 (2019),  https://arxiv.org/abs/1810.09434"
   ]
  }
 ],
 "metadata": {
  "colab": {
   "include_colab_link": true,
   "name": "VQE_H2.ipynb",
   "provenance": [],
   "toc_visible": true,
   "version": "0.3.2"
  },
  "kernelspec": {
   "display_name": "Python 3",
   "language": "python",
   "name": "python3"
  },
  "language_info": {
   "codemirror_mode": {
    "name": "ipython",
    "version": 3
   },
   "file_extension": ".py",
   "mimetype": "text/x-python",
   "name": "python",
   "nbconvert_exporter": "python",
   "pygments_lexer": "ipython3",
   "version": "3.7.5"
  },
  "varInspector": {
   "cols": {
    "lenName": 16,
    "lenType": 16,
    "lenVar": 40
   },
   "kernels_config": {
    "python": {
     "delete_cmd_postfix": "",
     "delete_cmd_prefix": "del ",
     "library": "var_list.py",
     "varRefreshCmd": "print(var_dic_list())"
    },
    "r": {
     "delete_cmd_postfix": ") ",
     "delete_cmd_prefix": "rm(",
     "library": "var_list.r",
     "varRefreshCmd": "cat(var_dic_list()) "
    }
   },
   "types_to_exclude": [
    "module",
    "function",
    "builtin_function_or_method",
    "instance",
    "_Feature"
   ],
   "window_display": false
  }
 },
 "nbformat": 4,
 "nbformat_minor": 1
}
