{
 "cells": [
  {
   "cell_type": "markdown",
   "metadata": {},
   "source": [
    "# Chapter 2: Introduction to Quantum Algorithms"
   ]
  },
  {
   "cell_type": "markdown",
   "metadata": {},
   "source": [
    "A quantum computer can process $2^n$ states simultaneously using $n$ qubits through quantum mechanical superposition. However, this alone does not imply speedup over classical computation. This is because when we observe the result after the computation, only one of the $2^n$ states is obtained at random. Therefore, it is essential to have a special algorithm for quantum computers designed to obtain the desired answer with high probability. Such an algorithm is called a **quantum algorithm**. Famous examples of quantum algorithms include Shor's prime factorization algorithm and Grover's search algorithm.\n",
    "\n",
    "In this chapter, we will learn the rudiments of quantum algorithms. First, we will see that quantum algorithms can be divided into two main types: algorithms that can be (or are thought to be) executed on quantum computers that will be realized in the next few years = \"NISQ devices\", and algorithms that can be  executed only on true quantum computers with error correction that will be realized in more than a decade from now. Next, we will learn the simplest quantum algorithm, the Hadamard test. After that, we will learn about the quantum Fourier transform and its development, the phase estimation algorithm, which is the most important quantum algorithm when considering applications of quantum computers. (Incidentally, both the quantum Fourier transform and the phase estimation algorithm are classified as long-term algorithms, since it is considered difficult to run a practical size problem on a NISQ device.)"
   ]
  },
  {
   "cell_type": "markdown",
   "metadata": {
    "nbsphinx-toctree": {}
   },
   "source": [
    "- [2-1. NISQ algorithm and long-term algorithm](2.1_NISQ_and_long_term.ipynb)\n",
    "- [2-2. Hadamard test](2.2_Hadamard_test.ipynb)\n",
    "- [Column：Quantum Random Number Generator](2.2c_quantum_random_number_generator.ipynb)\n",
    "- [2-3. Quantum Fourier transform](2.3_quantum_Fourier_transform.ipynb)\n",
    "- [2-4. Phase Estimation Algorithm（Introductory）](2.4_phase_estimation_beginner.ipynb)"
   ]
  }
 ],
 "metadata": {
  "celltoolbar": "Edit Metadata",
  "kernelspec": {
   "display_name": "Python 3",
   "language": "python",
   "name": "python3"
  },
  "language_info": {
   "codemirror_mode": {
    "name": "ipython",
    "version": 3
   },
   "file_extension": ".py",
   "mimetype": "text/x-python",
   "name": "python",
   "nbconvert_exporter": "python",
   "pygments_lexer": "ipython3",
   "version": "3.8.3"
  }
 },
 "nbformat": 4,
 "nbformat_minor": 2
}
