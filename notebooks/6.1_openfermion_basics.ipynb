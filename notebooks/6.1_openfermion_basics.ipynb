{
 "cells": [
  {
   "cell_type": "markdown",
   "metadata": {
    "colab_type": "text",
    "id": "aLkmvZhfKNxL"
   },
   "source": [
    "## 6-1. OpenFermion basics\n",
    "\n",
    "In this chapter, we introduce a method to convert the Hamiltonian of an interacting electron system into a form that is easy for quantum computers to handle using OpenFermion[1], a python library for quantum chemistry calculation. OpenFermion provides connectivity to the open source libraries for quantum chemical calculations [Psi4](http://www.psicode.org) and [PySCF](https://github.com/pyscf/pyscf). Even if you do not understand the details of how to use these libraries, you can obtain the Hamiltonian of the electron system that appears in quantum chemical calculations simply by entering the structure of the molecule. Here, we use PySCF."
   ]
  },
  {
   "cell_type": "code",
   "execution_count": null,
   "metadata": {},
   "outputs": [],
   "source": [
    "## If various libraries are not installed, please execute.\n",
    "## If you run on Google Colaboratory, ignore the following message waring, 'You must restart the runtime in order to use newly installed versions.'\n",
    "## Resuming runtime will lead to a crash.\n",
    "!pip install pyscf openfermion openfermionpyscf\n",
    "\n",
    "\n",
    "## Run only if you are in Google Colaboratory or in a local environment where Qulacs is not installed\n",
    "## Qulacs errors will now be output normally.\n",
    "!pip3 install wurlitzer\n",
    "%load_ext wurlitzer"
   ]
  },
  {
   "cell_type": "code",
   "execution_count": 1,
   "metadata": {
    "colab": {},
    "colab_type": "code",
    "id": "SHQqZCKoqKZy"
   },
   "outputs": [],
   "source": [
    "#Import required libraries\n",
    "#If you get an error, install openfermion later than v.1.0.0\n",
    "import numpy as np\n",
    "import matplotlib.pyplot as plt\n",
    "from openfermion.chem import MolecularData\n",
    "from openfermion.transforms import get_fermion_operator, jordan_wigner, bravyi_kitaev\n",
    "from openfermion.linalg import get_sparse_operator\n",
    "from openfermion.ops import FermionOperator\n",
    "from openfermionpyscf import run_pyscf\n",
    "from pyscf import fci"
   ]
  },
  {
   "cell_type": "markdown",
   "metadata": {
    "colab_type": "text",
    "id": "V2xllO3RqKaC"
   },
   "source": [
    "### Calculation of hydrogen molecule\n",
    "In OpenFermion, we enter data describing molecules into MolecularData class."
   ]
  },
  {
   "cell_type": "code",
   "execution_count": 2,
   "metadata": {
    "colab": {},
    "colab_type": "code",
    "id": "gjv2Tta9qKaH"
   },
   "outputs": [],
   "source": [
    "#define constants\n",
    "basis = \"sto-3g\"  #basis set\n",
    "multiplicity = 1  #spin multiplicity\n",
    "charge = 0        #total charge for the molecule\n",
    "distance = 0.65\n",
    "geometry = [(\"H\",(0,0,0)),(\"H\", (0,0,distance))]  #xyz coordinates for atoms\n",
    "description = str(distance)  #description for the psi4 output file\n",
    "\n",
    "molecule = MolecularData(geometry, basis, multiplicity, charge, description)"
   ]
  },
  {
   "cell_type": "markdown",
   "metadata": {
    "colab_type": "text",
    "id": "xDmWvEOFqKaS"
   },
   "source": [
    "### Variable description\n",
    "The meaning of the variables appearing in the above code is explained below.\n",
    "\n",
    "#### Basis: basis function\n",
    "Set basis functions for representing molecular orbitals. There are various basis sets such as sto-3g, 6-31G.\n",
    "\n",
    "sto-3g (Slater Type Orbital - 3 Gaussian) used here is a basis function that approximates Slater type orbital with 3 Gaussians.\n",
    "\n",
    "Slater type orbital is an orbital that resembles the solution of a hydrogen atom. As a radial function, we use \n",
    "\n",
    "$$R_{nl}(r) = r^{n-l} \\exp \\left(-\\frac{Z-s}{na_0}r\\right),$$\n",
    "\n",
    "In angular direction, we use spherical harmonic function $Y_{lm}(\\theta,\\phi)$.\n",
    "\n",
    "sto-3g uses a function which approximates this radial wavefunction $R_{nl}(r)$ with three Gaussians.\n",
    "\n",
    "#### Multiplicity: spin multiplicity\n",
    "Since electrons have a spin of 1/2, the spin multiplicity is 2 when one electron exists in isolation. However, in the case of a hydrogen molecule, electrons form a singlet in the ground state, and the total spin is 0. Since spin 0 has only one state, the spin multiplicity is set to 1 in this case.\n",
    "\n",
    "#### Charge: total charge\n",
    "Input the total charge. When considering an ion, it becomes + or −.\n",
    "\n",
    "#### Geometry: nuclear configuration\n",
    "Specify atomic species and their coordinates in x,y,z.\n",
    "\n",
    "#### Description\n",
    "The output results calculated by PySCF are saved in the directory where the OpenFermion library is saved. This is a variable that determines the name of the file."
   ]
  },
  {
   "cell_type": "markdown",
   "metadata": {
    "colab_type": "text",
    "id": "snrWX5QLqKaW"
   },
   "source": [
    "### Calculation with PySCF\n",
    "Input the MolecularData set above to the function `run_pyscf` and perform quantum chemical calculations with PySCF. It should finish in a few seconds."
   ]
  },
  {
   "cell_type": "code",
   "execution_count": 3,
   "metadata": {
    "colab": {},
    "colab_type": "code",
    "id": "rw8wmzJNqKaZ"
   },
   "outputs": [],
   "source": [
    "molecule = run_pyscf(molecule,run_scf=1,run_fci=1)                                      "
   ]
  },
  {
   "cell_type": "markdown",
   "metadata": {
    "colab_type": "text",
    "id": "vAN3PVSSqKah"
   },
   "source": [
    "### HF & Full-CI energy\n",
    "Let's take a look at the Hartree-Fock energy and Full-CI energy (=exact basis energy) calculated by PySCF. (1 Hartree = 27.2116 eV)"
   ]
  },
  {
   "cell_type": "code",
   "execution_count": 4,
   "metadata": {
    "colab": {
     "base_uri": "https://localhost:8080/",
     "height": 51
    },
    "colab_type": "code",
    "id": "W2IzSYSnqKal",
    "outputId": "568d4e86-f002-453a-c775-4ce7ea9dd241"
   },
   "outputs": [
    {
     "name": "stdout",
     "output_type": "stream",
     "text": [
      "HF energy: -1.1129965456691684 (Hartree)\n",
      "FCI energy: -1.1299047843229135 (Hartree)\n"
     ]
    }
   ],
   "source": [
    "print(\"HF energy: {} (Hartree)\".format(molecule.hf_energy))\n",
    "print(\"FCI energy: {} (Hartree)\".format(molecule.fci_energy))"
   ]
  },
  {
   "cell_type": "markdown",
   "metadata": {
    "colab_type": "text",
    "id": "qycXJ0UdqKa1"
   },
   "source": [
    "### One-Electron integral $h_{ij}$・Two-Electron integral $h_{ijkl}$\n",
    "Quantities such as the one-electron and two-electron integrals are also stored in the MolecularData class."
   ]
  },
  {
   "cell_type": "code",
   "execution_count": 5,
   "metadata": {
    "colab": {
     "base_uri": "https://localhost:8080/",
     "height": 51
    },
    "colab_type": "code",
    "id": "_eqIPOQQqKa5",
    "outputId": "71073959-0bf1-41ad-d01f-c9539b25c37b"
   },
   "outputs": [
    {
     "name": "stdout",
     "output_type": "stream",
     "text": [
      "[[-1.30950987e+00  1.98461056e-17]\n",
      " [ 8.14840166e-17 -4.10026381e-01]]\n"
     ]
    }
   ],
   "source": [
    "print(molecule.one_body_integrals)"
   ]
  },
  {
   "cell_type": "code",
   "execution_count": 6,
   "metadata": {
    "colab": {
     "base_uri": "https://localhost:8080/",
     "height": 221
    },
    "colab_type": "code",
    "id": "PBbYAhv-qKbE",
    "outputId": "9a005bf2-9ed7-45f3-d468-2e865783894d"
   },
   "outputs": [
    {
     "name": "stdout",
     "output_type": "stream",
     "text": [
      "[[[[ 6.91904405e-01 -4.16333634e-17]\n",
      "   [-2.77555756e-17  1.76318452e-01]]\n",
      "\n",
      "  [[-2.77555756e-17  1.76318452e-01]\n",
      "   [ 6.79683914e-01  0.00000000e+00]]]\n",
      "\n",
      "\n",
      " [[[-4.16333634e-17  6.79683914e-01]\n",
      "   [ 1.76318452e-01  8.32667268e-17]]\n",
      "\n",
      "  [[ 1.76318452e-01  8.32667268e-17]\n",
      "   [ 0.00000000e+00  7.14671111e-01]]]]\n"
     ]
    }
   ],
   "source": [
    "print(molecule.two_body_integrals)"
   ]
  },
  {
   "cell_type": "markdown",
   "metadata": {
    "colab_type": "text",
    "id": "plSb-CFnqKbQ"
   },
   "source": [
    "### Hamiltonian in second quantized form\n",
    "OpenFermion computes the Hamiltonian of the second quantized form from these integrals.\n",
    "\n",
    "$$H = \\sum_{ij} h_{ij}c_i^\\dagger c_j + \\sum_{ijkl} h_{ijkl} c_i^\\dagger c_j^\\dagger c_k c_l$$\n",
    "\n",
    "(For the second quantization, see e.g. reference [2]). The Hamiltonian can be calculated by calling the `get_molecular_hamiltonian` method.\n",
    "\n",
    "For example, (3,1) represents $c_3^\\dagger$, while (1,0) is used to denote $c_1$ ."
   ]
  },
  {
   "cell_type": "code",
   "execution_count": 7,
   "metadata": {
    "colab": {
     "base_uri": "https://localhost:8080/",
     "height": 663
    },
    "colab_type": "code",
    "id": "S6Pr10LqqKbS",
    "outputId": "1e644401-8218-4c71-c3e0-66f4c407bd6c"
   },
   "outputs": [
    {
     "name": "stdout",
     "output_type": "stream",
     "text": [
      "() 0.8141187860307693\n",
      "((0, 1), (0, 0)) -1.309509868464871\n",
      "((1, 1), (1, 0)) -1.309509868464871\n",
      "((2, 1), (2, 0)) -0.4100263808117837\n",
      "((3, 1), (3, 0)) -0.4100263808117837\n",
      "((0, 1), (0, 1), (0, 0), (0, 0)) 0.3459522026149022\n",
      "((0, 1), (0, 1), (2, 0), (2, 0)) 0.0881592258051036\n",
      "((0, 1), (1, 1), (1, 0), (0, 0)) 0.3459522026149022\n",
      "((0, 1), (1, 1), (3, 0), (2, 0)) 0.0881592258051036\n",
      "((0, 1), (2, 1), (0, 0), (2, 0)) 0.0881592258051036\n",
      "((0, 1), (2, 1), (2, 0), (0, 0)) 0.3398419569652305\n",
      "((0, 1), (3, 1), (1, 0), (2, 0)) 0.0881592258051036\n",
      "((0, 1), (3, 1), (3, 0), (0, 0)) 0.3398419569652305\n",
      "((1, 1), (0, 1), (0, 0), (1, 0)) 0.3459522026149022\n",
      "((1, 1), (0, 1), (2, 0), (3, 0)) 0.0881592258051036\n",
      "((1, 1), (1, 1), (1, 0), (1, 0)) 0.3459522026149022\n",
      "((1, 1), (1, 1), (3, 0), (3, 0)) 0.0881592258051036\n",
      "((1, 1), (2, 1), (0, 0), (3, 0)) 0.0881592258051036\n",
      "((1, 1), (2, 1), (2, 0), (1, 0)) 0.3398419569652305\n",
      "((1, 1), (3, 1), (1, 0), (3, 0)) 0.0881592258051036\n",
      "((1, 1), (3, 1), (3, 0), (1, 0)) 0.3398419569652305\n",
      "((2, 1), (0, 1), (0, 0), (2, 0)) 0.33984195696523034\n",
      "((2, 1), (0, 1), (2, 0), (0, 0)) 0.0881592258051036\n",
      "((2, 1), (1, 1), (1, 0), (2, 0)) 0.33984195696523034\n",
      "((2, 1), (1, 1), (3, 0), (0, 0)) 0.0881592258051036\n",
      "((2, 1), (2, 1), (0, 0), (0, 0)) 0.0881592258051036\n",
      "((2, 1), (2, 1), (2, 0), (2, 0)) 0.35733555551906837\n",
      "((2, 1), (3, 1), (1, 0), (0, 0)) 0.0881592258051036\n",
      "((2, 1), (3, 1), (3, 0), (2, 0)) 0.35733555551906837\n",
      "((3, 1), (0, 1), (0, 0), (3, 0)) 0.33984195696523034\n",
      "((3, 1), (0, 1), (2, 0), (1, 0)) 0.0881592258051036\n",
      "((3, 1), (1, 1), (1, 0), (3, 0)) 0.33984195696523034\n",
      "((3, 1), (1, 1), (3, 0), (1, 0)) 0.0881592258051036\n",
      "((3, 1), (2, 1), (0, 0), (1, 0)) 0.0881592258051036\n",
      "((3, 1), (2, 1), (2, 0), (3, 0)) 0.35733555551906837\n",
      "((3, 1), (3, 1), (1, 0), (1, 0)) 0.0881592258051036\n",
      "((3, 1), (3, 1), (3, 0), (3, 0)) 0.35733555551906837\n",
      "\n"
     ]
    }
   ],
   "source": [
    "print(molecule.get_molecular_hamiltonian())"
   ]
  },
  {
   "cell_type": "markdown",
   "metadata": {
    "colab_type": "text",
    "id": "Lf7P1JckqKba"
   },
   "source": [
    "### Convert to tractable operators for quantum computers\n",
    "The easiest to handle on a quantum computer are the Pauli operators $I, X, Y, Z$ and their tensor products. Therefore, in order to treat the Hamiltonian of ordinary electrons with a quantum computer, convert the Hamiltonian of the second quantization form\n",
    "\n",
    "$$H_{fermion} = \\sum_i h_{ij}c_i^\\dagger c_j + \\sum_{ijkl} h_{ijkl} c_i^\\dagger c_j^\\dagger c_k c_l$$\n",
    "\n",
    "to \n",
    "\n",
    "$$H_{qubit} = \\sum_{P\\in \\{I,X,Y,Z\\}^{\\otimes n}} h_{P} P$$\n",
    "\n",
    "Various transformation methods have been proposed, but here we use the simplest one, called the Jordan-Wigner transformation. In the Jordan-Wigner transformation, the molecular orbital $i$ corresponds to the $i$-th qubit. The state that the molecular orbital is occupied by an electron is represented with $|1\\rangle$, otherwise $|0\\rangle$.\n",
    "\n",
    "Under such a convention, constructing the Pauli operator so as to satisfy the anticommutation relation of the following creation-annihilation operator of fermion,\n",
    "\n",
    "$$\n",
    "\\{c^\\dagger_i, c^\\dagger_j\\} = c^\\dagger_i c^\\dagger_j + c^\\dagger_j c^\\dagger_i = 0,  \\:\n",
    "\\{c_i, c_j\\} = 0,  \\:\n",
    "\\{c^\\dagger_i, c_j\\} = \\delta_{ij}\n",
    "$$\n",
    "\n",
    " we obtain\n",
    "\n",
    " $$\n",
    "a^{\\dagger}_{j} \\leftrightarrow \\frac{X_j-iY_j}{2}\\otimes Z_{j-1}\\otimes Z_{j-2} \\cdots Z_{1}\n",
    "$$\n",
    "\n",
    "For transformation methods other than the Jordan-Wigner transformation, see [2][3].\n",
    "\n",
    "Jordan-Wigner transformation is implemented in OpenFermion. By passing `FermionOperator` to `jordan_wigner` function, it will return `QubitOperator` corresponding to the Jordan-Wigner transformation of that operator. Below, the `FermionOperator` is created from the `MolecularData` of the hydrogen molecule created above, and the Jordan-Wigner transform is used to convert the Hamiltonian of the hydrogen molecule into a form that can be easily handled by a quantum computer."
   ]
  },
  {
   "cell_type": "code",
   "execution_count": 8,
   "metadata": {
    "colab": {
     "base_uri": "https://localhost:8080/",
     "height": 272
    },
    "colab_type": "code",
    "id": "ZOCCRVsLqKbd",
    "outputId": "0be2587e-a456-4de7-d7f4-c1fc9b1b49d0"
   },
   "outputs": [
    {
     "name": "stdout",
     "output_type": "stream",
     "text": [
      "(0.0377511039464572+0j) [] +\n",
      "(-0.0440796129025518+0j) [X0 X1 Y2 Y3] +\n",
      "(0.0440796129025518+0j) [X0 Y1 Y2 X3] +\n",
      "(0.0440796129025518+0j) [Y0 X1 X2 Y3] +\n",
      "(-0.0440796129025518+0j) [Y0 Y1 X2 X3] +\n",
      "(0.18601648886230573+0j) [Z0] +\n",
      "(0.1729761013074511+0j) [Z0 Z1] +\n",
      "(0.12584136558006342+0j) [Z0 Z2] +\n",
      "(0.16992097848261523+0j) [Z0 Z3] +\n",
      "(0.18601648886230576+0j) [Z1] +\n",
      "(0.16992097848261523+0j) [Z1 Z2] +\n",
      "(0.12584136558006342+0j) [Z1 Z3] +\n",
      "(-0.26941693141632095+0j) [Z2] +\n",
      "(0.17866777775953419+0j) [Z2 Z3] +\n",
      "(-0.26941693141632095+0j) [Z3]\n"
     ]
    }
   ],
   "source": [
    "jw_hamiltonian = jordan_wigner(get_fermion_operator(molecule.get_molecular_hamiltonian()))\n",
    "print(jw_hamiltonian)"
   ]
  },
  {
   "cell_type": "markdown",
   "metadata": {
    "colab_type": "text",
    "id": "QsEdGQAsqKbq"
   },
   "source": [
    "Let's calculate the Hartree-Fock (HF) energy from this Hamiltonian. In the Jordan-Wigner transform, the qubit $\\left|0\\right\\rangle, \\left|1\\right\\rangle$ and the orbital occupancy numbers correspond one-to-one. Therefore, in order to calculate the HF energy, calculate the expected value for $\\left|1100\\right\\rangle$. Because there are 2 electrons, the state is filled with 1 twice from the bottom."
   ]
  },
  {
   "cell_type": "code",
   "execution_count": 9,
   "metadata": {
    "colab": {
     "base_uri": "https://localhost:8080/",
     "height": 51
    },
    "colab_type": "code",
    "id": "EDZ_-903qKbr",
    "outputId": "25e7e773-4ba7-4692-cf68-dd1eb30219c5"
   },
   "outputs": [
    {
     "name": "stdout",
     "output_type": "stream",
     "text": [
      "[[0 0 0 0 0 0 0 0 0 0 0 0 1 0 0 0]]\n",
      "[[-1.11299655]] -1.1129965456691684\n"
     ]
    }
   ],
   "source": [
    "# function for computing the tensor product\n",
    "def kron_N(*ops):\n",
    "    tmp = ops[0]\n",
    "    for op in ops[1:]:\n",
    "        tmp = np.kron(tmp,op)\n",
    "    return tmp\n",
    "\n",
    "bra0 = np.array([[1,0]])\n",
    "bra1 = np.array([[0,1]])\n",
    "HFbra = kron_N(bra1, bra1, bra0, bra0)\n",
    "HFket = HFbra.T\n",
    "print(HFbra)\n",
    "jw_matrix = get_sparse_operator(jw_hamiltonian)\n",
    "print(np.real(HFbra.dot(jw_matrix.dot(HFket))), molecule.hf_energy)"
   ]
  },
  {
   "cell_type": "markdown",
   "metadata": {
    "colab_type": "text",
    "id": "u8SoJJhpqKbw"
   },
   "source": [
    "It can be confirmed that it almost matches the calculation of PySCF."
   ]
  },
  {
   "cell_type": "markdown",
   "metadata": {
    "colab_type": "text",
    "id": "yz1epiKwqKby"
   },
   "source": [
    "Now let's diagonalize the Hamiltonian and see that the result agrees with the Full-CI (exact solution) energy."
   ]
  },
  {
   "cell_type": "code",
   "execution_count": 10,
   "metadata": {
    "colab": {
     "base_uri": "https://localhost:8080/",
     "height": 34
    },
    "colab_type": "code",
    "id": "S9jE0zgwqKb0",
    "outputId": "8d6302f7-6e33-413a-b4c5-cb20b8faca63"
   },
   "outputs": [
    {
     "name": "stdout",
     "output_type": "stream",
     "text": [
      "-1.129904784322913 -1.1299047843229135\n"
     ]
    }
   ],
   "source": [
    "eigenenergies, eigenvecs = np.linalg.eigh(jw_matrix.toarray())\n",
    "print(eigenenergies[0], molecule.fci_energy)"
   ]
  },
  {
   "cell_type": "markdown",
   "metadata": {
    "colab_type": "text",
    "id": "SnJXHStwqKb6"
   },
   "source": [
    "It can be confirmed that this also almost matches. The ground state wavefunction $\\left|\\psi_g\\right\\rangle$ is"
   ]
  },
  {
   "cell_type": "code",
   "execution_count": 11,
   "metadata": {
    "colab": {
     "base_uri": "https://localhost:8080/",
     "height": 153
    },
    "colab_type": "code",
    "id": "m2C66KS9qKb7",
    "outputId": "ee44b9d0-031d-4e6d-c65c-2b944bf701a0"
   },
   "outputs": [
    {
     "name": "stdout",
     "output_type": "stream",
     "text": [
      "[ 0.        +0.j  0.        +0.j  0.        +0.j  0.09545811+0.j\n",
      "  0.        +0.j  0.        +0.j  0.        +0.j  0.        +0.j\n",
      "  0.        +0.j  0.        +0.j  0.        +0.j  0.        +0.j\n",
      " -0.99543345+0.j  0.        +0.j  0.        +0.j  0.        +0.j]\n"
     ]
    }
   ],
   "source": [
    "print(eigenvecs[:,0])"
   ]
  },
  {
   "cell_type": "markdown",
   "metadata": {
    "colab_type": "text",
    "id": "0wOL81vSqKcA"
   },
   "source": [
    "$\\left|\\psi_g \\right\\rangle \\approx - 0.995\\left|1100\\right\\rangle + 0.0955 \\left|0011\\right\\rangle$. It turns out that the Hartree-Fock solution $\\left|1100\\right\\rangle$ is slightly combined with the two-electron excited state $\\left|0011\\right\\rangle$."
   ]
  },
  {
   "cell_type": "markdown",
   "metadata": {
    "colab_type": "text",
    "id": "51kE-kf9FKWs"
   },
   "source": [
    "### Reference\n",
    "\n",
    "[1]  R. Babbush and J. McClean, “Announcing OpenFermion: The Open Source Package for Quantum Computers”, Google AI Blog, https://ai.googleblog.com/2017/10/announcing-openfermion-open-source.html  \n",
    "[2] A. Tranter, P. J. Love, F. Mintert, and P. V. Convey, “A Comparison of the Bravyi and Jordan-Wigner Transformations for the Quantum Simulation of Quantum Chemistry“,  [J. Chem. Theory Comput. 2018, 14, 11, 5617-5630](https://pubs.acs.org/doi/10.1021/acs.jctc.8b00450)  \n",
    "[3] S. McArdle, S. Endo, A. Aspuru-Guzik, S. Benjamin, X. Yuan, “Quantum computational chemistry”, [arXiv:1808.10402](https://arxiv.org/abs/1808.10402)"
   ]
  }
 ],
 "metadata": {
  "accelerator": "GPU",
  "colab": {
   "collapsed_sections": [],
   "name": "openfermion_basics.ipynb",
   "provenance": [],
   "version": "0.3.2"
  },
  "kernelspec": {
   "display_name": "Python 3",
   "language": "python",
   "name": "python3"
  },
  "language_info": {
   "codemirror_mode": {
    "name": "ipython",
    "version": 3
   },
   "file_extension": ".py",
   "mimetype": "text/x-python",
   "name": "python",
   "nbconvert_exporter": "python",
   "pygments_lexer": "ipython3",
   "version": "3.7.5"
  },
  "varInspector": {
   "cols": {
    "lenName": 16,
    "lenType": 16,
    "lenVar": 40
   },
   "kernels_config": {
    "python": {
     "delete_cmd_postfix": "",
     "delete_cmd_prefix": "del ",
     "library": "var_list.py",
     "varRefreshCmd": "print(var_dic_list())"
    },
    "r": {
     "delete_cmd_postfix": ") ",
     "delete_cmd_prefix": "rm(",
     "library": "var_list.r",
     "varRefreshCmd": "cat(var_dic_list()) "
    }
   },
   "types_to_exclude": [
    "module",
    "function",
    "builtin_function_or_method",
    "instance",
    "_Feature"
   ],
   "window_display": false
  }
 },
 "nbformat": 4,
 "nbformat_minor": 1
}
