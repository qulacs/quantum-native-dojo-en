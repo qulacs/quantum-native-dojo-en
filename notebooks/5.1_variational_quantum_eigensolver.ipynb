{
 "cells": [
  {
   "cell_type": "markdown",
   "metadata": {},
   "source": [
    "\n",
    "\n",
    "## 5-1. Variational Quantum Eigensolver (VQE) Algorithm\n",
    "\n",
    "First, we introduce the VQE (Variational Quantum Eigensolver) algorithm, which is expected to be applied to material science and quantum chemistry. This algorithm is used to find the value of the ground energy of matter.\n",
    "\n",
    "### Background\n",
    "\n",
    "It is believed that the properties of molecules and matter are mostly determined by the motion of electrons in them. Therefore, by solving the Schrodinger equation, which is the equation governing electrons, (see [4-1](4.1_quantum_simulation.ipynb))\n",
    "\n",
    "$$ H|\\psi\\rangle = E|\\psi\\rangle$$\n",
    "\n",
    " the properties of molecules and matter can be revealed by calculation. Here $H$ is an operator (matrix) called the Hamiltonian, which is determined by the details of the system, such as the shape of the molecules. As can be seen from the form $H|\\psi\\rangle = E|\\psi\\rangle$, solving the Schrodinger equation is equivalent to solving the eigenvalue problem for the Hamiltonian $H$ and finding the eigenvalues $E_i$ and the corresponding eigenvectors (also called eigenstates) $|\\phi_i\\rangle$. The eigenvalue $E_i$ is the energy of the eigenstate $|\\phi_i\\rangle$.\n",
    "\n",
    "In chemistry, solving this problem is called **quantum chemical calculation**, and there is still active research on how to solve this problem. The problem becomes exponentially more difficult as the number of electrons increase, so that it is practically impossible to solve it exactly when the size of the molecule or the unit lattice of the crystal becomes large. Therefore, various approximate solutions are being studied. The difficulty of this problem is caused by the fact that $H$ is a matrix acting on the quantum state, and its dimension grows exponentially as the number of particles increases."
   ]
  },
  {
   "cell_type": "markdown",
   "metadata": {},
   "source": [
    "### Variational Methods\n",
    "Unless we consider extreme environments, electrons are usually in the lowest energy state, i.e., the ground state. Therefore, among the eigenstates, the ground state is of particular interest.\n",
    "\n",
    "The **variational method** is a powerful method for finding the ground state of a Hamiltonian of very large dimension. The variational method uses the fact that for any given state $|\\psi\\rangle$, its energy expectation value will always be higher than the ground energy $E_0$, i.e., \n",
    "\n",
    "$$\\langle \\psi|H|\\psi\\rangle \\geq E_0$$\n",
    "\n",
    "(This is also called the variational principle.) From this, if we bring many states $\\{|\\psi_i\\rangle\\}$ at random and find the state with the lowest energy among them, we would expect it to be the state closest to the ground state in $\\{|\\psi_i\\rangle\\}$.\n",
    "\n",
    "In fact, if we were to bring states at random, the probability of finding a state close to the ground state would be exponentially small in relation to the size of the system. Therefore, the usual approach is to construct a parameterized quantum state $|\\psi(\\theta)\\rangle$ (where $\\theta$ is a parameter) based on physical and chemical intuition and experience, and find the $\\theta$ that minimizes\n",
    "\n",
    "$$\\langle \\psi(\\theta)|H|\\psi(\\theta)\\rangle$$\n",
    "\n",
    "For the convenience of performing calculations on a classical computer, it has been necessary to select a quantum state $|\\psi(\\theta)\\rangle$  that can be efficiently described by a classical computer."
   ]
  },
  {
   "cell_type": "markdown",
   "metadata": {},
   "source": [
    "### What is VQE?\n",
    "\n",
    "VQE is **an algorithm that searches for ground states using quantum states that can be efficiently described by a quantum computer.**\n",
    "\n",
    "### Variational Methods\n",
    "\n",
    "The algorithm is as follows:\n",
    "\n",
    "1. generate a quantum state $|\\psi(\\theta)\\rangle$ on a quantum computer.\n",
    "\n",
    "2. measure $\\langle H(\\theta)\\rangle = \\langle \\psi(\\theta)|H|\\psi(\\theta)\\rangle$ \n",
    "\n",
    "3. Based on the measurement results, determine the $\\theta$ such that $\\langle \\psi(\\theta)|H|\\psi(\\theta)\\rangle$ becomes smaller using a classical computer.\n",
    "\n",
    "This is repeated until $\\langle\\psi(\\theta)|H|\\psi(\\theta)\\rangle$ converges to obtain an approximate ground state.  \n",
    "\n",
    "! [VQE-concept](figs/5/VQE_concept.png)\n",
    "\n",
    "(Figure cited from reference [1])\n",
    "\n",
    "### Example Implementation\n",
    "\n",
    "Below is an example implementation of VQE using numpy. (Of course, it can be easily implemented in QURI Parts as well, so readers who can afford to do so are encouraged to try.)   \n",
    "Here we find the ground energy of H-He$^+$ (helium hydride ion). We will use two qubits and implement them according to reference [1].\n",
    "\n",
    "### Preparation of quantum gates"
   ]
  },
  {
   "cell_type": "code",
   "execution_count": 2,
   "metadata": {},
   "outputs": [],
   "source": [
    "import numpy as np\n",
    "nqubits = 2\n",
    "### Prepare the Pauli operator.\n",
    "pI = np.array([[1+0.0j,0+0.0j],[0+0.0j,1+0.0j]])\n",
    "pX = np.array([[0+0.0j,1+0.0j],[1+0.0j,0+0.0j]])\n",
    "pZ = np.array([[1+0.0j,0+0.0j],[0+0.0j,-1+0.0j]])\n",
    "pY = np.array([[0+0.0j,-1.0j],[0.0+1.0j,0.0+0.0j]])\n",
    "pHad = (pX+pZ)/np.sqrt(2)\n",
    "pP0 = (pI+pZ)/2\n",
    "pP1 = (pI-pZ)/2"
   ]
  },
  {
   "cell_type": "code",
   "execution_count": 3,
   "metadata": {},
   "outputs": [],
   "source": [
    "#Convert the Pauli operator into a single quantum gate.\n",
    "X=[1]*(nqubits)\n",
    "Y=[1]*(nqubits)\n",
    "Z=[1]*(nqubits)\n",
    "H=[1]*(nqubits)\n",
    "P0=[1]*(nqubits)\n",
    "P1=[1]*(nqubits)\n",
    "\n",
    "for i in range(nqubits):\n",
    "    for j in range(nqubits):\n",
    "        if(i != j):\n",
    "            X[i] = np.kron(pI,X[i])\n",
    "            Y[i] = np.kron(pI,Y[i])\n",
    "            Z[i] = np.kron(pI,Z[i])\n",
    "            H[i] = np.kron(pI,H[i])\n",
    "            P0[i] = np.kron(pI,P0[i])\n",
    "            P1[i] = np.kron(pI,P1[i])\n",
    "        else:\n",
    "            X[i] = np.kron(pX,X[i])\n",
    "            Y[i] = np.kron(pY,Y[i])\n",
    "            Z[i] = np.kron(pZ,Z[i])\n",
    "            H[i] = np.kron(pHad,H[i])\n",
    "            P0[i] = np.kron(pP0,P0[i])\n",
    "            P1[i] = np.kron(pP1,P1[i])\n",
    "Ide = np.eye(2**nqubits)"
   ]
  },
  {
   "cell_type": "code",
   "execution_count": 4,
   "metadata": {},
   "outputs": [],
   "source": [
    "#2 prepare quantum gate\n",
    "CZ = [[0 for i in range(nqubits)] for j in range(nqubits)]\n",
    "CX = [[0 for i in range(nqubits)] for j in range(nqubits)]\n",
    "\n",
    "for i in range(nqubits):\n",
    "    for j in range(nqubits):\n",
    "        CZ[i][j]= (P0[i]+np.dot(P1[i],Z[j]))\n",
    "        CX[i][j]= (P0[i]+np.dot(P1[i],X[j]))"
   ]
  },
  {
   "cell_type": "code",
   "execution_count": 5,
   "metadata": {},
   "outputs": [],
   "source": [
    "#Prepare variational quantum gates (gates that allow specifying the angle of rotation with respect to X,Y,Z).\n",
    "\n",
    "from scipy.linalg import expm\n",
    "def RX(target,angle):\n",
    "    return expm(-0.5*angle*1.j*X[target])\n",
    "def RY(target,angle):\n",
    "    return expm(-0.5*angle*1.j*Y[target])\n",
    "def RZ(target,angle):\n",
    "    return expm(-0.5*angle*1.j*Z[target])"
   ]
  },
  {
   "cell_type": "code",
   "execution_count": 6,
   "metadata": {},
   "outputs": [],
   "source": [
    "#Prepare initial state|0000...0>.\n",
    "def StateZeros(nqubits):\n",
    "    State = np.zeros(2**nqubits)\n",
    "    State[0]=1\n",
    "    return State"
   ]
  },
  {
   "cell_type": "markdown",
   "metadata": {},
   "source": [
    "### Prepare the Hamiltonian.\n",
    "\n",
    "Based on reference [1] [Supplementary Information](https://static-content.springer.com/esm/art%3A10.1038%2Fncomms5213/MediaObjects/41467_2014_BFncomms5213_MOESM1050_ESM.pdf), define the coefficients of the Hamiltonian when the distance between H and He is $0.9$ angstroms. By finding the minimum energy eigenstates of this Hamiltonian, we can determine the properties of various H-He$^+$ molecules.\n",
    "\n",
    "※ This Hamiltonian is derived from the magnitude of the electron-nucleus Coulomb interaction and the Coulomb interaction between electrons. The details will be studied in the section on quantum chemical calculations in Chapter 6."
   ]
  },
  {
   "cell_type": "code",
   "execution_count": 8,
   "metadata": {},
   "outputs": [],
   "source": [
    "M = (-3.8505 * Ide  - 0.2288 * X[1] - 1.0466 * Z[1] - 0.2288 * X[0] +  0.2613 * np.dot(X[0],X[1]) + \\\n",
    "     0.2288 *np.dot(X[0],Z[1]) - 1.0466*Z[0] + 0.2288* np.dot(Z[0],X[1]) +  0.2356 * np.dot(Z[0],Z[1]) )/2"
   ]
  },
  {
   "cell_type": "markdown",
   "metadata": {},
   "source": [
    "### Preparing a quantum circuit\n",
    "\n",
    "Implement a variational quantum circuit in exactly the same form as in the paper as follows."
   ]
  },
  {
   "cell_type": "code",
   "execution_count": 14,
   "metadata": {},
   "outputs": [],
   "source": [
    "n_param = 6\n",
    "def TwoQubitPQC(phi):\n",
    "    state = StateZeros(2)\n",
    "    state = np.dot(RX(0,phi[0]),state)\n",
    "    state = np.dot(RZ(0,phi[1]),state)\n",
    "    state = np.dot(RX(1,phi[2]),state)\n",
    "    state = np.dot(RZ(1,phi[3]),state)\n",
    "    state = np.dot(CX[1][0],state)\n",
    "    state = np.dot(RZ(1,phi[4]),state)\n",
    "    state = np.dot(RX(1,phi[5]),state)\n",
    "    return state"
   ]
  },
  {
   "cell_type": "markdown",
   "metadata": {},
   "source": [
    "### Measuring the expected energy of a quantum state\n",
    "\n",
    "Define a function to calculate the energy expectation value of the output by the variational quantum circuit as follows."
   ]
  },
  {
   "cell_type": "code",
   "execution_count": 1,
   "metadata": {},
   "outputs": [],
   "source": [
    "#Convert a column vector to a row vector\n",
    "def ExpectVal(Operator,State):\n",
    "    BraState = np.conjugate(State.T) \n",
    "#Cross a matrix with a column vector and a row vector\n",
    "    tmp = np.dot(BraState,np.dot(Operator,State)) \n",
    "#the real part of an element\n",
    "    return np.real(tmp) "
   ]
  },
  {
   "cell_type": "markdown",
   "metadata": {},
   "source": [
    "### Minimizing the energy expectation value\n",
    "The Powell method implemented in `scipy.optimize.minimize` is one of the optimization methods that do not use gradient information. The initial values of the parameters are specified randomly."
   ]
  },
  {
   "cell_type": "code",
   "execution_count": 32,
   "metadata": {},
   "outputs": [
    {
     "data": {
      "image/png": "[encoded data removed]",
      "text/plain": [
       "<Figure size 432x288 with 1 Axes>"
      ]
     },
     "metadata": {
      "needs_background": "light"
     },
     "output_type": "display_data"
    }
   ],
   "source": [
    "import scipy.optimize\n",
    "import matplotlib.pyplot as plt\n",
    "\n",
    "def cost(phi):\n",
    "    return ExpectVal(M, TwoQubitPQC(phi))\n",
    "\n",
    "cost_val = [] \n",
    "#function to preserve changes in the cost function\n",
    "\n",
    "#This function is called for each iteration.\n",
    "def callback(phi):\n",
    "    global cost_val\n",
    "    cost_val.append(cost(phi))\n",
    "\n",
    "init = np.random.rand(n_param)\n",
    "callback(init)\n",
    "res = scipy.optimize.minimize(cost, init, \n",
    "                              method='Powell',\n",
    "                              callback=callback)\n",
    "plt.plot(cost_val)\n",
    "plt.xlabel(\"iteration\")\n",
    "plt.ylabel(\"energy expectation value\")\n",
    "plt.show()"
   ]
  },
  {
   "cell_type": "markdown",
   "metadata": {},
   "source": [
    "Let`s verify if the values calculated by VQE are correct by comparing them with the exact energy obtained by diagonalizing the Hamiltonian."
   ]
  },
  {
   "cell_type": "code",
   "execution_count": 23,
   "metadata": {},
   "outputs": [
    {
     "name": "stdout",
     "output_type": "stream",
     "text": [
      "-2.8626207640766816\n",
      "-2.8623984117519257\n"
     ]
    }
   ],
   "source": [
    "import scipy.linalg\n",
    "l, P = scipy.linalg.eigh(M)\n",
    "print(l[0])  #minimum eigenvalue\n",
    "print(cost(res.x)) #VQE result"
   ]
  },
  {
   "cell_type": "markdown",
   "metadata": {},
   "source": [
    "Although not identical to the eigenvalues calculated by the Powell method, they are the same to three decimal places, so we can say that we have an almost correct value.　\n",
    "\n",
    "Next, let us examine the case where noise exists at the output of the circuit. NISQ cannot avoid errors (noise) in the output, so it is very important to verify whether the algorithm works even with noise and how much noise it can withstand."
   ]
  },
  {
   "cell_type": "code",
   "execution_count": 24,
   "metadata": {},
   "outputs": [],
   "source": [
    "def cost(phi):\n",
    "    return ExpectVal(M,TwoQubitPQC(phi))+np.random.normal(0,0.01)\n",
    "\n",
    "def callback(phi):\n",
    "    global cost_val\n",
    "    cost_val.append(cost(phi))"
   ]
  },
  {
   "cell_type": "code",
   "execution_count": 34,
   "metadata": {},
   "outputs": [
    {
     "data": {
      "image/png": "[encoded data removed]",
      "text/plain": [
       "<Figure size 432x288 with 1 Axes>"
      ]
     },
     "metadata": {
      "needs_background": "light"
     },
     "output_type": "display_data"
    },
    {
     "name": "stdout",
     "output_type": "stream",
     "text": [
      "-2.862398401331204\n"
     ]
    }
   ],
   "source": [
    "cost_val=[]\n",
    "#history of cost function\n",
    "init = np.random.rand(6)\n",
    "callback(init)\n",
    "res = scipy.optimize.minimize(cost, init,\n",
    "                              method='Powell',\n",
    "                              callback=callback)\n",
    "plt.plot(cost_val)\n",
    "plt.xlabel(\"iteration\")\n",
    "plt.ylabel(\"energy expectation value\")\n",
    "plt.show()\n",
    "print(cost(res.x))"
   ]
  },
  {
   "cell_type": "markdown",
   "metadata": {},
   "source": [
    "If the noise is small, it is clear that the optimization can be performed in almost the same way. (Interested readers are encouraged to experiment with higher noise levels.)"
   ]
  },
  {
   "cell_type": "markdown",
   "metadata": {},
   "source": [
    "### Reference \n",
    "\n",
    "[1] A. Peruzzo _et al_. , “A variational eigenvalue solver on a photonic quantum processor“ [Nat. Commun. 5:4213 doi: 10.1038/ncomms5213 (2014)](https://www.nature.com/articles/ncomms5213) "
   ]
  },
  {
   "cell_type": "markdown",
   "metadata": {},
   "source": []
  }
 ],
 "metadata": {
  "kernelspec": {
   "display_name": "Python 3.9.5 64-bit ('3.9.5')",
   "language": "python",
   "name": "python3"
  },
  "language_info": {
   "codemirror_mode": {
    "name": "ipython",
    "version": 3
   },
   "file_extension": ".py",
   "mimetype": "text/x-python",
   "name": "python",
   "nbconvert_exporter": "python",
   "pygments_lexer": "ipython3",
   "version": "3.9.5"
  },
  "varInspector": {
   "cols": {
    "lenName": 16,
    "lenType": 16,
    "lenVar": 40
   },
   "kernels_config": {
    "python": {
     "delete_cmd_postfix": "",
     "delete_cmd_prefix": "del ",
     "library": "var_list.py",
     "varRefreshCmd": "print(var_dic_list())"
    },
    "r": {
     "delete_cmd_postfix": ") ",
     "delete_cmd_prefix": "rm(",
     "library": "var_list.r",
     "varRefreshCmd": "cat(var_dic_list()) "
    }
   },
   "types_to_exclude": [
    "module",
    "function",
    "builtin_function_or_method",
    "instance",
    "_Feature"
   ],
   "window_display": false
  },
  "vscode": {
   "interpreter": {
    "hash": "80f21df302999c09c3d444fe636c3228c9e442cf42cf86d38eb61dd3d3032f70"
   }
  }
 },
 "nbformat": 4,
 "nbformat_minor": 2
}
