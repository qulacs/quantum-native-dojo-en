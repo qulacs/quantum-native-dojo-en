{
 "cells": [
  {
   "attachments": {},
   "cell_type": "markdown",
   "metadata": {},
   "source": [
    "# Chapter 8: Quantum Search Algorithms\n",
    "\n",
    "Chapter 8 introduces quantum algorithms for solving so-called search problems such as database search.\n",
    "Quantum search algorithms are said to be computationally less expensive and faster than classical search algorithms, where computational complexity is defined as the number of times a function called oracle is accessed.\n",
    "In this chapter, the oracle is explained first, followed by a detailed description of Grover's algorithm, one of the most important examples of quantum search algorithms."
   ]
  },
  {
   "attachments": {},
   "cell_type": "markdown",
   "metadata": {
    "nbsphinx-toctree": {}
   },
   "source": [
    "- [8-1. Oracle](8.1_oracle.ipynb)\n",
    "- [8-2. Grover's algorithm](8.2_Grovers_algorithm.ipynb)"
   ]
  }
 ],
 "metadata": {
  "kernelspec": {
   "display_name": "Python 3",
   "language": "python",
   "name": "python3"
  },
  "language_info": {
   "codemirror_mode": {
    "name": "ipython",
    "version": 3
   },
   "file_extension": ".py",
   "mimetype": "text/x-python",
   "name": "python",
   "nbconvert_exporter": "python",
   "pygments_lexer": "ipython3",
   "version": "3.7.5"
  }
 },
 "nbformat": 4,
 "nbformat_minor": 2
}
