{
 "cells": [
  {
   "cell_type": "markdown",
   "metadata": {},
   "source": [
    "# Chapter 4 Quantum dynamics simulation \n",
    "\n",
    "In this chapter, we will learn about quantum dynamics simulation, which is considered as one of the most important applications of NISQ devices. First, in section 4-1, we will learn the minimum necessary knowledge to understand quantum dynamics, and in section 4-2, we implement a simulation of the dynamics of a concrete physical system using QURI Parts.\n",
    "\n",
    "*This chapter requires background knowledge of quantum mechanics. Readers unfamiliar with quantum mechanics may either skip it or refer to the references on quantum mechanics listed in the README, e.g. `2.2 The postulates of quantum mechanics` by Nielsen-Chuang. "
   ]
  },
  {
   "cell_type": "markdown",
   "metadata": {
    "nbsphinx-toctree": {}
   },
   "source": [
    "- [4-1. Quantum Simulation](4.1_quantum_simulation.ipynb)\n",
    "- [4-2. Trotter Decomposition](4.2_trotter_decomposition.ipynb)"
   ]
  }
 ],
 "metadata": {
  "celltoolbar": "Edit Metadata",
  "kernelspec": {
   "display_name": "Python 3",
   "language": "python",
   "name": "python3"
  },
  "language_info": {
   "codemirror_mode": {
    "name": "ipython",
    "version": 3
   },
   "file_extension": ".py",
   "mimetype": "text/x-python",
   "name": "python",
   "nbconvert_exporter": "python",
   "pygments_lexer": "ipython3",
   "version": "3.7.3"
  }
 },
 "nbformat": 4,
 "nbformat_minor": 2
}
