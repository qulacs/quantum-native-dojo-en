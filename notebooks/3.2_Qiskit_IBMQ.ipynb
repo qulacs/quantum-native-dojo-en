{
 "cells": [
  {
   "cell_type": "markdown",
   "metadata": {},
   "source": [
    "## 3-2. How to use Qiskit and IBM Q Experience\n",
    "IBM Q Experience is the world's first quantum computer released on the cloud by IBM on May 24, 2016 [[1]](https://quantumexperience.ng.bluemix.net/qx/experience). In this section, you will learn how to use IBM Q Experience and IBM's framework for quantum computation [Qiskit](https://qiskit.org).\n"
   ]
  },
  {
   "cell_type": "markdown",
   "metadata": {},
   "source": [
    "### Prepare an execution environment for IBM Q Experience\n",
    "#### Account registration\n",
    "1. first, create an account by clicking the Sign In button in the upper right corner of the IBM Q Experience web page [[1]](https://quantumexperience.ng.bluemix.net/qx/experience). \n",
    "2. You will be asked for an e-mail address and password or an account for an external service. Click the Sign Up button under Sign In button.\n",
    "3. Fill in the required information and click the Sign Up button. \n",
    "4. An e-mail will be sent to your registered e-mail address. Click the link in the e-mail. Then you will see the registration completion screen in a new window, and you can log in from the next time.\n",
    "\n",
    "#### Obtaining the API\n",
    " Now that you have registered for IBM Q Experience, the next step is to learn how to obtain the IBM Q Experience API necessary to access the actual IBM Q Experience device (a real quantum computer). \n",
    "\n",
    "1. after logging in, you will get a pop-up window saying \"Welcome to Experience!\". Close the window.\n",
    "2. click the icon in the upper right corner of the screen → \"My Account\" to see your registered account information \n",
    "3. click \"Advanced\" among \"Account,\" \"Community,\" and \"Advanced\" on the upper right corner of the screen. \n",
    "4. The \"API Token\" field is set to \"undefined,\" click the \"Regenerate\" button to generate the API. Click the \"Copy this token\" button next to it to paste the API into the clipboard.\n",
    "\n",
    "Incidentally, you can also use the GUI on the IBM Q Experience web page [[1]](https://quantumexperience.ng.bluemix.net/qx/experience) to generate and run circuits by drag and drop, or the Jupyter Notebook (called Qiskit Notebooks) can also be created and executed on the web page."
   ]
  },
  {
   "cell_type": "markdown",
   "metadata": {},
   "source": [
    "### Prepare a Qiskit execution environment\n",
    "Qiskit can be installed via pip. If you use the command line in your PC (command prompt on Windows, terminal on Mac), type `pip install qiskit` in the command line to run it. If you are using Google Colaboratory, you can use it by executing `!pip install qiskit` in the following cell."
   ]
  },
  {
   "cell_type": "code",
   "execution_count": null,
   "metadata": {},
   "outputs": [],
   "source": [
    "!pip install qiskit"
   ]
  },
  {
   "cell_type": "markdown",
   "metadata": {},
   "source": [
    "### Using Qiskit\n",
    "Qiskit is a Python framework, so the syntax is the same as Python. Before that, let's save the information necessary to use Qiskit in your local environment (you only need to do this step once for each environment)."
   ]
  },
  {
   "cell_type": "code",
   "execution_count": null,
   "metadata": {},
   "outputs": [],
   "source": [
    "## Put the token obtained above into \"MY_API_TOKEN\".\n",
    "from qiskit import IBMQ\n",
    "IBMQ.save_account('MY_API_TOKEN')"
   ]
  },
  {
   "cell_type": "markdown",
   "metadata": {},
   "source": [
    "In this section, we will learn how to generate a Bell state pair, $|\\Psi^{+}\\rangle=\\frac{|00\\rangle + |11\\rangle}{\\sqrt{2}}$, as an example."
   ]
  },
  {
   "cell_type": "code",
   "execution_count": 2,
   "metadata": {},
   "outputs": [],
   "source": [
    "##Import necessary modules\n",
    "from qiskit import IBMQ, QuantumCircuit, ClassicalRegister, QuantumRegister\n",
    "from qiskit import execute, Aer\n",
    "from qiskit.qasm import pi\n",
    "from qiskit.tools.visualization import plot_histogram, circuit_drawer\n",
    "import numpy as np"
   ]
  },
  {
   "cell_type": "code",
   "execution_count": 3,
   "metadata": {},
   "outputs": [
    {
     "data": {
      "text/plain": [
       "[<IBMQSimulator('ibmq_qasm_simulator') from IBMQ(hub='ibm-q', group='open', project='main')>,\n",
       " <IBMQBackend('ibmqx2') from IBMQ(hub='ibm-q', group='open', project='main')>,\n",
       " <IBMQBackend('ibmq_16_melbourne') from IBMQ(hub='ibm-q', group='open', project='main')>,\n",
       " <IBMQBackend('ibmq_vigo') from IBMQ(hub='ibm-q', group='open', project='main')>,\n",
       " <IBMQBackend('ibmq_ourense') from IBMQ(hub='ibm-q', group='open', project='main')>,\n",
       " <IBMQBackend('ibmq_london') from IBMQ(hub='ibm-q', group='open', project='main')>,\n",
       " <IBMQBackend('ibmq_burlington') from IBMQ(hub='ibm-q', group='open', project='main')>,\n",
       " <IBMQBackend('ibmq_essex') from IBMQ(hub='ibm-q', group='open', project='main')>]"
      ]
     },
     "execution_count": 3,
     "metadata": {},
     "output_type": "execute_result"
    }
   ],
   "source": [
    "# Load your account information. (You need to run IBMQ.save_account beforehand. If you want to use multiple accounts, do it here)\n",
    "provider = IBMQ.load_account()\n",
    "\n",
    "# See what backends are available for your account.\n",
    "provider.backends()"
   ]
  },
  {
   "cell_type": "markdown",
   "metadata": {},
   "source": [
    "Except for `'ibmq_qasm_simulator'` (32-qubit simulator), available resource is a real 5-qubit and 14-qubit quantum computer (you can find the details on the screen after login to IBM Q Experience). The following command will tell you which one is the most available and easy to throw a job on."
   ]
  },
  {
   "cell_type": "code",
   "execution_count": 4,
   "metadata": {},
   "outputs": [
    {
     "name": "stdout",
     "output_type": "stream",
     "text": [
      "Least busy backend:  ibmqx2\n"
     ]
    }
   ],
   "source": [
    "from qiskit.providers.ibmq import least_busy\n",
    "backend_lb = least_busy(provider.backends(simulator=False, operational=True))\n",
    "print(\"Least busy backend: \", backend_lb)"
   ]
  },
  {
   "cell_type": "markdown",
   "metadata": {},
   "source": [
    "It seems that `ibmqx2` is the least busy one, so let's use it as the real machine. First, let's run the quantum circuit on the simulator."
   ]
  },
  {
   "cell_type": "code",
   "execution_count": 5,
   "metadata": {},
   "outputs": [
    {
     "name": "stdout",
     "output_type": "stream",
     "text": [
      "{'00': 2089, '11': 2007}\n"
     ]
    },
    {
     "data": {
      "image/png": "[encoded data removed]",
      "text/plain": [
       "<Figure size 504x360 with 1 Axes>"
      ]
     },
     "execution_count": 5,
     "metadata": {},
     "output_type": "execute_result"
    }
   ],
   "source": [
    "#Generate a quantum register q.\n",
    "q = QuantumRegister(2)\n",
    "\n",
    "#Generate a quantum register c.\n",
    "c = ClassicalRegister(2)\n",
    "\n",
    "#Generate a quantum circuit between quantum register q and classical register c.\n",
    "qc = QuantumCircuit(q, c)\n",
    "\n",
    "#apply H-gate to the first qubit.\n",
    "qc.h(q[0])\n",
    "\n",
    "#Apply CNOT gate to the 1-2th qubit. (The first qubit is the control qubit, the second qubit is the target qubit)\n",
    "qc.cx(q[0],q[1])\n",
    "\n",
    "#pass the measured value of the first qubit to the first classical bit and the measured value of the second qubit to the second classical bit.\n",
    "qc.measure(q[0], c[0])\n",
    "qc.measure(q[1], c[1])\n",
    "\n",
    "#local simulator and least busy backend\n",
    "backend_sim = Aer.get_backend(\"qasm_simulator\")\n",
    "\n",
    "#run the quantum circuit qc 4096 times with the specified backend (backend_sim).\n",
    "result = execute(qc, backend_sim, shots=4096).result()\n",
    "\n",
    "#Output the results.\n",
    "print(result.get_counts(qc))\n",
    "\n",
    "#Draw a histogram of the results.\n",
    "plot_histogram(result.get_counts(qc))"
   ]
  },
  {
   "cell_type": "markdown",
   "metadata": {},
   "source": [
    "Since the generated state is $\\frac{|00\\rangle + |11\\rangle}{\\sqrt{2}}$, we can see that the probability of getting $|00\\rangle$ and $|11\\rangle$ are both close to 50% as shown in the formula. Next, let's look at the results from the actual machine. Note that it takes a very long time to obtain the results of the experiment on the actual machine."
   ]
  },
  {
   "cell_type": "code",
   "execution_count": 6,
   "metadata": {},
   "outputs": [
    {
     "name": "stdout",
     "output_type": "stream",
     "text": [
      "{'00': 1844, '11': 2041, '01': 107, '10': 104}\n"
     ]
    },
    {
     "data": {
      "image/png": "[encoded data removed]",
      "text/plain": [
       "<Figure size 504x360 with 1 Axes>"
      ]
     },
     "execution_count": 6,
     "metadata": {},
     "output_type": "execute_result"
    }
   ],
   "source": [
    "#Select the backend that was least busy\n",
    "backend_sim = backend_lb\n",
    "\n",
    "#Execute quantum circuit qc 4096 times with the specified backend (backend_sim).\n",
    "result = execute(qc, backend_sim, shots=4096).result()\n",
    "\n",
    "#Output the results.\n",
    "print(result.get_counts(qc))\n",
    "\n",
    "#Draw a histogram of the results.\n",
    "plot_histogram(result.get_counts(qc))"
   ]
  },
  {
   "cell_type": "markdown",
   "metadata": {},
   "source": [
    "The results from the actual machine show that $|01\\rangle$ and $|10\\rangle$, which cannot be obtained theoretically, are obtained. This is due to an error in the calculation process. This result clearly shows that today's quantum computers are called NISQ devices (medium-scale quantum computers that allow the generation of noise)."
   ]
  },
  {
   "cell_type": "markdown",
   "metadata": {},
   "source": [
    "### Reference\n",
    "\n",
    "[1] https://quantumexperience.ng.bluemix.net/qx/experience [online] ( 2019-02-13)"
   ]
  }
 ],
 "metadata": {
  "kernelspec": {
   "display_name": "Python 3",
   "language": "python",
   "name": "python3"
  },
  "language_info": {
   "codemirror_mode": {
    "name": "ipython",
    "version": 3
   },
   "file_extension": ".py",
   "mimetype": "text/x-python",
   "name": "python",
   "nbconvert_exporter": "python",
   "pygments_lexer": "ipython3",
   "version": "3.7.5"
  },
  "varInspector": {
   "cols": {
    "lenName": 16,
    "lenType": 16,
    "lenVar": 40
   },
   "kernels_config": {
    "python": {
     "delete_cmd_postfix": "",
     "delete_cmd_prefix": "del ",
     "library": "var_list.py",
     "varRefreshCmd": "print(var_dic_list())"
    },
    "r": {
     "delete_cmd_postfix": ") ",
     "delete_cmd_prefix": "rm(",
     "library": "var_list.r",
     "varRefreshCmd": "cat(var_dic_list()) "
    }
   },
   "types_to_exclude": [
    "module",
    "function",
    "builtin_function_or_method",
    "instance",
    "_Feature"
   ],
   "window_display": false
  }
 },
 "nbformat": 4,
 "nbformat_minor": 2
}
