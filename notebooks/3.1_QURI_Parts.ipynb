{
 "cells": [
  {
   "cell_type": "markdown",
   "metadata": {},
   "source": [
    "## 3-1. How to use QURI Parts"
   ]
  },
  {
   "cell_type": "markdown",
   "metadata": {},
   "source": [
    "<div class=\"alert alert-info\">\n",
    "    The up-to-date documentation of QURI Parts is available [here](https://quri-parts.qunasys.com/)\n",
    "</div>\n",
    "\n",
    "QURI Parts is an open source library suite for creating and executing quantum algorithms on various quantum computers and simulators. In this section, you will learn how to install and use basic functions provided by QURI Parts."
   ]
  },
  {
   "cell_type": "markdown",
   "metadata": {},
   "source": [
    "### Covered areas and components\n",
    "1. <b>Core components:</b><br>\n",
    "`quri-parts-circuit`: Quantum circuit (Gate, circuit, noise etc.)<br>\n",
    "`quri-parts-core`: General components (Operator, state, estimator, sampler etc.)<br>\n",
    "2. <b>Platform (device/simulator) support:</b> <br>\n",
    "<b>Quantum circuit simulators:</b><br>\n",
    "`quri-parts-qulacs`: Qulacs <br>\n",
    "`quri-parts-stim`: Stim <br>\n",
    "`quri-parts-itensor`: ITensor <br>\n",
    "<b>Quantum platforms/SDKs:</b> <br>\n",
    "`quri-parts-braket`: Amazon Braket SDK <br>\n",
    "`quri-parts-cirq`: Cirq (Only circuit conversion is supported yet) <br>\n",
    "`quri-parts-qiskit`: Qiskit (Circuit conversion and execution are not supported yet) <br>\n",
    "3. <b>Intermediate representation support:</b><br>\n",
    "`quri-parts-openqasm`: OpenQASM 3.0 <br>\n",
    "`quri-parts-algo`: Algorithm (Ansatz, optimizer, error mitigation etc.)<br>\n",
    "<b>Chemistry</b><br>\n",
    "`quri-parts-chem`: General concepts, Fermion-qubit mapping etc.<br>\n",
    "<b>Library support:</b> <br>\n",
    "`quri-parts-openfermion` <br>\n",
    "<br>\n",
    " <b>Installation of QURI Parts </b><br>\n",
    " QURI Parts requires Python 3.9.8 or later.\n",
    " Default installation only contains components not depending specific platforms (devices-simulators) or external libraries. You need to specify extras with square brackets to use those platforms and external libraries with QURI Parts: \n",
    " Use `pip` to install QURI Parts:<br>"
   ]
  },
  {
   "cell_type": "code",
   "execution_count": null,
   "metadata": {},
   "outputs": [],
   "source": [
    "## Default installation, no extras \n",
    " pip install quri-parts \n",
    "\n",
    "## Use Qulacs, a quantum circuit simulator \n",
    " pip install \"quri-parts[qulacs]\" \n",
    "\n",
    "## Use Amazon Braket SDK \n",
    " pip install \"quri-parts[braket]\" \n",
    "\n",
    "## Use Qulacs and OpenFermion, a quantum chemistry library for quantum computers \n",
    " pip install \"quri-parts[qulacs,openfermion]\" \n"
   ]
  },
  {
   "cell_type": "markdown",
   "metadata": {},
   "source": [
    "Currently available extras are as follows:\n",
    "`qulacs`,`braket`,`qiskit`,`cirq`,`openfermion`,`stim`,`openqasm`,`itensor`"
   ]
  },
  {
   "cell_type": "markdown",
   "metadata": {},
   "source": [
    "### Basic utilities of QURI Parts\n",
    "Quantum gates and circuits are essential when working on quantum computing.<br>\n",
    "Here we describe basic treatment of them in QURI Parts.<br>\n",
    "QURI Parts modules used in this tutorial: `quri-parts-circuit`, `quri-parts-core` and `quri-parts-qulacs`. You can install them as follows: <br>"
   ]
  },
  {
   "cell_type": "code",
   "execution_count": null,
   "metadata": {},
   "outputs": [],
   "source": [
    " pip install \"quri-parts[qulacs]\" \n"
   ]
  },
  {
   "cell_type": "markdown",
   "metadata": {},
   "source": [
    "### QuantumGate object\n",
    "In QURI Parts, a quantum gate is represented by a `QuantumGate` object (more precisely `NamedTuple`). A `QuantumGate` contains not only the kind of the gate but also some additional information such as gate parameters and qubits on which the gate acts. You can create gate objects using `QuantumGate`:"
   ]
  },
  {
   "cell_type": "code",
   "execution_count": null,
   "metadata": {},
   "outputs": [
    {
     "name": "stdout",
     "output_type": "stream",
     "text": [
      "QuantumGate(name= X, target_indices=(0,), control_indices=(), params=(), pauli_ids=()) \n",
      "QuantumGate(name= RX, target_indices=(1,), control_indices=(), params=(1.0471975511965976,), pauli_ids=()) \n",
      "QuantumGate(name= CNOT, target_indices=(1,), control_indices=(2,), params=(), pauli_ids=()) "
     ]
    }
   ],
   "source": [
    "from math import pi \n",
    "from quri_parts.circuit import QuantumGate \n",
    "gates = [ \n",
    "    # X gate acting on qubit 0 <\n",
    "    QuantumGate(\"X\", target_indices=(0,)), \n",
    "    # Rotation gate acting on qubit 1 with angle pi/3 \n",
    "    QuantumGate(\"RX\", target_indices=(1,), params=(pi/3,)), \n",
    "    # CNOT gate on control qubit 2 and target qubit 1 \n",
    "    QuantumGate(\"CNOT\", target_indices=(1,), control_indices=(2,)) \n",
    "] \n",
    "for gate in gates: \n",
    "print(gate)"
   ]
  },
  {
   "cell_type": "markdown",
   "metadata": {},
   "source": [
    "However it is more convenient to use factory functions: \n"
   ]
  },
  {
   "cell_type": "code",
   "execution_count": 2,
   "metadata": {},
   "outputs": [
    {
     "name": "stdout",
     "output_type": "stream",
     "text": [
      "QuantumGate(name= X, target_indices=(0,), control_indices=(), params=(), pauli_ids=()) \n",
      "QuantumGate(name= RX, target_indices=(1,), control_indices=(), params=(1.0471975511965976,), pauli_ids=()) \n",
      "QuantumGate(name= CNOT, target_indices=(1,), control_indices=(2,), params=(), pauli_ids=()) "
     ]
    }
   ],
   "source": [
    "##Import necessary modules\n",
    "from quri_parts.circuit import X, RX, CNOT \n",
    "gates = [\n",
    "    #X gate acting on qubit 0 <\n",
    "    X(0), \n",
    "    # Rotation gate acting on qubit 1 with angle pi/3 \n",
    "    RX(1, pi/3), \n",
    "    # CNOT gate on control qubit 2 and target qubit 1 \n",
    "    CNOT(2, 1) \n",
    "] \n",
    "\n",
    "for gate in gates: \n",
    "print(gate)"
   ]
  },
  {
   "cell_type": "markdown",
   "metadata": {},
   "source": [
    "### QuantumCircuit object\n",
    "You can construct a quantum circuit by specifying the number of qubits used in the circuit as follows:"
   ]
  },
  {
   "cell_type": "code",
   "execution_count": 3,
   "metadata": {},
   "outputs": [],
   "source": [
    "from quri_parts.circuit import QuantumCircuit\n",
    "\n",
    " # Create a circuit for 3 qubits\n",
    " circuit = QuantumCircuit(3)\n",
    " # Add an already created QuantumGate object \n",
    " circuit.add_gate(X(0))\n",
    " # Or use methods to add gates\n",
    " circuit.add_X_gate(0),\n",
    " circuit.add_RX_gate(1, pi/3) \n",
    " circuit.add_CNOT_gate(2, 1) \n",
    " circuit.add_PauliRotation_gate(target_qubits=(0, 1, 2), pauli_id_list=(1, 2, 3), angle=pi/3) "
   ]
  },
  {
   "cell_type": "markdown",
   "metadata": {},
   "source": [
    "A `QuantumCircuit` object has several properties:"
   ]
  },
  {
   "cell_type": "code",
   "execution_count": 4,
   "metadata": {},
   "outputs": [
    {
     "name": "stdout",
     "output_type": "stream",
     "text": [
      "Qubit count: 3\n",
      "Circuit depth: 3 \n",
      "# of gates in the circuit: 5 \n",
      "QuantumGate(name= X, target_indices=(0,), control_indices=(), params=(), pauli_ids=()) \n",
      "QuantumGate(name= X, target_indices=(0,), control_indices=(), params=(), pauli_ids=()) \n",
      "QuantumGate(name= RX, target_indices=(1,), control_indices=(), params=(1.0471975511965976,), pauli_ids=())\n",
      "QuantumGate(name= CNOT, target_indices=(1,), control_indices=(2,), params=(), pauli_ids=())\n",
      "QuantumGate(name= PauliRotation, target_indices=(0, 1, 2), control_indices=(), params=(1.0471975511965976,), pauli_ids=(1, 2, 3))"
     ]
    }
   ],
   "source": [
    "print(\"Qubit count:\", circuit.qubit_count) \n",
    "print(\"Circuit depth:\", circuit.depth)\n",
    "\n",
    "gates = circuit.gates # .gates returns the gates in the circuit as a sequence \n",
    "print(\"# of gates in the circuit:\", len(gates))\n",
    "for gate in gates:\n",
    "    print(gate)"
   ]
  },
  {
   "cell_type": "markdown",
   "metadata": {},
   "source": [
    "`QuantumCircuit` objects with the same number of qubits can be combined and extended:"
   ]
  },
  {
   "cell_type": "code",
   "execution_count": 5,
   "metadata": {},
   "outputs": [
    {
     "name": "stdout",
     "output_type": "stream",
     "text": [
      "Combined circuit: (QuantumGate(name= X , target_indices=(0,), control_indices=(), params=(), pauli_ids=()), QuantumGate(name= X , target_indices=(0,), control_indices=(), params=(), pauli_ids=()), QuantumGate(name= RX, target_indices=(1,), control_indices=(), params=(1.0471975511965976,), pauli_ids=()), QuantumGate(name= CNOT, target_indices=(1,), control_indices=(2,), params=(), pauli_ids=()), QuantumGate(name= PauliRotation, target_indices=(0, 1, 2), control_indices=(), params=(1.0471975511965976,), pauli_ids=(1, 2, 3)), QuantumGate(name='Y', target_indices=(1,), control_indices=(), params=(), pauli_ids=()), QuantumGate(name= H, target_indices=(2,), control_indices=(), params=(), pauli_ids=()))\n",
      "Extended circuit: (QuantumGate(name= Y, target_indices=(1,), control_indices=(), params=(), pauli_ids=()), QuantumGate(name= H, target_indices=(2,), control_indices=(), params=(), pauli_ids=()), QuantumGate(name= X, target_indices=(0,), control_indices=(), params=(), pauli_ids=()), QuantumGate(name= X, target_indices=(0,), control_indices=(), params=(), pauli_ids=()), QuantumGate(name= RX, target_indices=(1,), control_indices=(), params=(1.0471975511965976,), pauli_ids=()), QuantumGate(name= CNOT, target_indices=(1,), control_indices=(2,), params=(), pauli_ids=()), QuantumGate(name= PauliRotation , target_indices=(0, 1, 2), control_indices=(), params=(1.0471975511965976,), pauli_ids=(1, 2, 3)))"
     ]
    }
   ],
   "source": [
    "circuit2 = QuantumCircuit(3)\n",
    "circuit2.add_Y_gate(1)\n",
    "circuit2.add_H_gate(2)\n",
    "\n",
    "combined = circuit + circuit2 # equivalent: combined = circuit.combine(circuit2) \n",
    "print(\"Combined circuit:\", combined.gates) \n",
    "\n",
    "circuit2 += circuit # equivalent: circuit2.extend(circuit) \n",
    "print(\"Extended circuit:\", circuit2.gates)\n"
   ]
  },
  {
   "cell_type": "markdown",
   "metadata": {},
   "source": [
    "### Operators:\n",
    "An operator is defined as a set of pairs of a Pauli label and its complex coefficient. For example, an operator:<br>\n",
    "$(0.5+0.5j)*X0 Y1 + 0.2j*Z0 Z2 + (0.3+0.4j)*I$\n",
    "can be defined as follows:<br>"
   ]
  },
  {
   "cell_type": "code",
   "execution_count": 6,
   "metadata": {},
   "outputs": [
    {
     "name": "stdout",
     "output_type": "stream",
     "text": [
      "(0.5+0.5j)*X0 Y1 + 0.2j*Z0 Z2 + (0.3+0.4j)*I \n"
     ]
    }
   ],
   "source": [
    "from quri_parts.core.operator import Operator \n",
    "op = Operator({ \n",
    "   pauli_label(\"X0 Y1\"): 0.5 + 0.5j, \n",
    "   pauli_label(\"Z0 Z2\"): 0.2j,\n",
    "   PAULI_IDENTITY: 0.3 + 0.4j,\n",
    "}) \n",
    "print(op)"
   ]
  },
  {
   "cell_type": "markdown",
   "metadata": {},
   "source": [
    "To get a hermitian conjugated operator:"
   ]
  },
  {
   "cell_type": "code",
   "execution_count": 7,
   "metadata": {},
   "outputs": [
    {
     "name": "stdout",
     "output_type": "stream",
     "text": [
      "(0.5-0.5j)*X0 Y1 - 0.2j*Z0 Z2 + (0.3-0.4j)*I \n"
     ]
    }
   ],
   "source": [
    "conj = op.hermitian_conjugated()\n",
    "print(conj)"
   ]
  },
  {
   "cell_type": "markdown",
   "metadata": {},
   "source": [
    "### Quantum state\n",
    "\n",
    "The 3 types of states in QURI Parts: `ComputationalBasisState`, `GeneralCircuitQuantumState` and `QuantumStateVector`\n",
    "\n",
    "#### Computational Basis State\n",
    "Several types of quantum states are available. Here we introduce the most basic states: computational basis states. Other types of states will be described later.\n",
    "\n",
    "A computational basis state is a quantum state where each qubit is in 0 or 1 eigenstate. To construct a computational basis state for 5 qubits:"
   ]
  },
  {
   "cell_type": "code",
   "execution_count": null,
   "metadata": {},
   "outputs": [],
   "source": [
    "from quri_parts.core.state import ComputationalBasisState\n",
    "state1 = ComputationalBasisState(5, bits=0b10100)\n",
    "print(state1)"
   ]
  },
  {
   "cell_type": "markdown",
   "metadata": {},
   "source": [
    "Here `bits=0b10100` means that qubit $0$ is in $|0\\rangle$, qubit $1$ is in $|0\\rangle$, qubit $2$ is in $|1\\rangle$, qubit $3$ is in $|0\\rangle$ and qubit $4$ is in $|1\\rangle$. We use $0$-based indices for qubits, and bits for qubits are ordered from the least significant bit to the most significant bit.\n",
    "\n",
    "You can also create a superposition of two computational basis states. Note that the resulting state is not a computational basis state anymore. `comp_basis_superposition()` takes four arguments. First two are computational basis states to be superposed. The third argument determines the weight for the superposition and the fourth argument  determines the phase factor for the superposition: coefficients for two states are given as $\\cos \\theta$ and $e^{i\\phi} \\sin \\theta$."
   ]
  },
  {
   "cell_type": "code",
   "execution_count": null,
   "metadata": {},
   "outputs": [],
   "source": [
    "import math\n",
    "from quri_parts.core.state import comp_basis_superposition\n",
    "state2 = ComputationalBasisState(5, bits=0b01011)\n",
    "sp_state = comp_basis_superposition(state1, state2, math.pi/2, math.pi/4)\n",
    "print(sp_state)z"
   ]
  },
  {
   "cell_type": "markdown",
   "metadata": {},
   "source": [
    "### State preparation with a quantum circuit with \n",
    "\n",
    "A quantum state prepared by applying a quantum circuit to $|00 \\cdots 0\\rangle$ is represented by a `CircuitQuantumState` interface. You can create a `CircuitQuantumState` with a quantum circuit object by `GeneralCircuitQuantumState`:"
   ]
  },
  {
   "cell_type": "code",
   "execution_count": null,
   "metadata": {},
   "outputs": [],
   "source": [
    "from quri_parts.core.state import GeneralCircuitQuantumState\n",
    "\n",
    "circuit = QuantumCircuit(2)\n",
    "circuit.add_Z_gate(0)\n",
    "circuit.add_H_gate(1)\n",
    "\n",
    "# A quantum state of 2 qubits with an empty circuit (i.e. |00>)\n",
    "circuit_state = GeneralCircuitQuantumState(2)\n",
    "# A quantum state of 2 qubits with a given circuit (i.e. C|00> where C is the ciruict)\n",
    "circuit_state = GeneralCircuitQuantumState(2, circuit)"
   ]
  },
  {
   "cell_type": "markdown",
   "metadata": {},
   "source": [
    "Note that the `ComputationalBasisState` we introduced above is also a `CircuitQuantumState`, since such a state can always be constructed by applying a circuit to a zero state."
   ]
  },
  {
   "cell_type": "code",
   "execution_count": null,
   "metadata": {},
   "outputs": [],
   "source": [
    "from quri_parts.core.state import ComputationalBasisState\n",
    "\n",
    "cb_state = ComputationalBasisState(2, bits=0b01)"
   ]
  },
  {
   "cell_type": "markdown",
   "metadata": {},
   "source": [
    "`CircuitQuantumState` has some properties and methods:"
   ]
  },
  {
   "cell_type": "code",
   "execution_count": null,
   "metadata": {},
   "outputs": [],
   "source": [
    "print(\"(circuit_state)\")\n",
    "# Get how many qubits this state is for.\n",
    "print(\"qubit_count:\", circuit_state.qubit_count)\n",
    "# Get the circuit of the state. This returns an immutable circuit.\n",
    "print(\"circuit:\", circuit_state.circuit)\n",
    "# Create a new state with some new gates added.\n",
    "gate_added_state = circuit_state.with_gates_applied([X(1), CNOT(1, 0)])\n",
    "print(\"original circuit len:\", len(circuit_state.circuit.gates))\n",
    "print(\"new circuit len:\", len(gate_added_state.circuit.gates))  "
   ]
  },
  {
   "cell_type": "code",
   "execution_count": null,
   "metadata": {},
   "outputs": [],
   "source": [
    "print(\"(cb_state)\")\n",
    "# Get how many qubits this state is for.\n",
    "print(\"qubit_count:\", cb_state.qubit_count)\n",
    "# Get the circuit of the state. This returns an immutable circuit.\n",
    "cb_circuit = cb_state.circuit\n",
    "for gate in cb_circuit.gates:\n",
    "    print(gate)\n",
    "# Create a new state with some new gates added.\n",
    "# Note that the new state is no longer a ComputationalBasisState.\n",
    "gate_added_cb_state = cb_state.with_gates_applied([X(1), CNOT(1, 0)])\n",
    "print(\"original circuit len:\", len(cb_state.circuit.gates))\n",
    "print(\"new circuit len:\", len(gate_added_cb_state.circuit.gates))"
   ]
  },
  {
   "cell_type": "markdown",
   "metadata": {},
   "source": [
    "### For more information on functionality of QURI Parts visit:\n",
    "\n",
    "[1] https://quri-parts.qunasys.com/tutorials [online] ( 2023-10-22)"
   ]
  },
  {
   "cell_type": "markdown",
   "metadata": {},
   "source": []
  }
 ],
 "metadata": {
  "kernelspec": {
   "display_name": "Python 3",
   "language": "python",
   "name": "python3"
  },
  "language_info": {
   "codemirror_mode": {
    "name": "ipython",
    "version": 3
   },
   "file_extension": ".py",
   "mimetype": "text/x-python",
   "name": "python",
   "nbconvert_exporter": "python",
   "pygments_lexer": "ipython3",
   "version": "3.7.5"
  },
  "varInspector": {
   "cols": {
    "lenName": 16,
    "lenType": 16,
    "lenVar": 40
   },
   "kernels_config": {
    "python": {
     "delete_cmd_postfix": "",
     "delete_cmd_prefix": "del ",
     "library": "var_list.py",
     "varRefreshCmd": "print(var_dic_list())"
    },
    "r": {
     "delete_cmd_postfix": ") ",
     "delete_cmd_prefix": "rm(",
     "library": "var_list.r",
     "varRefreshCmd": "cat(var_dic_list()) "
    }
   },
   "types_to_exclude": [
    "module",
    "function",
    "builtin_function_or_method",
    "instance",
    "_Feature"
   ],
   "window_display": false
  }
 },
 "nbformat": 4,
 "nbformat_minor": 2
}
