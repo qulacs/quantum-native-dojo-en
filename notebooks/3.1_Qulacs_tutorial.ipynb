{
 "cells": [
  {
   "cell_type": "markdown",
   "metadata": {},
   "source": [
    "## 3-1. How to use Qulacs, the world's fastest simulator\n",
    "\n",
    "In Chapter 2, we used SymPy to actually run quantum algorithms, but SymPy is not good at large-scale and high-speed calculations because it is specialized for algebraic calculations. In this section, we introduce how to use [Qulacs](https://github.com/qulacs/qulacs), a quantum computer simulator with the world's fastest running speeds. Qulacs is implemented in C++ and runs very fast, but can be easily implemented through the Python interface.\n",
    "\n",
    "In addition, there are other quantum computer simulators such as IBM's [Qiskit](https://qiskit.org), Rigetti Computing's [PyQuil](https://github.com/rigetti/pyquil) ([Cloud Quantum Computer](https://www.rigetti.com)), Google's [Cirq](https://github.com/quantumlib/Cirq), and Microsoft's [Q#](https://www.microsoft.com/en-us/quantum/development-kit).See also [this article](https://qiita.com/TenninYan/items/82d6e9f94321de0bb4c0) for more information on PyQuil."
   ]
  },
  {
   "cell_type": "markdown",
   "metadata": {},
   "source": [
    "### Installing Qulacs\n",
    "You can easily install Qulacs using `pip`. For more detail, please check Qulacs document. "
   ]
  },
  {
   "cell_type": "code",
   "execution_count": null,
   "metadata": {},
   "outputs": [],
   "source": [
    "## Please run only on Google colaboratory and local environment without Qulacs\n",
    "!pip install qulacs\n",
    "\n",
    "## Run only if you are in a Google Colaboratory / (Linux or Mac) jupyter notebook environment.\n",
    "## Qulacs errors will be output normally.\n",
    "!pip3 install wurlitzer\n",
    "%load_ext wurlitzer"
   ]
  },
  {
   "cell_type": "markdown",
   "metadata": {},
   "source": [
    "### How to use Qulacs (1): Quantum states\n",
    "\n",
    "#### Creating a quantum state\n",
    "Qulacs can generate a quantum state (`QuantumState` class) of $n$ qubits with the following code. The generated quantum state is initialized to $|0\\rangle^{\\otimes n}$."
   ]
  },
  {
   "cell_type": "code",
   "execution_count": 1,
   "metadata": {},
   "outputs": [],
   "source": [
    "from qulacs import QuantumState\n",
    "\n",
    "# generate a 5-qubit state\n",
    "n = 5\n",
    "state = QuantumState(n)\n",
    "\n",
    "## The initial state is |000000>\n",
    "state.set_zero_state()"
   ]
  },
  {
   "cell_type": "markdown",
   "metadata": {},
   "source": [
    "If $n$ is very large, or if there is insufficient memory, the quantum state cannot be generated."
   ]
  },
  {
   "cell_type": "markdown",
   "metadata": {},
   "source": [
    "#### Getting Quantum State Data\n",
    "Using `QuantumState.get_vector()`, you can get a $2^n$ long array representing a quantum state. Note that this is a very heavy operation, especially if you create quantum states on a GPU or with large $n$."
   ]
  },
  {
   "cell_type": "code",
   "execution_count": 2,
   "metadata": {},
   "outputs": [
    {
     "name": "stdout",
     "output_type": "stream",
     "text": [
      "[1.+0.j 0.+0.j 0.+0.j 0.+0.j 0.+0.j 0.+0.j 0.+0.j 0.+0.j 0.+0.j 0.+0.j\n",
      " 0.+0.j 0.+0.j 0.+0.j 0.+0.j 0.+0.j 0.+0.j 0.+0.j 0.+0.j 0.+0.j 0.+0.j\n",
      " 0.+0.j 0.+0.j 0.+0.j 0.+0.j 0.+0.j 0.+0.j 0.+0.j 0.+0.j 0.+0.j 0.+0.j\n",
      " 0.+0.j 0.+0.j]\n"
     ]
    }
   ],
   "source": [
    "from qulacs import QuantumState\n",
    "\n",
    "n = 5\n",
    "state = QuantumState(n)\n",
    "state.set_zero_state()\n",
    "\n",
    "# Get state vector as a numpy array\n",
    "data = state.get_vector()\n",
    "print(data)"
   ]
  },
  {
   "cell_type": "markdown",
   "metadata": {},
   "source": [
    "#### Initializing the quantum state\n",
    "\n",
    "The generated quantum state can be initialized using binary numbers (`set_computational_basis`) or to a random state (`set_Haar_random_state`)."
   ]
  },
  {
   "cell_type": "code",
   "execution_count": 3,
   "metadata": {},
   "outputs": [
    {
     "name": "stdout",
     "output_type": "stream",
     "text": [
      "[0.+0.j 0.+0.j 0.+0.j 0.+0.j 0.+0.j 1.+0.j 0.+0.j 0.+0.j 0.+0.j 0.+0.j\n",
      " 0.+0.j 0.+0.j 0.+0.j 0.+0.j 0.+0.j 0.+0.j 0.+0.j 0.+0.j 0.+0.j 0.+0.j\n",
      " 0.+0.j 0.+0.j 0.+0.j 0.+0.j 0.+0.j 0.+0.j 0.+0.j 0.+0.j 0.+0.j 0.+0.j\n",
      " 0.+0.j 0.+0.j]\n",
      "[-0.02437065-0.24658958j -0.01613144+0.13503688j -0.18994795-0.12319831j\n",
      "  0.06504845+0.16830255j -0.21598901+0.18730307j -0.16812459-0.02947785j\n",
      " -0.19220647-0.09961786j  0.10572396+0.00775966j -0.0680691 -0.02781797j\n",
      " -0.13307298+0.16938736j  0.03958908+0.10715579j  0.01297565-0.13433703j\n",
      " -0.06164082-0.07189014j -0.07461534+0.18664457j  0.12610337-0.12079184j\n",
      "  0.04721677+0.05207131j -0.01081212+0.24851703j  0.02671697-0.00200128j\n",
      " -0.03405007-0.3028626j   0.04368712-0.047096j    0.27087639+0.20331916j\n",
      " -0.11928844+0.02439986j  0.09817583+0.22850291j -0.08822065-0.01851942j\n",
      " -0.08319959+0.12819258j  0.00568074-0.02627961j  0.08279638-0.10588521j\n",
      "  0.04417022-0.01161947j -0.05749897-0.22828609j -0.00629634+0.04739956j\n",
      " -0.09164645-0.10147242j  0.13382742+0.04209609j]\n",
      "[ 0.09232558+0.06460115j  0.14544754-0.10413526j  0.11300793-0.02455806j\n",
      "  0.00811251+0.2426378j  -0.01116588+0.23770313j -0.10691448+0.0487731j\n",
      " -0.01654446+0.17073103j  0.22250403+0.01934699j  0.04728154+0.22585226j\n",
      "  0.04475383+0.20375993j -0.10592159+0.10428549j -0.10175932-0.04016904j\n",
      "  0.04241271+0.08723859j  0.18205362+0.06190871j  0.14103367-0.12925877j\n",
      " -0.08269267+0.08879486j -0.14479848-0.0183179j  -0.32601567+0.06762062j\n",
      "  0.03482754+0.04464901j  0.09181499+0.05497985j  0.06870746+0.12628442j\n",
      " -0.00624006-0.21793139j -0.11181371+0.2659879j  -0.04589826+0.00891387j\n",
      " -0.04058365+0.30265587j -0.13894575-0.04392724j -0.03499327+0.0184768j\n",
      "  0.05033425-0.07376874j  0.07124237+0.15451312j  0.09319498+0.08341551j\n",
      " -0.03002195-0.14677347j -0.05309219+0.10184815j]\n"
     ]
    }
   ],
   "source": [
    "from qulacs import QuantumState\n",
    "\n",
    "n = 5\n",
    "state = QuantumState(n)\n",
    "state.set_zero_state()\n",
    "\n",
    "# initialize to |00101>\n",
    "state.set_computational_basis(0b00101)\n",
    "print(state.get_vector())\n",
    "\n",
    "# Generate random initial state\n",
    "state.set_Haar_random_state()\n",
    "print(state.get_vector())\n",
    "\n",
    "# Generate a random initial state by specifying a seed\n",
    "seed = 0\n",
    "state.set_Haar_random_state(seed)\n",
    "print(state.get_vector())"
   ]
  },
  {
   "cell_type": "markdown",
   "metadata": {},
   "source": [
    "#### Copy and load quantum state data\n",
    "You can copy (`copy`) a quantum state and load (`load`) data from another quantum state."
   ]
  },
  {
   "cell_type": "code",
   "execution_count": 1,
   "metadata": {},
   "outputs": [
    {
     "name": "stdout",
     "output_type": "stream",
     "text": [
      "[0.+0.j 0.+0.j 0.+0.j 0.+0.j 0.+0.j 1.+0.j 0.+0.j 0.+0.j 0.+0.j 0.+0.j\n",
      " 0.+0.j 0.+0.j 0.+0.j 0.+0.j 0.+0.j 0.+0.j 0.+0.j 0.+0.j 0.+0.j 0.+0.j\n",
      " 0.+0.j 0.+0.j 0.+0.j 0.+0.j 0.+0.j 0.+0.j 0.+0.j 0.+0.j 0.+0.j 0.+0.j\n",
      " 0.+0.j 0.+0.j]\n",
      "[0.+0.j 0.+0.j 0.+0.j 0.+0.j 0.+0.j 1.+0.j 0.+0.j 0.+0.j 0.+0.j 0.+0.j\n",
      " 0.+0.j 0.+0.j 0.+0.j 0.+0.j 0.+0.j 0.+0.j 0.+0.j 0.+0.j 0.+0.j 0.+0.j\n",
      " 0.+0.j 0.+0.j 0.+0.j 0.+0.j 0.+0.j 0.+0.j 0.+0.j 0.+0.j 0.+0.j 0.+0.j\n",
      " 0.+0.j 0.+0.j]\n"
     ]
    }
   ],
   "source": [
    "from qulacs import QuantumState\n",
    "\n",
    "n = 5\n",
    "state = QuantumState(n)\n",
    "state.set_computational_basis(0b00101)\n",
    "\n",
    "# Copy and create a new quantum state\n",
    "second_state = state.copy()\n",
    "print(second_state.get_vector())\n",
    "\n",
    "# Create a new quantum state and copy the vector of existing states\n",
    "third_state = QuantumState(n)\n",
    "third_state.load(state)\n",
    "print(third_state.get_vector())"
   ]
  },
  {
   "cell_type": "markdown",
   "metadata": {},
   "source": [
    "#### Calculations on quantum states\n",
    "In addition to the above, various other operations are possible on quantum states (`QuantumState`)."
   ]
  },
  {
   "cell_type": "code",
   "execution_count": 5,
   "metadata": {},
   "outputs": [
    {
     "name": "stdout",
     "output_type": "stream",
     "text": [
      "squared_norm :  1.0\n",
      "entropy :  3.0719687986623603\n",
      "prob_meas_3rd :  0.5740657157322318\n",
      "marginal_prob :  0.04265173032311748\n"
     ]
    }
   ],
   "source": [
    "from qulacs import QuantumState\n",
    "\n",
    "n = 5\n",
    "state = QuantumState(n)\n",
    "state.set_Haar_random_state()\n",
    "\n",
    "# Calculation of norm (renamed from get_norm to get_squared_norm in qulacs v0.1.8)\n",
    "norm = state.get_squared_norm()\n",
    "print(\"squared_norm : \", norm)\n",
    "\n",
    "# compute entropy when measured in Z basis\n",
    "entropy = state.get_entropy() \n",
    "print(\"entropy : \",entropy)\n",
    "\n",
    "# Calculate the probability of getting 0 when measuring index-th qubit in Z basis\n",
    "index = 3\n",
    "zero_probability = state.get_zero_probability(index)\n",
    "print(\"prob_meas_3rd : \",zero_probability)\n",
    "\n",
    "# Calculation of the marginal probability (below is an example of the probability that 0,3-th qubit is measured as 0 and 1,2-th qubit is measured as 1)\n",
    "value_list = [0,1,1,0,2]\n",
    "marginal_probability = state.get_marginal_probability(value_list)\n",
    "print(\"marginal_prob : \",marginal_probability)"
   ]
  },
  {
   "cell_type": "markdown",
   "metadata": {},
   "source": [
    "#### inner product of quantum states\n",
    "The inner product can be calculated with the `inner_product` function."
   ]
  },
  {
   "cell_type": "code",
   "execution_count": 6,
   "metadata": {},
   "outputs": [
    {
     "name": "stdout",
     "output_type": "stream",
     "text": [
      "(0.07448994812927281-0.1223698589819414j)\n"
     ]
    }
   ],
   "source": [
    "from qulacs import QuantumState\n",
    "from qulacs.state import inner_product\n",
    "\n",
    "n = 5\n",
    "state_bra = QuantumState(n)\n",
    "state_ket = QuantumState(n)\n",
    "state_bra.set_Haar_random_state()\n",
    "state_ket.set_computational_basis(0)\n",
    "\n",
    "# Calculate the inner product value\n",
    "value = inner_product(state_bra, state_ket)\n",
    "print(value)"
   ]
  },
  {
   "cell_type": "markdown",
   "metadata": {},
   "source": [
    "#### Releasing a quantum state\n",
    "Quantum states can be forcibly released from memory using `del`. It is useful when memory is tight. Also, quantum states will be released when it is no longer used without `del`."
   ]
  },
  {
   "cell_type": "code",
   "execution_count": 7,
   "metadata": {},
   "outputs": [],
   "source": [
    "from qulacs import QuantumState\n",
    "\n",
    "n = 5\n",
    "state = QuantumState(n)\n",
    "\n",
    "# Release a quantum state\n",
    "del state"
   ]
  },
  {
   "cell_type": "markdown",
   "metadata": {},
   "source": [
    "#### Getting detailed information about a quantum state\n",
    "If you `print` an object of `QuantumState` class directly, you can get the information of the quantum state."
   ]
  },
  {
   "cell_type": "code",
   "execution_count": 8,
   "metadata": {},
   "outputs": [
    {
     "name": "stdout",
     "output_type": "stream",
     "text": [
      " *** Quantum State ***\n",
      " * Qubit Count : 5\n",
      " * Dimension   : 32\n",
      " * State vector : \n",
      "(1,0)\n",
      "(0,0)\n",
      "(0,0)\n",
      "(0,0)\n",
      "(0,0)\n",
      "(0,0)\n",
      "(0,0)\n",
      "(0,0)\n",
      "(0,0)\n",
      "(0,0)\n",
      "(0,0)\n",
      "(0,0)\n",
      "(0,0)\n",
      "(0,0)\n",
      "(0,0)\n",
      "(0,0)\n",
      "(0,0)\n",
      "(0,0)\n",
      "(0,0)\n",
      "(0,0)\n",
      "(0,0)\n",
      "(0,0)\n",
      "(0,0)\n",
      "(0,0)\n",
      "(0,0)\n",
      "(0,0)\n",
      "(0,0)\n",
      "(0,0)\n",
      "(0,0)\n",
      "(0,0)\n",
      "(0,0)\n",
      "(0,0)\n",
      "\n"
     ]
    }
   ],
   "source": [
    "from qulacs import QuantumState\n",
    "\n",
    "n = 5\n",
    "state = QuantumState(n)\n",
    "\n",
    "print(state)"
   ]
  },
  {
   "cell_type": "markdown",
   "metadata": {},
   "source": [
    "### How to use Qulacs (2): Quantum gate\n",
    "\n",
    "#### Creation and action of quantum gates\n",
    "The quantum gates implemented by default are defined in the `qulacs.gate` module."
   ]
  },
  {
   "cell_type": "code",
   "execution_count": 9,
   "metadata": {},
   "outputs": [
    {
     "name": "stdout",
     "output_type": "stream",
     "text": [
      "[1.+0.j 0.+0.j 0.+0.j 0.+0.j 0.+0.j 0.+0.j 0.+0.j 0.+0.j]\n",
      "[0.+0.j 0.+0.j 1.+0.j 0.+0.j 0.+0.j 0.+0.j 0.+0.j 0.+0.j]\n",
      "[0.38268343+0.j 0.        +0.j 0.92387953+0.j 0.        +0.j\n",
      " 0.        +0.j 0.        +0.j 0.        +0.j 0.        +0.j]\n",
      "[0.        +0.j 0.        +0.j 0.        +0.j 0.        +0.j\n",
      " 0.38268343+0.j 0.        +0.j 0.92387953+0.j 0.        +0.j]\n"
     ]
    }
   ],
   "source": [
    "import numpy as np\n",
    "from qulacs import QuantumState\n",
    "from qulacs.gate import X, RY, DenseMatrix\n",
    "\n",
    "n = 3\n",
    "state = QuantumState(n)\n",
    "state.set_zero_state()\n",
    "print(state.get_vector())\n",
    "\n",
    "# X operation on 1st-qubit (|000> -> |010>)\n",
    "index = 1\n",
    "x_gate = X(index)\n",
    "x_gate.update_quantum_state(state)\n",
    "print(state.get_vector())\n",
    "\n",
    "# pi/4.0 rotation on 1st-qubit with Y-pauli\n",
    "angle = np.pi / 4.0\n",
    "ry_gate = RY(index, angle)\n",
    "ry_gate.update_quantum_state(state)\n",
    "print(state.get_vector())\n",
    "\n",
    "# Apply gate created by gate matrix to 2nd-qubit\n",
    "dense_gate = DenseMatrix(2, [[0,1],[1,0]])\n",
    "dense_gate.update_quantum_state(state)\n",
    "print(state.get_vector())\n",
    "\n",
    "# Release gates\n",
    "del x_gate\n",
    "del ry_gate\n",
    "del dense_gate"
   ]
  },
  {
   "cell_type": "markdown",
   "metadata": {},
   "source": [
    "The predefined gates are as follows.\n",
    "\n",
    "- single-qubit Pauli operation: Identity, X, Y, Z\n",
    "- single-qubit Clifford operation : H, S, Sdag, T, Tdag, sqrtX, sqrtXdag, sqrtY, sqrtYdag\n",
    "- two-qubit Clifford operation : CNOT, CZ, SWAP\n",
    "- single-qubit Pauli rotation : RX, RY, RZ\n",
    "- General Pauli operation : Pauli, PauliRotation\n",
    "- IBMQ basis-gate : U1, U2, U3\n",
    "- General gate : DenseMatrix\n",
    "- Measurement : Measurement\n",
    "- Noise : BitFlipNoise, DephasingNoise, IndepenedentXZNoise, DepolarizingNoise\n",
    "\n",
    "The rotation gates, `RX`, `RY`, `RZ`, and `PauliRotation`, operate on a given Pauli operator $P$ with $\\exp(i\\frac{\\theta}{2}P)$ for the argument $\\theta$. See [API documentation](http://qulacs.org/namespacegate.html) for details on each gate."
   ]
  },
  {
   "cell_type": "markdown",
   "metadata": {},
   "source": [
    "#### Quantum gate synthesis\n",
    "A new single quantum gate can be generated by synthesizing quantum gates that act in succession."
   ]
  },
  {
   "cell_type": "code",
   "execution_count": 10,
   "metadata": {},
   "outputs": [
    {
     "name": "stdout",
     "output_type": "stream",
     "text": [
      "[0.38268343+0.j 0.        +0.j 0.92387953+0.j 0.        +0.j\n",
      " 0.        +0.j 0.        +0.j 0.        +0.j 0.        +0.j]\n"
     ]
    }
   ],
   "source": [
    "import numpy as np\n",
    "from qulacs import QuantumState\n",
    "from qulacs.gate import X, RY, merge\n",
    "\n",
    "n = 3\n",
    "state = QuantumState(n)\n",
    "state.set_zero_state()\n",
    "\n",
    "index = 1\n",
    "x_gate = X(index)\n",
    "angle = np.pi / 4.0\n",
    "ry_gate = RY(index, angle)\n",
    "\n",
    "# Synthesize gates to create a new gate\n",
    "# First argument acts first\n",
    "x_and_ry_gate = merge(x_gate, ry_gate)\n",
    "x_and_ry_gate.update_quantum_state(state)\n",
    "print(state.get_vector())"
   ]
  },
  {
   "cell_type": "markdown",
   "metadata": {},
   "source": [
    "#### Sum of quantum gate matrices\n",
    "It is generally difficult to perform this operation on a real quantum computer, but it is possible to sum the gate elements of quantum gates.\n",
    "(Currently, it is recommended not to use the sum in the case where there is a control-qubit since the operation is undefined.)"
   ]
  },
  {
   "cell_type": "code",
   "execution_count": 11,
   "metadata": {},
   "outputs": [
    {
     "name": "stdout",
     "output_type": "stream",
     "text": [
      " *** gate info *** \n",
      " * gate name : DenseMatrix\n",
      " * target    : \n",
      " 0 : commute       \n",
      " 1 : commute       \n",
      " * control   : \n",
      " * Pauli     : no\n",
      " * Clifford  : no\n",
      " * Gaussian  : no\n",
      " * Parametric: no\n",
      " * Diagonal  : no\n",
      " * Matrix\n",
      "(1,0) (0,0) (0,0) (0,0)\n",
      "(0,0) (0,0) (0,0) (0,0)\n",
      "(0,0) (0,0) (0,0) (0,0)\n",
      "(0,0) (0,0) (0,0) (1,0)\n",
      "\n",
      " *** gate info *** \n",
      " * gate name : DenseMatrix\n",
      " * target    : \n",
      " 0 : commute       \n",
      " 1 : commute       \n",
      " * control   : \n",
      " * Pauli     : no\n",
      " * Clifford  : no\n",
      " * Gaussian  : no\n",
      " * Parametric: no\n",
      " * Diagonal  : no\n",
      " * Matrix\n",
      "(0.5,0)   (0,0)   (0,0) (0.5,0)\n",
      "  (0,0)   (0,0)   (0,0)   (0,0)\n",
      "  (0,0)   (0,0)   (0,0)   (0,0)\n",
      "(0.5,0)   (0,0)   (0,0) (0.5,0)\n",
      "\n"
     ]
    }
   ],
   "source": [
    "import numpy as np\n",
    "from qulacs import QuantumState\n",
    "from qulacs.gate import P0,P1,add, merge, Identity, X, Z\n",
    "\n",
    "gate00 = merge(P0(0),P0(1))\n",
    "gate11 = merge(P1(0),P1(1))\n",
    "# |00><00| + |11><11|\n",
    "proj_00_or_11 = add(gate00, gate11)\n",
    "print(proj_00_or_11)\n",
    "\n",
    "gate_ii_zz = add(Identity(0), merge(Z(0),Z(1)))\n",
    "gate_ii_xx = add(Identity(0), merge(X(0),X(1)))\n",
    "proj_00_plus_11 = merge(gate_ii_zz, gate_ii_xx)\n",
    "# ((|00>+|11>)(<00|+<11|))/2 = (II + ZZ)(II + XX)/4\n",
    "proj_00_plus_11.multiply_scalar(0.25)\n",
    "print(proj_00_plus_11)"
   ]
  },
  {
   "cell_type": "markdown",
   "metadata": {},
   "source": [
    "#### Special and general quantum gates\n",
    "Basic quantum gates in Qulacs can be divided into the following two categories\n",
    "\n",
    "- Special gates: those that have a dedicated accelerated function for the gate's action.\n",
    "- General gates: gates that maintain a gate matrix and act by multiplying the matrix.\n",
    "\n",
    "The former is faster than the latter because a dedicated function has been created for the former. However, it is not possible to change the action of the quantum gate later, such as increasing the number of control qubits. If you want to make such changes, you need to convert the special gate to a general gate, which can be achieved with `gate.to_matrix_gate`."
   ]
  },
  {
   "cell_type": "code",
   "execution_count": 12,
   "metadata": {},
   "outputs": [
    {
     "name": "stdout",
     "output_type": "stream",
     "text": [
      "[0.+0.j 1.+0.j 0.+0.j 0.+0.j 0.+0.j 0.+0.j 0.+0.j 0.+0.j]\n"
     ]
    }
   ],
   "source": [
    "import numpy as np\n",
    "from qulacs import QuantumState\n",
    "from qulacs.gate import to_matrix_gate, X\n",
    "n = 3\n",
    "state = QuantumState(n)\n",
    "state.set_zero_state()\n",
    "\n",
    "index = 0\n",
    "x_gate = X(index)\n",
    "x_mat_gate = to_matrix_gate(x_gate)\n",
    "\n",
    "# Apply gates only if 1st-qubit is 0\n",
    "control_index = 1\n",
    "control_with_value = 0\n",
    "x_mat_gate.add_control_qubit(control_index, control_with_value)\n",
    "\n",
    "x_mat_gate.update_quantum_state(state)\n",
    "print(state.get_vector())"
   ]
  },
  {
   "cell_type": "markdown",
   "metadata": {},
   "source": [
    "#### Getting the gate matrix of a quantum gate\n",
    "You can get the gate matrix of the generated quantum gate. (control qubits, etc. are not included in the gate matrix.)  Be especially careful with gates that do not have a gate matrix (e.g. Pauli rotation gates with $n$ qubits), as they require a lot of memory and time."
   ]
  },
  {
   "cell_type": "code",
   "execution_count": 13,
   "metadata": {},
   "outputs": [
    {
     "name": "stdout",
     "output_type": "stream",
     "text": [
      " *** gate info *** \n",
      " * gate name : X\n",
      " * target    : \n",
      " 0 : commute X     \n",
      " * control   : \n",
      " * Pauli     : yes\n",
      " * Clifford  : yes\n",
      " * Gaussian  : no\n",
      " * Parametric: no\n",
      " * Diagonal  : no\n",
      "\n",
      " *** gate info *** \n",
      " * gate name : DenseMatrix\n",
      " * target    : \n",
      " 0 : commute X     \n",
      " * control   : \n",
      " * Pauli     : no\n",
      " * Clifford  : no\n",
      " * Gaussian  : no\n",
      " * Parametric: no\n",
      " * Diagonal  : no\n",
      " * Matrix\n",
      "(0,0) (1,0)\n",
      "(1,0) (0,0)\n",
      "\n"
     ]
    }
   ],
   "source": [
    "from qulacs.gate import X, to_matrix_gate\n",
    "gate = X(0)\n",
    "print(gate)\n",
    "print(to_matrix_gate(gate))"
   ]
  },
  {
   "cell_type": "markdown",
   "metadata": {},
   "source": [
    "#### General Quantum Gate Realization\n",
    "Using `qulacs.gate.DenseMatrix`, you can generate a gate from a general matrix."
   ]
  },
  {
   "cell_type": "code",
   "execution_count": 14,
   "metadata": {},
   "outputs": [
    {
     "name": "stdout",
     "output_type": "stream",
     "text": [
      " *** gate info *** \n",
      " * gate name : DenseMatrix\n",
      " * target    : \n",
      " 0 : commute       \n",
      " * control   : \n",
      " * Pauli     : no\n",
      " * Clifford  : no\n",
      " * Gaussian  : no\n",
      " * Parametric: no\n",
      " * Diagonal  : no\n",
      " * Matrix\n",
      "(0,0) (1,0)\n",
      "(1,0) (0,0)\n",
      "\n",
      " *** gate info *** \n",
      " * gate name : DenseMatrix\n",
      " * target    : \n",
      " 0 : commute       \n",
      " 1 : commute       \n",
      " * control   : \n",
      " * Pauli     : no\n",
      " * Clifford  : no\n",
      " * Gaussian  : no\n",
      " * Parametric: no\n",
      " * Diagonal  : no\n",
      " * Matrix\n",
      "(1,0) (0,0) (0,0) (0,0)\n",
      "(0,0) (1,0) (0,0) (0,0)\n",
      "(0,0) (0,0) (0,0) (1,0)\n",
      "(0,0) (0,0) (1,0) (0,0)\n",
      "\n"
     ]
    }
   ],
   "source": [
    "from qulacs.gate import DenseMatrix\n",
    "\n",
    "# For 1-qubit gate.\n",
    "gate = DenseMatrix(0, [[0,1],[1,0]])\n",
    "print(gate)\n",
    "\n",
    "# For 2-qubit gate.\n",
    "gate = DenseMatrix([0,1], [[1,0,0,0],[0,1,0,0],[0,0,0,1],[0,0,1,0]])\n",
    "print(gate)"
   ]
  },
  {
   "cell_type": "markdown",
   "metadata": {},
   "source": [
    "### How to use Qulacs (3): Quantum circuits\n",
    "\n",
    "#### Composition of quantum circuits\n",
    "A quantum circuit (`QuantumCircuit` class) is represented as a set of quantum gates and can be composed in the following way."
   ]
  },
  {
   "cell_type": "code",
   "execution_count": 15,
   "metadata": {},
   "outputs": [
    {
     "name": "stdout",
     "output_type": "stream",
     "text": [
      "[ 0.1767767+0.j -0.1767767-0.j -0.1767767-0.j  0.1767767+0.j\n",
      " -0.1767767-0.j  0.1767767+0.j  0.1767767+0.j -0.1767767-0.j\n",
      " -0.1767767-0.j  0.1767767+0.j  0.1767767+0.j -0.1767767-0.j\n",
      "  0.1767767+0.j -0.1767767-0.j -0.1767767-0.j  0.1767767+0.j\n",
      " -0.1767767-0.j  0.1767767+0.j  0.1767767+0.j -0.1767767-0.j\n",
      "  0.1767767+0.j -0.1767767-0.j -0.1767767-0.j  0.1767767+0.j\n",
      "  0.1767767+0.j -0.1767767-0.j -0.1767767-0.j  0.1767767+0.j\n",
      " -0.1767767-0.j  0.1767767+0.j  0.1767767+0.j -0.1767767-0.j]\n"
     ]
    }
   ],
   "source": [
    "from qulacs import QuantumState, QuantumCircuit\n",
    "from qulacs.gate import Z\n",
    "n = 5\n",
    "state = QuantumState(n)\n",
    "state.set_zero_state()\n",
    "\n",
    "# define a quantum circuit\n",
    "circuit = QuantumCircuit(n)\n",
    "\n",
    "# add hadamard gate to a quantum circuit\n",
    "for i in range(n):\n",
    "    circuit.add_H_gate(i)\n",
    "\n",
    "# you can create a gate and add it\n",
    "for i in range(n):\n",
    "    circuit.add_gate(Z(i))\n",
    "\n",
    "# apply a quantum cirtuit to a quantum state\n",
    "circuit.update_quantum_state(state)\n",
    "\n",
    "print(state.get_vector())"
   ]
  },
  {
   "cell_type": "markdown",
   "metadata": {},
   "source": [
    "Note that the quantum circuit added by `add_gate` is released together with the quantum circuit when it is released. Therefore, the assigned gate cannot be reused. If you want to reuse a gate given as an argument, you need to make a copy of it using `gate.copy` or use the `add_gate_copy` function.\n",
    "\n",
    "#### Calculating and Optimizing Depth of a Quantum Circuit\n",
    "Sometimes it is possible to reduce the number of quantum gates by grouping them together into a single quantum gate, thereby reducing the numerical computation time. (Of course, if the number of target qubits increases, or if the qubits with dedicated functions are combined into a quantum gate with no dedicated function, the total reduction in computation time depends on the situation.)\n",
    "\n",
    "The code below uses the `optimize` function to repeatedly synthesize the quantum gates of a quantum circuit using the greedy method until there are three target qubits."
   ]
  },
  {
   "cell_type": "code",
   "execution_count": 16,
   "metadata": {},
   "outputs": [
    {
     "name": "stdout",
     "output_type": "stream",
     "text": [
      "10\n",
      "1\n"
     ]
    }
   ],
   "source": [
    "from qulacs import QuantumCircuit\n",
    "from qulacs.circuit import QuantumCircuitOptimizer\n",
    "n = 5\n",
    "depth = 10\n",
    "circuit = QuantumCircuit(n)\n",
    "for d in range(depth):\n",
    "    for i in range(n):\n",
    "        circuit.add_H_gate(i)\n",
    "\n",
    "# calculate depth (depth =10)\n",
    "print(circuit.calculate_depth())\n",
    "\n",
    "# optimization\n",
    "opt = QuantumCircuitOptimizer()\n",
    "\n",
    "# the maximum size of quantum gate\n",
    "max_block_size = 1\n",
    "opt.optimize(circuit, max_block_size)\n",
    "\n",
    "# calculate depth(depth=1)\n",
    "print(circuit.calculate_depth())"
   ]
  },
  {
   "cell_type": "markdown",
   "metadata": {},
   "source": [
    "#### Debugging Quantum Circuit Information\n",
    "When you `print` a quantum circuit, you can see the statistical information of the gates in the quantum circuit, etc."
   ]
  },
  {
   "cell_type": "code",
   "execution_count": 17,
   "metadata": {},
   "outputs": [
    {
     "name": "stdout",
     "output_type": "stream",
     "text": [
      "*** Quantum Circuit Info ***\n",
      "# of qubit: 5\n",
      "# of step : 10\n",
      "# of gate : 50\n",
      "# of 1 qubit gate: 50\n",
      "Clifford  : yes\n",
      "Gaussian  : no\n",
      "\n",
      "\n"
     ]
    }
   ],
   "source": [
    "from qulacs import QuantumCircuit\n",
    "from qulacs.circuit import QuantumCircuitOptimizer\n",
    "n = 5\n",
    "depth = 10\n",
    "circuit = QuantumCircuit(n)\n",
    "for d in range(depth):\n",
    "    for i in range(n):\n",
    "        circuit.add_H_gate(i)\n",
    "print(circuit)"
   ]
  },
  {
   "cell_type": "markdown",
   "metadata": {},
   "source": [
    "### How to use Qulacs (4): Observables\n",
    "(Readers who are not familiar with quantum mechanical observables can read this section later.)   \n",
    "As you will learn the details in the next chapter, Chapter 4, in quantum mechanics, **physical quantities are represented by Hermitian operators**$A$**, also called observable** (Hermitian operators satisfy $A^\\dagger=A$). If we perform what is called a \"projective measurement\" of $A$ for the state $|\\psi\\rangle$, \n",
    "\n",
    "$$\n",
    " |\\psi\\rangle = \\sum_i c_i |a_i\\rangle\n",
    "$$\n",
    "\n",
    "the value $a_i$ is obtained with probability $|c_i|^2$ depending on the coefficients of $|\\psi\\rangle$ expanded in the eigenstate $\\{|a_i\\rangle\\}_i$ of A (eigenvalue $a_i$).\n",
    "\n",
    "Its expected value is $\\langle\\psi|A|\\psi\\rangle$.\n",
    "\n",
    "#### Generating Observables\n",
    "In Qulacs, an observable is represented as a set of (direct product of) Pauli operators $X,Y,Z$. (Since Hermitian operators are always represented by a sum of direct products of Pauli operators.) The Pauli operator can be defined as follows."
   ]
  },
  {
   "cell_type": "code",
   "execution_count": 18,
   "metadata": {},
   "outputs": [],
   "source": [
    "from qulacs import Observable\n",
    "n = 5\n",
    "coef = 2.0\n",
    "# define Pauli operators 2.0 X_0 X_1 Y_2 Z_4\n",
    "Pauli_string = \"X 0 X 1 Y 2 Z 4\"\n",
    "observable = Observable(n)\n",
    "observable.add_operator(coef,Pauli_string)"
   ]
  },
  {
   "cell_type": "markdown",
   "metadata": {},
   "source": [
    "#### Evaluating Observables\n",
    "The expected value of an observable can be evaluated for a state."
   ]
  },
  {
   "cell_type": "code",
   "execution_count": 19,
   "metadata": {},
   "outputs": [
    {
     "name": "stdout",
     "output_type": "stream",
     "text": [
      "-0.027383733754500428\n"
     ]
    }
   ],
   "source": [
    "from qulacs import Observable, QuantumState\n",
    "\n",
    "n = 5\n",
    "coef = 2.0\n",
    "Pauli_string = \"X 0 X 1 Y 2 Z 4\"\n",
    "observable = Observable(n)\n",
    "observable.add_operator(coef,Pauli_string)\n",
    "\n",
    "state = QuantumState(n)\n",
    "state.set_Haar_random_state()\n",
    "\n",
    "# calculating expected value\n",
    "value = observable.get_expectation_value(state)\n",
    "print(value)"
   ]
  },
  {
   "cell_type": "markdown",
   "metadata": {},
   "source": [
    "### How to use Qulacs (5): Variational quantum circuits\n",
    "If you define a quantum circuit as a `ParametricQuantumCircuit` class, in addition to the usual `QuantumCircuit` class functions, you can use some functions that are useful for optimizing a quantum circuit using variational methods. This is very useful when implementing variational quantum circuits, which you will learn in Chapter 5.\n",
    "\n",
    "#### Examples of Variational Quantum Circuit Applications\n",
    "Quantum gates with a single rotation angle (X-rot, Y-rot, Z-rot, multi_qubit_pauli_rotation) can be added to a quantum circuit as parametric quantum gates. For quantum gates added as parametric gates, the number of parametric gates can be taken out after the quantum circuit is configured, or the rotation angle can be changed later."
   ]
  },
  {
   "cell_type": "code",
   "execution_count": 20,
   "metadata": {},
   "outputs": [
    {
     "name": "stdout",
     "output_type": "stream",
     "text": [
      " *** Quantum State ***\n",
      " * Qubit Count : 5\n",
      " * Dimension   : 32\n",
      " * State vector : \n",
      "  (-0.0673932,0.0932352)\n",
      "   (0.0793816,0.0803179)\n",
      " (-0.0240998,-0.0720735)\n",
      "    (0.0267232,0.103591)\n",
      "  (-0.089328,-0.0454438)\n",
      "  (-0.0273612,-0.172908)\n",
      "   (0.0753719,-0.185454)\n",
      "    (0.120598,0.0489211)\n",
      "(-0.0433311,-0.00542669)\n",
      "   (0.407492,-0.0683546)\n",
      "    (0.0712898,0.029486)\n",
      "   (-0.0374001,0.100097)\n",
      "    (0.0395997,0.166802)\n",
      "    (0.113313,0.0278069)\n",
      "  (0.00456149,0.0702255)\n",
      "    (-0.121551,0.306851)\n",
      "  (-0.0113109,0.0106071)\n",
      "    (0.158906,0.0897413)\n",
      "   (0.276642,0.00709558)\n",
      "   (-0.163862,0.0615158)\n",
      "  (-0.0507503,0.0898438)\n",
      "    (0.221342,0.0332379)\n",
      "   (-0.125741,-0.130305)\n",
      "    (0.0463867,0.225922)\n",
      "   (0.0493533,-0.127222)\n",
      "   (-0.235716,0.0564754)\n",
      "   (0.0206978,-0.129814)\n",
      "     (0.108871,0.107555)\n",
      "  (0.0917828,-0.0557612)\n",
      "     (0.180461,0.121747)\n",
      "   (0.0456678,0.0580318)\n",
      "    (0.0311144,0.203219)\n",
      "\n",
      "*** Quantum Circuit Info ***\n",
      "# of qubit: 5\n",
      "# of step : 41\n",
      "# of gate : 171\n",
      "# of 1 qubit gate: 150\n",
      "# of 2 qubit gate: 20\n",
      "# of 3 qubit gate: 0\n",
      "# of 4 qubit gate: 1\n",
      "Clifford  : no\n",
      "Gaussian  : no\n",
      "\n",
      "*** Parameter Info ***\n",
      "# of parameter: 151\n",
      "\n"
     ]
    }
   ],
   "source": [
    "from qulacs import ParametricQuantumCircuit\n",
    "from qulacs import QuantumState\n",
    "import numpy as np\n",
    "\n",
    "n = 5\n",
    "depth = 10\n",
    "\n",
    "# construct parametric quantum circuit with random rotation\n",
    "circuit = ParametricQuantumCircuit(n)\n",
    "for d in range(depth):\n",
    "\tfor i in range(n):\n",
    "\t\tangle = np.random.rand()\n",
    "\t\tcircuit.add_parametric_RX_gate(i,angle)\n",
    "\t\tangle = np.random.rand()\n",
    "\t\tcircuit.add_parametric_RY_gate(i,angle)\n",
    "\t\tangle = np.random.rand()\n",
    "\t\tcircuit.add_parametric_RZ_gate(i,angle)\n",
    "\tfor i in range(d%2, n-1, 2):\n",
    "\t\tcircuit.add_CNOT_gate(i,i+1)\n",
    "\n",
    "# add multi-qubit Pauli rotation gate as parametric gate (X_0 Y_3 Y_1 X_4)\n",
    "target = [0,3,1,4]\n",
    "pauli_ids = [1,2,2,1]\n",
    "angle = np.random.rand()\n",
    "circuit.add_parametric_multi_Pauli_rotation_gate(target, pauli_ids, angle)\n",
    "\n",
    "# get variable parameter count, and get current parameter\n",
    "parameter_count = circuit.get_parameter_count()\n",
    "param = [circuit.get_parameter(ind) for ind in range(parameter_count)]\n",
    "\n",
    "# set 3rd parameter to 0\n",
    "circuit.set_parameter(3, 0.)\n",
    "\n",
    "# update quantum state\n",
    "state = QuantumState(n)\n",
    "circuit.update_quantum_state(state)\n",
    "\n",
    "# output state and circuit info\n",
    "print(state)\n",
    "print(circuit)"
   ]
  },
  {
   "cell_type": "markdown",
   "metadata": {},
   "source": [
    "### Conclusion\n",
    "The above run-through has shown how to use Qulacs, which is a very fast and easy-to-use library once you get used to it. For more details on the various functions, please refer to the official [API Documentation](http://qulacs.org) and [Tutorial](http://qulacs.org/md_3__tutorial_python.html)."
   ]
  }
 ],
 "metadata": {
  "kernelspec": {
   "display_name": "Python 3.9.5 64-bit ('3.9.5')",
   "language": "python",
   "name": "python3"
  },
  "language_info": {
   "codemirror_mode": {
    "name": "ipython",
    "version": 3
   },
   "file_extension": ".py",
   "mimetype": "text/x-python",
   "name": "python",
   "nbconvert_exporter": "python",
   "pygments_lexer": "ipython3",
   "version": "3.9.5"
  },
  "varInspector": {
   "cols": {
    "lenName": 16,
    "lenType": 16,
    "lenVar": 40
   },
   "kernels_config": {
    "python": {
     "delete_cmd_postfix": "",
     "delete_cmd_prefix": "del ",
     "library": "var_list.py",
     "varRefreshCmd": "print(var_dic_list())"
    },
    "r": {
     "delete_cmd_postfix": ") ",
     "delete_cmd_prefix": "rm(",
     "library": "var_list.r",
     "varRefreshCmd": "cat(var_dic_list()) "
    }
   },
   "types_to_exclude": [
    "module",
    "function",
    "builtin_function_or_method",
    "instance",
    "_Feature"
   ],
   "window_display": false
  },
  "vscode": {
   "interpreter": {
    "hash": "80f21df302999c09c3d444fe636c3228c9e442cf42cf86d38eb61dd3d3032f70"
   }
  }
 },
 "nbformat": 4,
 "nbformat_minor": 2
}
