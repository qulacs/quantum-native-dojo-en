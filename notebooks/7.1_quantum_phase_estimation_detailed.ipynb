{
 "cells": [
  {
   "attachments": {},
   "cell_type": "markdown",
   "metadata": {},
   "source": [
    "## 7-1. Quantum Phase Estimation Algorithm in Detail:Application to Hydrogen Molecule as an Example\n",
    "In this section, we review the Quantum Phase Estimation (QPE) algorithm and try to find the eigenvalues ​​of the Hamiltonian of a quantum many-body system (hydrogen molecule) using QPE. In the process, we will learn in detail the flow and techniques for applying QPE to real problems."
   ]
  },
  {
   "attachments": {},
   "cell_type": "markdown",
   "metadata": {},
   "source": [
    "### Review of Phase Estimation\n",
    "As we have already learned in [2-4. Phase estimation algorithm (introductory)](2.4_phase_estimation_beginner.ipynb), given a unitary matrix $U$, QPE extracts its eigenvalues ​​$e^{i \\lambda}$ as bit strings.\n",
    "By using QPE as a subroutine, it is expected that many problems such as prime factorization and quantum many-body energy calculation (which can be reduced to the eigenvalue problem of unitary matrices) can be solved much faster than classical computers.\n",
    "\n",
    "Let us recall the transformation of QPE specifically. Let $| u_i \\rangle$ be the eigenvector corresponding to the $i$-th eigenvalue $e^{i \\lambda_i}$ of $U$ ($U | u_i \\rangle = e^{i \\lambda_i} | u_i \\ rangle$). At this time, using the control unitary operation $\\Lambda (U)$ and the quantum Fourier transform, the QPE realizes the following transform.\n",
    "\n",
    "$$\n",
    "| u_i \\rangle | 0 \\rangle{}^{\\otimes{t}} \\xrightarrow{\\text{QPE}} | u_i \\rangle | \\tilde{\\lambda_i} \\rangle.\n",
    "$$\n",
    "\n",
    "where $| 0 \\rangle{}^{\\otimes{t}}$ are $t$ auxiliary qubits and $\\tilde{\\lambda_i}=j_1j_2 \\ldots j_t$ is a bit string that is binary expression of $\\lambda_i$ up to the $t$th digit\n",
    "\n",
    "$$\n",
    "\\frac{\\lambda_i}{2 \\pi} = \\frac{j_1}{2} + \\frac{j_2}{2^2} + \\ldots + \\frac{j_t}{2^t} = 0.j_1 j_2 \\ldots j_t\n",
    "$$ \n",
    "\n",
    "(The $(t+1)$ th digit and after are omitted.)\n",
    "\n",
    "To run this QPE on practical problems, it is believed that a quantum computer with error correction is required (long-term algorithm). The main reason is\n",
    "\n",
    "- number of auxiliary bits\n",
    "- complexity of control unitary gate $\\Lambda (U^{2^{k-1}})$ ($k =1, ..., t$)\n",
    "\n",
    "First, regarding the number of ancillary bits, for example, 50 or more ancillary bits are required to obtain $\\lambda_i$ with the precision of double-precision real numbers used in modern classical computers.\n",
    "And with such a large number of ancillary bits (i.e. large $t$ ), the control unitary gate $\\Lambda (U^{2^{k-1}})$ ($k =1, ..., t$) for very large powers of $U$.\n",
    "The difficulty of preparing such a control gate depends on what kind of matrix you consider for $U$ , but in general it is not easy:\n",
    "\n",
    "As we will see later, in the case of the eigenvalue problem of the Hermitian matrix $H$, which is one of the most promising applications of QPE, $U$ is the time evolution operator by $H$. That is, $U = e^{-iH\\tau}$ (where $\\tau$ is a constant). Therefore, the large power of $U$ means simulating development of $H$ for a long time (exponential to the reciprocal of precision). This is very difficult."
   ]
  },
  {
   "attachments": {},
   "cell_type": "markdown",
   "metadata": {},
   "source": [
    "### Iterative Quantum Phase Estimation\n",
    "\n",
    "In fact, if we're only interested in the eigenvalues ​​of $U$ and don't need the eigenstates, we can reduce the QPE ancillary bits. This is called Iterative Quantum Phase Estimation (IQPE),(https://journals.aps.org/pra/abstract/10.1103/PhysRevA.76.030306) ,and is equivalent the method introduced in the section \"Introduction: Improving the Hadamard test\" of [Section 2-4](2.4_phase_estimation_beginner.ipynb), I will describe it here again.\n",
    "\n",
    "IQPE is a method of deterministically obtaining bit strings of binary expansion of eigenvalues ​​for each digit. Only one auxiliary bit is required, and one digit value ($j_k$) of the eigenvalue binary decimal representation $0.j_1...j_t$ is obtained for each iteration.\n",
    "The steps are ($k = t, t-1, \\ldots, 1$):\n",
    "\n",
    "#### $k = t$\n",
    "1. Put a Hadamard gate on the auxiliary bit\n",
    "\n",
    "$$\n",
    "| 0 \\rangle | u_i \\rangle \\xrightarrow{H} \\frac{1}{\\sqrt{2}} \\left( |0\\rangle + |1\\rangle \\right) | u_i \\rangle  \n",
    "$$\n",
    "\n",
    "\n",
    "2. Multiply the ancillary bits by $\\Lambda (U^{2^{t-1}})$\n",
    "\n",
    "$$\n",
    "\\frac{1}{\\sqrt{2}} \\left( |0\\rangle + |1\\rangle \\right) | u_i \\rangle  \\xrightarrow{\\Lambda (U^{2^{t-1}})} \\frac{1}{\\sqrt{2}} \\left(| 0 \\rangle + e^{i \\pi j_t} | 1 \\rangle \\right) | u_i \\rangle \n",
    "$$\n",
    "\n",
    "\n",
    "3. Apply a Hadamard gate to the auxiliary bit and measure\n",
    "\n",
    "$$\n",
    "\\frac{1}{\\sqrt{2}} \\left(| 0 \\rangle + e^{i \\pi j_t} | 1 \\rangle \\right) | u_i \\rangle  \\xrightarrow{H} \\frac{1}{2} [ (1 + e^{i \\pi j_t})| 0 \\rangle + (1 - e^{i \\pi j_t}) | 1 \\rangle]   |u_i \\rangle =  | j_t \\rangle | u_i \\rangle  \\xrightarrow{\\textrm{Measure}} j_t\n",
    "$$\n",
    "\n",
    "4. Reflect the measurement result $j_t$ to the accumulation phase $\\Phi(t)$: $\\Phi(t)$: $\\Phi(t) = \\pi \\cdot \\frac{j_t}{2} = \\pi (0. j_t)$\n",
    "\n",
    "#### $k = t-1, t-2, \\ldots, 1$\n",
    "1. Apply a Hadamard gate to the auxiliary bit\n",
    "\n",
    "$$\n",
    "| 0 \\rangle | u_i \\rangle \\xrightarrow{H} \\frac{1}{\\sqrt{2}} \\left( |0\\rangle + |1\\rangle \\right) | u_i \\rangle  \n",
    "$$\n",
    "\n",
    "\n",
    "2. Apply Z rotation gate $R_Z ( \\Phi(k+1) )$ to the auxiliary bit (where $R_Z(\\theta)=e^{i\\theta/2 Z}, \\Phi(k+1) = \\pi (0.j_{k+1} j_{k+2} \\ldots j_{t})$)\n",
    "\n",
    "$$\n",
    "\\frac{1}{\\sqrt{2}} \\left( |0\\rangle + |1\\rangle \\right) | u_i \\rangle \\xrightarrow{R_Z} \\frac{e^{i\\Phi(k+1)/2}}{\\sqrt{2}} (| 0 \\rangle + e^{- i \\pi (0.j_{k+1} j_{k+2} \\ldots j_{t})} | 1 \\rangle) | u_i \\rangle \n",
    "$$\n",
    "\n",
    "\n",
    "3. Multiply the ancillary bits by $\\Lambda (U^{2^{k-1}})$\n",
    "\n",
    "$$\n",
    "\\frac{e^{i\\Phi(k+1)/2}}{\\sqrt{2}} (| 0 \\rangle + e^{- i \\pi (0.j_{k+1} j_{k+2} \\ldots j_{t})} | 1 \\rangle) | u_i \\rangle \\xrightarrow{\\Lambda (U^{2^{k-1}})} \\frac{e^{i\\Phi(k+1)/2}}{\\sqrt{2}} (| 0 \\rangle + e^{i \\pi j_k} | 1 \\rangle) | u_i \\rangle \n",
    "$$\n",
    "\n",
    "4. Apply a Hadamard gate to the auxiliary bit and measure\n",
    "\n",
    "$$\n",
    "\\frac{e^{i\\Phi(k+1)/2}}{\\sqrt{2}} (| 0 \\rangle + e^{i \\pi j_k} | 1 \\rangle) | u_i \\rangle  \\xrightarrow{H} \\frac{e^{i\\Phi(k+1)/2}}{2}  [(1 + e^{i \\pi j_k})| 0 \\rangle + (1 - e^{i \\pi j_k}) | 1 \\rangle] | u_i \\rangle = e^{i\\Phi(k+1)/2} | j_k \\rangle | u_i \\rangle  \\xrightarrow{\\textrm{Measure}} j_k\n",
    "$$\n",
    "\n",
    "\n",
    "5. Reflect the measurement result $j_k$ to the accumulation phase $\\Phi(k)$:\n",
    "\n",
    "$$\n",
    "\\Phi(k) = \\frac{\\Phi(k+1)}{2} + \\pi \\cdot \\frac{j_k}{2} = \\pi (0.j_{k} j_{k+1} \\ldots j_{t})\n",
    "$$\n",
    "\n",
    "#### After measuring all $j_k$ ($k = t, t-1, \\ldots, 1$)\n",
    "We get the desired phase.\n",
    "\n",
    "$$\n",
    "\\lambda_i = 2 \\Phi(1) = 2 \\pi (0.j_1.j_2 \\ldots j_{t})\n",
    "$$"
   ]
  },
  {
   "attachments": {},
   "cell_type": "markdown",
   "metadata": {},
   "source": [
    "### Example: Calculation of the ground state energy of the hydrogen molecular Hamiltonian using the quantum phase estimation algorithm"
   ]
  },
  {
   "attachments": {},
   "cell_type": "markdown",
   "metadata": {},
   "source": [
    "Let's calculate the ground state energy of the hydrogen molecule using the above iterative phase estimation algorithm (the following content is based on the paper [1]).\n",
    "\n",
    "As we learned in [Section 4-1](4.1_quantum_simulation.ipynb) and [Section 6-1](6.1_openfermion_basics.ipynb), the ground state energy of the hydrogen molecule is the smallest eigenvalue of Hamiltonian $H$.\n",
    "In QPE and IQPE, the eigenvalue problem of Hamiltonian $H$ is solved by **finding the eigenvalues ​​of its time evolution operator** $U = e^{−iH \\tau}$.\n",
    "\n",
    "Here, $E_{\\text{min}} and E_{\\text{max}}$ are the smallest and largest eigenvalues. $\\tau$ is some constant and is set so that $[ E_{\\text{min}}, E_{\\text{max}}]$ fit in  $[0, 2\\pi]$. (add a constant shift if necessary). Although in QPE and IQPE, the phase of the eigenvalue of $U$ has $2\\pi$ ambiguity, the eigenvalues ​​of $H$ can be uniquely restored from the eigenvalues ​​of $U$ this way.\n",
    "\n",
    "The steps required to calculate the basis energy are:\n",
    "\n",
    "0. (Reduce Hamiltonian size using symmetry etc.)\n",
    "1. Accurate approximation of Hamiltonian time evolution operator $U=e^{-iH\\tau}$\n",
    "2. Decompose the control time evolution operator into a gate set that can be easily executed on a quantum computer and implement it\n",
    "3. Prepare an initial state with sufficient overlap with the ground state\n",
    "4. Measuring energy eigenvalues ​​with IQPE\n",
    "\n",
    "A detailed explanation of the method and an implementation example are given below."
   ]
  },
  {
   "attachments": {},
   "cell_type": "markdown",
   "metadata": {},
   "source": [
    "#### 0. (Reduce Hamiltonian size using symmetry etc.)\n",
    "\n",
    "This step is necessary to reduce resources as much as possible when actually running IQPE on a simulator or on a real machine, and is not theoretically essential.\n",
    "For details, refer to reference [1], but if we map the second quantized Hamiltonian of the hydrogen molecule (STO-6G basis) to the qubit system by the Bravyi-Kitaev transformation, we get a 4-qubit Hamiltonian = $16 \\times 16$ matrix. However, if we partially diagonalize the Hamiltonian using the **symmetry of the Hamiltonian** (such as the law of conservation of the number of electrons), we can get the ground state with 2 qubits, and the Hamiltonian  has only 6 kinds of terms as follows.\n",
    "\n",
    "$$\n",
    "H = \\sum_i g_i H_i = g_0 I + g_1 Z_0 + g_2 Z_1 + g_3 Z_0 Z_1 + g_4 Y_0 Y_1 + g_5 X_0 X_1\n",
    "$$\n",
    "\n",
    "where the coefficient $g_i$ is a real number and its value depends on the interatomic distance (arrangement) of hydrogen molecules.\n",
    "Readers unfamiliar with chemistry should just understand that the above Hermitian matrix corresponding to the hydrogen molecule exists and that it is important to find the minimum eigenvalue of it."
   ]
  },
  {
   "attachments": {},
   "cell_type": "markdown",
   "metadata": {},
   "source": [
    "#### 1. Accurate approximation of Hamiltonian time evolution operator $U=e^{-iH\\tau}$\n",
    "\n",
    "To implement the control unitary operation $\\Lambda (U^{2^k})$ used in IQPE, we first implement the time evolution operator $U = e^{−iH \\tau}$ in a quantum circuit.\n",
    "First, noting that the constant terms $g_0 I$ and $g_3 Z_0 Z_1$ commute with all other terms in the Hamiltonian, $U$ becomes\n",
    "\n",
    "$$\n",
    "e^{−iH \\tau} = \\exp \\left[−i \\tau \\sum_i g_i H_i \\right] = \\exp[−i \\tau g_0 I] \\exp[−i \\tau g_3 Z_0 Z_1] \\exp[−i \\tau H_{\\textrm{eff}}]\n",
    "$$\n",
    "\n",
    "Here, $H_{\\text{eff}}$ is \n",
    "\n",
    "$$\n",
    "H_{\\text{eff}} = g_1 Z_0 + g_2 Z_1 + g_4 Y_0 Y_1 + g_5 X_0 X_1\n",
    "$$\n",
    "\n",
    "Since the contributions of $g_0 I$ and $g_3 Z_0 Z_1$ to the eigenvalues ​​of the parts can easily be added later, in the following we calculate the eigenvalues ​​of $H_{\\textrm{eff}}$ using IQPE of $U_{\\text{eff}} := e^{−i H_{\\text{eff}} \\, \\tau}$ .\n",
    "\n",
    "Trotter decomposition of $U_{\\text{eff}}$ is\n",
    "\n",
    "$$\n",
    "U_{\\text{eff}} = \\exp \\left[−i \\tau \\sum_{i=1,2,4,5} g_i H_i \\right] \\approx U_{\\text{Trot}}^{(N)} (\\tau) := \\left( \\prod_{i=1,2,4,5} \\exp[-i g_i H_i \\tau/N] \\right)^N\n",
    "$$\n",
    "\n",
    "\n",
    "Each term of the product appearing in $U_{\\text{Trot}}^{(N)}$ is a multi-qubit Pauli rotation gate, that is, the exponential function of the Pauli matrix product $\\exp(i\\theta P)$ , making it easy to implement as a product of simple quantum gates. Now we have approximately implemented $U_{\\textrm{eff}}$ on a quantum circuit."
   ]
  },
  {
   "attachments": {},
   "cell_type": "markdown",
   "metadata": {},
   "source": [
    "Let's examine the errors in this approximation. When we do a rough analytical evaluation, we have [2]\n",
    "\n",
    "$$\n",
    "\\left| U_{\\textrm{eff}} - U_{\\textrm{Trot}}^{(N)} (\\tau) \\right| \\sim \\frac{\\tau^2}{2N} \\sum_{i > j} | [H_i, H_j] |\n",
    "$$\n",
    "\n",
    "Since the system we are dealing with here is represented by a small matrix of $4 \\times 4$, let's diagonalize $H_{\\textrm{eff}}$ exactly and find its minimum eigenvalue $E_{\\textrm{min}}$, and compare it with $\\lambda_{\\textrm{Trot}}$ of $e^{i \\lambda_{\\textrm{Trot}}\\tau}$ which is the eigenvalue of $U_{\\textrm{Trot}}^{(N)}$."
   ]
  },
  {
   "attachments": {},
   "cell_type": "markdown",
   "metadata": {},
   "source": [
    "First, we diagonalize $H_{\\textrm{eff}}$. The unit of energy here is [Hartree (Ha)](https://en.wikipedia.org/wiki/Hartree)."
   ]
  },
  {
   "cell_type": "code",
   "execution_count": 1,
   "metadata": {},
   "outputs": [],
   "source": [
    "from functools import reduce\n",
    "import numpy as np\n",
    "from numpy.linalg import matrix_power, eig\n",
    "from scipy.sparse.linalg import eigsh\n",
    "from openfermion.ops import QubitOperator\n",
    "from openfermion.linalg import get_sparse_operator #If you have an error, please update openfermion later than version 1.0.0\n",
    "from qulacs import QuantumState, Observable, QuantumCircuit\n",
    "import matplotlib.pyplot as plt\n",
    "\n",
    "## Run only in Google Colaboratory or (Linux or Mac) jupyter notebook environment\n",
    "## Qulacs errors will be output normally.\n",
    "!pip3 install wurlitzer\n",
    "%load_ext wurlitzer"
   ]
  },
  {
   "cell_type": "code",
   "execution_count": 2,
   "metadata": {},
   "outputs": [],
   "source": [
    "def hamiltonian_eff():\n",
    "    \"\"\"\n",
    "    distance = 0.70 A\n",
    "    removed 'I' and 'Z0 Z1' terms, which add up to -1.31916027\n",
    "    \"\"\"\n",
    "    n_qubits = 2\n",
    "    g_list = [0.3593, 0.0896, -0.4826, 0.0896] ## taken from table 1 of paper [1]\n",
    "    pauli_strings = ['Z0', 'Y0 Y1', 'Z1', 'X0 X1']\n",
    "    hamiltonian = QubitOperator()\n",
    "    for g, h in zip(g_list, pauli_strings):\n",
    "        hamiltonian += g * QubitOperator(h)\n",
    "    sparse_matrix = get_sparse_operator(hamiltonian, n_qubits=n_qubits)\n",
    "    vals, vecs = eigsh(sparse_matrix, k=1, which='SA') ## only smallest eigenvalue and eigenvector are calculated\n",
    "    return sparse_matrix, vals"
   ]
  },
  {
   "cell_type": "code",
   "execution_count": 3,
   "metadata": {
    "scrolled": true
   },
   "outputs": [
    {
     "name": "stdout",
     "output_type": "stream",
     "text": [
      "exact_eigenvalue: -0.8607602744 Ha\n"
     ]
    }
   ],
   "source": [
    "_, eigs = hamiltonian_eff()\n",
    "exact_eigenvalue = eigs[0] \n",
    "print('exact_eigenvalue: {:.10f} Ha'.format(exact_eigenvalue)) ## print eigenvalue up to 10 digits after decimal point"
   ]
  },
  {
   "attachments": {},
   "cell_type": "markdown",
   "metadata": {},
   "source": [
    "Next, we diagonalize $U_{\\textrm{Trot}}^{(N)}$. Later, we implement $U_{\\textrm{Trot}}^{(N)}$ as a quantum circuit. Here, we calculate it by using the following formula which holds true when $H_i^2 = I$\n",
    "\n",
    "$$\n",
    "\\left( \\prod_{i=1,2,4,5} \\exp[-i g_i H_i \\tau/N] \\right)^N = \\left( \\prod_{i=1,2,4,5} \\left( \\cos(g_i\\tau/N) I -i \\sin(g_i\\tau/N) H_i \\right) \\right)^N\n",
    "$$\n",
    "\n",
    "Then, find the $\\lambda_{\\textrm{Trot}}$ of the eigenvalue $e^{-i \\lambda_{\\textrm{Trot}}\\tau}$ of $U_{\\textrm{Trot}}^{(N)}$ at $N = 1, 3, \\ldots, 9$ and compare it with $E_{\\textrm{min}}$."
   ]
  },
  {
   "cell_type": "code",
   "execution_count": 4,
   "metadata": {},
   "outputs": [],
   "source": [
    "def order_n_trotter_approx(t, n_trotter_steps):\n",
    "    \"\"\"\n",
    "    ordering: 'Z0', 'Y0 Y1', 'Z1', 'X0 X1'\n",
    "    Returns:\n",
    "        sparse_matrix: trotterized [exp(iHt/n)]^n\n",
    "        args: list of phases of each eigenvalue, exp(i*phase)\n",
    "    \"\"\"\n",
    "    n_qubits = 2\n",
    "    g_list = [0.3593, 0.0896, -0.4826, 0.0896]\n",
    "    pauli_strings = ['Z0', 'Y0 Y1', 'Z1', 'X0 X1']\n",
    "    terms = []\n",
    "    for g, h in zip(g_list, pauli_strings):\n",
    "        arg = g * t / n_trotter_steps\n",
    "        qop = complex(np.cos(arg), 0) * QubitOperator('') - complex(0, np.sin(arg)) * QubitOperator(h)\n",
    "        terms += [get_sparse_operator(qop, n_qubits=n_qubits)]\n",
    "    sparse_matrix = reduce(np.dot, terms) \n",
    "    matrix = matrix_power(sparse_matrix.toarray(), n_trotter_steps)  ## this is U_{trot}^{(N)}\n",
    "    vals, vecs = eig(matrix)  ## e^{i lambda_{trot} }\n",
    "    args = np.angle(vals) ## returns value in [-pi, pi] -> we don't modify output since we know exact value is around -0.86\n",
    "    return sparse_matrix, sorted(args) ## we return sorted values"
   ]
  },
  {
   "cell_type": "code",
   "execution_count": 5,
   "metadata": {
    "scrolled": true
   },
   "outputs": [
    {
     "name": "stdout",
     "output_type": "stream",
     "text": [
      "N, E_trot, |exact_eig - E_trot|\n",
      "1, -0.8602760326, 4.842e-04\n",
      "3, -0.8607068561, 5.342e-05\n",
      "5, -0.8607410548, 1.922e-05\n",
      "7, -0.8607504700, 9.804e-06\n",
      "9, -0.8607543437, 5.931e-06\n"
     ]
    }
   ],
   "source": [
    "tau = 0.640 ## taken from table 1 of paper [1]\n",
    "print('N, E_trot, |exact_eig - E_trot|')\n",
    "for n in range(1, 10, 2):\n",
    "    _, phases = order_n_trotter_approx(tau, n)\n",
    "    e_trotter = phases[0]/tau\n",
    "    print( f\"{n}, {e_trotter:.10f}, {abs(exact_eigenvalue - e_trotter):.3e}\" ) "
   ]
  },
  {
   "attachments": {},
   "cell_type": "markdown",
   "metadata": {},
   "source": [
    "As the order $N$ increases, the accuracy of the approximation increases.To approximate the true energy eigenvalues ​​with the accuracy required by chemical calculation, called chemical accuracy ( $1.6 × 10^{−3}$ Ha), $N = 1$ turns out to be enough this time."
   ]
  },
  {
   "attachments": {},
   "cell_type": "markdown",
   "metadata": {},
   "source": [
    "#### 2. Decomposition of the control time evolution operator into a set of gates that can be easily executed on a quantum computer and implementation.\n",
    "To run the controlled time evolution operator $\\Lambda \\left( \\left( U_{\\textrm{Trot}}^{(N)} \\right)^{2^k} \\right)$ on a quantum computer needs to decompose this into simple quantum gates.\n",
    "In this example, we need  to decompose the following controlled rotation gate included in $U_{\\textrm{Trot}}^{(N)}$.\n",
    "\n",
    "- $\\Lambda(R_Z(\\theta))$\n",
    "- $\\Lambda(R_{XX}(\\theta))$\n",
    "- $\\Lambda(R_{YY}(\\theta))$ \n",
    "\n",
    "$R_Z(\\theta) = e^{i\\theta/2 Z_x}$ is the $Z$ direction rotation gate acting on the $x(=0,1)\\text{th}$ qubit, $R_{XX}(\\theta) = e^{i\\theta/2 X_0 X_1}, R_{YY}(\\theta) = e^{i\\theta/2 Y_0 Y_1}$ is also a rotation gate.\n",
    "\n",
    "First, $\\Lambda(R_Z(\\theta))$ is a gate that, when multiplied by control bit $| c \\rangle$ and target bit $| t \\rangle$, satisfies $(c=0,1)$ \n",
    "\n",
    "$$\n",
    "\\Lambda(R_Z(\\theta)) | c \\rangle | t \\rangle = | c \\rangle (R_Z(\\theta))^c | t \\rangle\n",
    "$$\n",
    "\n",
    "Note that $\\textrm{CNOT} | c \\rangle | t \\rangle = | c \\rangle X^c | t \\rangle$、 $XZX = -Z$ holds, the formula can be transformed as follows\n",
    "\n",
    "$$\n",
    "\\textrm{CNOT} \\left(I \\otimes R_Z(-\\theta/2) \\right) \\textrm{CNOT} \\left(I \\otimes R_Z(\\theta/2) \\right) | c \\rangle | t \\rangle\n",
    "= | c \\rangle　X^c　R_Z(-\\theta/2) X^c R_Z(\\theta/2) | t \\rangle\n",
    "= | c \\rangle \\left(R_Z(\\theta)\\right)^c | t \\rangle\n",
    "$$\n",
    "\n",
    "Therefore,\n",
    "\n",
    "$$\n",
    "\\Lambda(R_Z(\\theta)) = \\textrm{CNOT} \\left(I \\otimes R_Z(-\\theta/2) \\right) \\textrm{CNOT} \\left(I \\otimes R_Z(\\theta/2) \\right)\n",
    "$$\n",
    "\n",
    "In other words, the controlled rotation gate $\\Lambda(R_Z(\\theta))$ could be implemented using the basic gates of the CNOT gate and the $Z$ rotation gate.\n",
    "\n",
    "Moreover,\n",
    "\n",
    "$$\n",
    "\\textrm{CNOT}_{0,1} \\left(I_0 \\otimes Z_1 \\right) \\textrm{CNOT}_{0,1} = Z_0 \\otimes Z_1\n",
    "$$\n",
    "\n",
    "Using the above, $\\Lambda(R_{ZZ}(\\theta))$ can be realized.\n",
    "\n",
    "Then, using $H Z H = X$ or $SH Z HS^{\\dagger} = Y$, $\\Lambda(R_{XX}(\\theta))$, $\\Lambda(R_{YY}(\\theta) )$ can be realized respectively. See also the implementation below for details.\n",
    "\n",
    "In the code below, in Qulacs, we implement a quantum circuit of time evolution operator $\\Lambda \\left( \\left( U_{\\textrm{Trot}}^{(N)} \\right)^{2^k} \\right)$ and construct a circuit to run in IQPE. The circuit diagram is as follows.\n",
    "\n",
    "![IQPE circuit](figs/7/IQPE.png)"
   ]
  },
  {
   "cell_type": "code",
   "execution_count": 6,
   "metadata": {},
   "outputs": [],
   "source": [
    "def IQPE_circuit(g_list, tau, kickback_phase, k, n_trotter_step=1):\n",
    "    n_qubits = 3 ## 2 for system, 1 for ancillary\n",
    "    a_idx = 2 ## ancilla index\n",
    "    phi = -(tau / n_trotter_step) * g_list ## coefficient for Pauli\n",
    "    circuit = QuantumCircuit(n_qubits)\n",
    "    ## Apply Hadamard to ancilla\n",
    "    circuit.add_H_gate(a_idx)\n",
    "    ## Apply kickback phase rotation to ancilla bit\n",
    "    circuit.add_RZ_gate(a_idx, kickback_phase)\n",
    "    ## controlled time evolution (Apply controll-e^{-iH*tau} for 2^{k-1} times\n",
    "    for _ in range( 2 ** (k-1) ):\n",
    "        for _ in range(n_trotter_step):\n",
    "            # CU(Z0) i.e. controlled exp(i phi[0]*Z_0)\n",
    "            circuit.add_RZ_gate(0, phi[0]) ## note that qulacs' RZ is defined as RZ(theta) = e^{i*theta/2*Z} \n",
    "            circuit.add_CNOT_gate(a_idx, 0)\n",
    "            circuit.add_RZ_gate(0, -phi[0])\n",
    "            circuit.add_CNOT_gate(a_idx, 0)\n",
    "        \n",
    "            # CU(Y0 Y1)\n",
    "            circuit.add_Sdag_gate(0)\n",
    "            circuit.add_Sdag_gate(1)\n",
    "            circuit.add_H_gate(0)\n",
    "            circuit.add_H_gate(1)\n",
    "            circuit.add_CNOT_gate(0, 1)\n",
    "            circuit.add_RZ_gate(1, phi[1])\n",
    "            circuit.add_CNOT_gate(a_idx, 1)\n",
    "            circuit.add_RZ_gate(1, -phi[1])\n",
    "            circuit.add_CNOT_gate(a_idx, 1)\n",
    "            circuit.add_CNOT_gate(0, 1)                \n",
    "            circuit.add_H_gate(0)\n",
    "            circuit.add_H_gate(1)\n",
    "            circuit.add_S_gate(0)\n",
    "            circuit.add_S_gate(1)\n",
    "        \n",
    "            # CU(Z1)\n",
    "            circuit.add_RZ_gate(1, phi[2])\n",
    "            circuit.add_CNOT_gate(a_idx, 1)\n",
    "            circuit.add_RZ_gate(1, -phi[2])\n",
    "            circuit.add_CNOT_gate(a_idx, 1)\n",
    "        \n",
    "            # CU(X0 X1)\n",
    "            circuit.add_H_gate(0)\n",
    "            circuit.add_H_gate(1)\n",
    "            circuit.add_CNOT_gate(0, 1)\n",
    "            circuit.add_RZ_gate(1, phi[3])\n",
    "            circuit.add_CNOT_gate(a_idx, 1)\n",
    "            circuit.add_RZ_gate(1, -phi[3])\n",
    "            circuit.add_CNOT_gate(a_idx, 1)\n",
    "            circuit.add_CNOT_gate(0, 1)     \n",
    "            circuit.add_H_gate(0)\n",
    "            circuit.add_H_gate(1)\n",
    "            \n",
    "    ## Apply Hadamard to ancilla\n",
    "    circuit.add_H_gate(a_idx)\n",
    "    return circuit"
   ]
  },
  {
   "attachments": {},
   "cell_type": "markdown",
   "metadata": {},
   "source": [
    "#### 3. Prepare an initial state with sufficient overlap with the ground state\n",
    "In the explanation of QPE and IQPE so far, for the sake of simplicity, we have assumed that the state on which $U$ acts is its eigenstate. In fact, even if the input state is \"sufficiently close to (overlapping) the state for which the eigenvalue is desired,\" the eigenvalue can be obtained with sufficiently high accuracy.\n",
    "\n",
    "Let $|n \\rangle$ be the eigenstate of the Hamiltonian, E be the corresponding eigenvalue, and p be the reference state.\n",
    "\n",
    "$$\n",
    "e^{iH } |0\\ldots 0 \\rangle  |\\phi \\rangle \\xrightarrow{QPE} \\sum_n c_n |\\tilde{E_n} \\rangle  |n \\rangle \n",
    "$$\n",
    "\n",
    "Here, for example, if the 1st ancillary bit $j_1$ is measured, the probability of observing 0 is $\\sum_{n \\, \\textrm{s.t.} \\tilde{E_n}^{(1)}=0 } |c_n|^2$ , that is, proportional to the sum of the weights for the eigenvalues ​​$E_n$ whose first digit in the binary decimal expansion of the eigenvalues ​​is 0. Therefore, if the value of $\\{|c_n|^2\\}_n$ is large enough only for the desired state, repeat the measurement of $j_1$ and take 0 or 1, whichever is more observed, to obtain the desired eigenvalue of (See also Nielsen-Chuang's `Exercise 5.8` for a more rigorous treatment.)\n",
    "\n",
    "In the case of the problem of obtaining the ground energy of the hydrogen molecule this time, the Hartree-Fock (HF) state $|\\phi \\rangle = |01 \\rangle$ is sufficiently close to the ground state, so it is used (Note: In this case the HF state is $|01\\rangle$[1])"
   ]
  },
  {
   "attachments": {},
   "cell_type": "markdown",
   "metadata": {},
   "source": [
    "#### 4. Measure energy eigenvalues ​​with IQPE\n",
    "Now let's run IQPE.\n",
    "\n",
    "The implementation below uses `state.get_marginal_probability(bit_list)` which is convenient when measuring only specific qubits such as auxiliary bits and using the results. This is a function that calculates the probability that a particular qubit of a quantum state `state` has a particular bit value from the amplitude of the wave function.\n",
    "For example, the probability that the ancillary bit (`index=2`) is in the `0` state (0, do not measure for the 1st qubit) are obtained with `get_marginal_probability([2, 2, 0])` (`2` stands for no measurement)."
   ]
  },
  {
   "cell_type": "code",
   "execution_count": 7,
   "metadata": {
    "scrolled": true
   },
   "outputs": [],
   "source": [
    "from qulacs.circuit import QuantumCircuitOptimizer\n",
    "\n",
    "def iterative_phase_estimation(g_list, tau, n_itter, init_state, n_trotter_step=1, kickback_phase=0.0):\n",
    "    for k in reversed(range(1, n_itter+1)): ## run from n_itter to 1\n",
    "        psi = init_state.copy()\n",
    "        circuit = IQPE_circuit(np.array(g_list), tau, kickback_phase, k, n_trotter_step=n_trotter_step)\n",
    "        ## Optimize loops for faster execution time\n",
    "        opt = QuantumCircuitOptimizer()\n",
    "        max_block_size = 4\n",
    "        opt.optimize(circuit, max_block_size)\n",
    "        ## execute circuit\n",
    "        circuit.update_quantum_state(psi)\n",
    "        # partial trace\n",
    "        p0 = psi.get_marginal_probability([2, 2, 0])\n",
    "        p1 = psi.get_marginal_probability([2, 2, 1])\n",
    "        # update kickback phase\n",
    "        #print(f\"k={k:2d}, p0={p0:.3f}, p1={p1:.3f}\")\n",
    "        kth_digit = 1 if (p0 < p1) else 0\n",
    "        kickback_phase = 0.5 * kickback_phase + np.pi * 0.5 * kth_digit\n",
    "    return 2 * kickback_phase"
   ]
  },
  {
   "attachments": {},
   "cell_type": "markdown",
   "metadata": {},
   "source": [
    "Then, IQPE is executed while checking how many digits the phase should be measured (how large $t$ of $0.j_1 \\ldots j_t$ should be).\n",
    "When chemical precision ($1.6 \\times 10^{-3}$ Ha), which is one measure of precision in chemistry calculation, is required, the number of iterations theoretically estimated [3] is\n",
    "\n",
    "$$\n",
    "t = - \\log_2 (1.6 \\times 10^{-3}) + \\log_2 \\left(2 + \\frac{1}{2 \\times 0.5} \\right) \\approx 10.87\n",
    "$$\n",
    "\n",
    "In other words, $t = 11$ is sufficient. Let's actually calculate it."
   ]
  },
  {
   "cell_type": "code",
   "execution_count": 8,
   "metadata": {
    "scrolled": false
   },
   "outputs": [
    {
     "name": "stdout",
     "output_type": "stream",
     "text": [
      "e_trotter=-0.8602760326\n",
      "n_itter= 1, e_iqpe= -0.000000, error=8.60276e-01\n",
      "n_itter= 2, e_iqpe= -0.000000, error=8.60276e-01\n",
      "n_itter= 3, e_iqpe= -1.227185, error=3.66909e-01\n",
      "n_itter= 4, e_iqpe= -0.613592, error=2.46684e-01\n",
      "n_itter= 5, e_iqpe= -0.920388, error=6.01124e-02\n",
      "n_itter= 6, e_iqpe= -0.920388, error=6.01124e-02\n",
      "n_itter= 7, e_iqpe= -0.843689, error=1.65866e-02\n",
      "n_itter= 8, e_iqpe= -0.843689, error=1.65866e-02\n",
      "n_itter= 9, e_iqpe= -0.862864, error=2.58816e-03\n",
      "n_itter=10, e_iqpe= -0.862864, error=2.58816e-03\n",
      "n_itter=11, e_iqpe= -0.858071, error=2.20553e-03\n",
      "n_itter=12, e_iqpe= -0.860467, error=1.91316e-04\n"
     ]
    }
   ],
   "source": [
    "n_qubits = 3 # 2 for electron configurations and 1 for ancilla\n",
    "g_list = [0.3593, 0.0896, -0.4826, 0.0896]\n",
    "# pauli_strings = ['Z 0', 'Y 0 Y 1', 'Z 1', 'X 0 X 1']\n",
    "hf_state = QuantumState(n_qubits)\n",
    "hf_state.set_computational_basis(0b001) # |0>|01>\n",
    "tau = 0.640\n",
    "\n",
    "e_trotter = -0.8602760325707504 ## exact one of U_{Trot}^{(N)}\n",
    "print(f\"e_trotter={e_trotter:.10f}\")\n",
    "\n",
    "result_list = []\n",
    "for n_itter in range(1, 12+1): # precission in digit\n",
    "    iqpe_phase = iterative_phase_estimation(g_list, tau, n_itter, hf_state, n_trotter_step=1, kickback_phase=0.0)\n",
    "    e_iqpe = - iqpe_phase/tau ## U=exp(-iH*tau) so the IQPE picks up eigenvalue of -H*tau  \n",
    "    print(f\"n_itter={n_itter:2d}, e_iqpe={e_iqpe:10f}, error={np.abs(e_iqpe-e_trotter):.5e}\")\n",
    "    result_list.append([n_itter, e_iqpe])\n",
    "    \n",
    "#print('e_iqpe = {} Ha, |e_iqpe-e_trotter| = {} Ha'.format(e_iqpe, abs(e_iqpe-e_trotter)))"
   ]
  },
  {
   "cell_type": "code",
   "execution_count": 9,
   "metadata": {},
   "outputs": [
    {
     "data": {
      "text/plain": [
       "<matplotlib.collections.PolyCollection at 0x121d55150>"
      ]
     },
     "execution_count": 9,
     "metadata": {},
     "output_type": "execute_result"
    },
    {
     "data": {
      "image/png": "[encoded data removed]",
      "text/plain": [
       "<Figure size 432x288 with 1 Axes>"
      ]
     },
     "metadata": {
      "needs_background": "light"
     },
     "output_type": "display_data"
    }
   ],
   "source": [
    "## plotting the result\n",
    "result_array = np.array(result_list)\n",
    "plt.xlabel(\"# of digit\", fontsize=15)\n",
    "plt.ylabel(\"Error\", fontsize=15)\n",
    "plt.semilogy(result_array[:,0], np.abs(result_array[:,1] - e_trotter), \"bo-\")\n",
    "plt.xlim(0,13)\n",
    "plt.fill_between([0,13], 1.6e-3, color = \"lightgrey\") ## fill the chemical accuracy region"
   ]
  },
  {
   "attachments": {},
   "cell_type": "markdown",
   "metadata": {},
   "source": [
    "As expected, we finally reached chemical accuracy at `n_itter = 12`.\n",
    "\n",
    "One thing to note here is that the sample code introduced here uses the (controlled) time evolution operator $\\Lambda \\left( \\left( U_{\\textrm{Trot}}^{(N)} \\right)^{2^k} \\right)$ whose depth grows exponentially with respect to $t$. That is, exponentially more gates must be used to improve accuracy. Here, we introduced a method based on a simple Trotter decomposition, there have been many studies using other methods to efficiently implement the time evolution operator. Interested readers are referred to references [4][5][6]."
   ]
  },
  {
   "attachments": {},
   "cell_type": "markdown",
   "metadata": {},
   "source": [
    "### Reference\n",
    "[1] P. J. J. O’Malley _et al._ , “Scalable Quantum Simulation of Molecular Energies“, [PHYSICAL REVIEW X 6, 031007 (2016)](https://journals.aps.org/prx/abstract/10.1103/PhysRevX.6.031007)   \n",
    "[2] S. Lloyd, “Universal Quantum Simulators“, [Science 273, Issue 5278, pp.1073-1078](https://science.sciencemag.org/content/273/5278/1073)   \n",
    "[3] M. Nielsen and I. Chuang, “Quantum Computation and Quantum Information“ , Sec. 5.2   \n",
    "[4] D. W. Berry, G. Ahokas, R. Cleve, B. C. Sanders, “Efficient quantum algorithms for simulating sparse Hamiltonians“,\n",
    "[Communications in Mathematical Physics 270, 359 (2007)](https://link.springer.com/article/10.1007/s00220-006-0150-x)   \n",
    "[5] D. W. Berry and  A. M. Childs,  “Black-box Hamiltonian simulation and unitary implementation“, [Quantum Information and Computation 12, 29 (2012)](http://www.rintonpress.com/journals/qiconline.html#v12n12)   \n",
    "[6] D. W. Berry, A. M. Childs, R. Cleve, R. Kothari, and R. D. Somma,  “Simulating Hamiltonian dynamics with a truncated Taylor series“, \n",
    "[Phys. Rev. Lett. 114, 090502 (2015)](https://dx.doi.org/10.1103/PhysRevLett.114.090502)"
   ]
  }
 ],
 "metadata": {
  "kernelspec": {
   "display_name": "sample_env",
   "language": "python",
   "name": "python3"
  },
  "language_info": {
   "codemirror_mode": {
    "name": "ipython",
    "version": 3
   },
   "file_extension": ".py",
   "mimetype": "text/x-python",
   "name": "python",
   "nbconvert_exporter": "python",
   "pygments_lexer": "ipython3",
   "version": "3.9.15 | packaged by conda-forge | (main, Nov 22 2022, 08:48:25) \n[Clang 14.0.6 ]"
  },
  "vscode": {
   "interpreter": {
    "hash": "aba3de3b8dbe48b5e4e51e098a04a30a0927795f9567e6bf7f68774a73528d2f"
   }
  }
 },
 "nbformat": 4,
 "nbformat_minor": 2
}
