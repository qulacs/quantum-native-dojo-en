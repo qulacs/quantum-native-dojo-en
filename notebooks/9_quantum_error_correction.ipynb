{
 "cells": [
  {
   "attachments": {},
   "cell_type": "markdown",
   "metadata": {},
   "source": [
    "# Chapter 9 Quantum Error Correction"
   ]
  },
  {
   "attachments": {},
   "cell_type": "markdown",
   "metadata": {},
   "source": [
    "Devices that make up computers operating in realistic situations are constantly exposed to external noise, and for a variety of reasons, they never operate 100% accurately and have a finite probability of error.\n",
    "If the error is not related to the purpose of the computation, or if the possibility of the error occurring during the computation time is negligible, it is acceptable, but in general it is difficult to guarantee that the results of an error-prone computation will be correct.\n",
    "\n",
    "In order to perform meaningful calculations under these circumstances, error correction is necessary. Error correction is the redundant representation of $n$ bits of information with a larger number of bits than $n$, so that the original state can be restored even if some errors occur in the bits. Expressing $n$ bits of information into a redundant representation is called encoding, and restoring the original information by reading the redundant information is called decoding. Error correction on a quantum computer is called quantum error correction. Performing calculations in the encoded state with error correction capability is called error tolerant computation.\n",
    "To perform complex calculations such as 1024-bit prime factorization using quantum computation, it is essential to perform quantum error tolerant computation.\n",
    "\n",
    "Error correction techniques have long been used even before quantum computers were conceived. Even today, it is widely used for large-scale computations such as supercomputers, communications in noisy environments, distributed systems with multiple nodes, and ensuring high reliability in finance and infrastructure. Is it possible to perform quantum error correction and quantum error tolerant computation using these time-honored theories of error correction? The answer is no.\n",
    "Due to the characteristics of a quantum computer, such as No cloning theorem of a qubit, direct observation of the bit, which is a prerequisite for conventional error correction, cannot be performed. Therefore, in order to realize error correction in a quantum computer, an error correction theory specifically for quantum computers is required.\n",
    "\n",
    "This chapter is organized as follows. First, the \"Classical Error Correction\" section outlines the mechanism and degree of errors in classical computers and typical methods of classical error correction. The section on \"Quantum Errors\" describes the causes and formulations of errors that occur in different devices of qubits. In particular, errors that depend on the lifetime of the qubit and errors related to the back-action during quantum manipulation are discussed. Then, we will learn about quantum error correction, which is an extension of the linear codes used in classical error correction. Furthermore, concepts such as stabilizer codes and topological codes will be studied, and finally, surface codes, which are said to be suitable for realization, will be introduced."
   ]
  },
  {
   "attachments": {},
   "cell_type": "markdown",
   "metadata": {
    "nbsphinx-toctree": {}
   },
   "source": [
    "- [9-1. Classical error](9.1_error_correction.ipynb)\n",
    "- [9-2. Quantum error](9.2_quantum_error_correction.ipynb)"
   ]
  }
 ],
 "metadata": {
  "celltoolbar": "Edit Metadata",
  "kernelspec": {
   "display_name": "Python 3",
   "language": "python",
   "name": "python3"
  },
  "language_info": {
   "codemirror_mode": {
    "name": "ipython",
    "version": 3
   },
   "file_extension": ".py",
   "mimetype": "text/x-python",
   "name": "python",
   "nbconvert_exporter": "python",
   "pygments_lexer": "ipython3",
   "version": "3.7.5"
  }
 },
 "nbformat": 4,
 "nbformat_minor": 2
}
