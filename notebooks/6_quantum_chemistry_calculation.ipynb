{
 "cells": [
  {
   "cell_type": "markdown",
   "metadata": {},
   "source": [
    "# Chapter 6. Quantum chemistry calculation\n",
    "\n",
    "In this chapter, we will learn about quantum chemical calculations, which is considered one of the most important and promising applications of NISQ devices. First, we will learn how to handle OpenFermion, a useful library for quantum chemical calculations, and  how to convert quantum chemistry problems into a form that can be solved by a quantum computer. (chapter 6-1) After that, in chapter 6-2, we implement variational quantum eigensolver, which we learned in  [chapter 5-1](5.1_variational_quantum_eigensolver.ipynb) with QURI Parts. In chapter 6-3, we learn about subspace-variational quantum eigensolver (SS-VQE) with which we can calculate not only the ground state but also the excited state.\n",
    "\n",
    "*This chapter requires a prerequisite knowledge of quantum chemistry, so if you don't understand what you are reading, please refer to other literature or skip over it."
   ]
  },
  {
   "cell_type": "markdown",
   "metadata": {
    "nbsphinx-toctree": {}
   },
   "source": [
    "- [6-1. OpenFermion Basics](6.1_openfermion_basics.ipynb)\n",
    "- [6-2. Variational Quantum Eigensolver (VQE) Implementation using QURI Parts](6.2_qp_VQE.ipynb)\n",
    "- [6-3. Calculation of Excited States using Subspace-Search Variational Quantum Eigensolver](6.3_subspace_search_VQE.ipynb)"
   ]
  }
 ],
 "metadata": {
  "celltoolbar": "Edit Metadata",
  "kernelspec": {
   "display_name": "Python 3",
   "language": "python",
   "name": "python3"
  },
  "language_info": {
   "codemirror_mode": {
    "name": "ipython",
    "version": 3
   },
   "file_extension": ".py",
   "mimetype": "text/x-python",
   "name": "python",
   "nbconvert_exporter": "python",
   "pygments_lexer": "ipython3",
   "version": "3.7.5"
  }
 },
 "nbformat": 4,
 "nbformat_minor": 2
}
