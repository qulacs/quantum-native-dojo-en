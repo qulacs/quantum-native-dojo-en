{
 "cells": [
  {
   "attachments": {},
   "cell_type": "markdown",
   "metadata": {},
   "source": [
    "# Chapter 7 Quantum phase estimation algorithm and its application\n",
    "\n",
    "Chapter 7 describes the quantum phase estimation algorithm, one of the most important quantum algorithms, and the Harrow-Hassidim-Lloyd (HHL) algorithm, which uses it as a subroutine to solve simultaneous linear equations at high speed (quantum phase estimation algorithm itself has already been briefly introduced in Section [2-4](2.4_phase_estimation_beginner.ipynb)).\n",
    "\n",
    "In addition, we introduce quantum random access memory (qRAM), which is required when applying the HHL algorithm to a real problem, and an example of applying the HHL algorithm to the financial engineering problem of portfolio optimization. The contents of this chapter are expected to be applied to a wide range of fields, such as speeding up machine learning using quantum computers and high-precision energy calculations for large-scale molecules. We would like you to broaden your interest while referring to references.\n",
    "(Algorithms introduced in this chapter are long-term algorithms (algorithms that will only work on quantum computers with quantum error correction).)"
   ]
  },
  {
   "attachments": {},
   "cell_type": "markdown",
   "metadata": {
    "nbsphinx-toctree": {}
   },
   "source": [
    "- [7-1. Quantum Phase Estimation (QPE) Algorithm Detailed：Hydrogen Molecule as Example](7.1_quantum_phase_estimation_detailed.ipynb)\n",
    "- [7-2. Harrow-Hassidim-Lloyd (HHL) Algorithm](7.2_Harrow-Hassidim-Lloyd_algorithm.ipynb)\n",
    "- [Column：Quantum Random Access Memory (qRAM)](7.2c_quantum_random_access_memory.ipynb)\n",
    "- [7-3. Portfolio Optimization by HHL Algorithm](7.3_application_of_HHL_algorithm.ipynb)\n",
    "- [Column：Fast Singular Value Decomposition and Sampling for Low Rank Matrices（Quantum-Inspired Algorithm](7.3c_quantum_inspired_algorithm.ipynb)"
   ]
  }
 ],
 "metadata": {
  "kernelspec": {
   "display_name": "Python 3",
   "language": "python",
   "name": "python3"
  },
  "language_info": {
   "codemirror_mode": {
    "name": "ipython",
    "version": 3
   },
   "file_extension": ".py",
   "mimetype": "text/x-python",
   "name": "python",
   "nbconvert_exporter": "python",
   "pygments_lexer": "ipython3",
   "version": "3.7.5"
  }
 },
 "nbformat": 4,
 "nbformat_minor": 2
}
