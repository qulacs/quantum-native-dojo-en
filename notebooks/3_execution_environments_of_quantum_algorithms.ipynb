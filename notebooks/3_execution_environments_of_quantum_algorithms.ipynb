{
 "cells": [
  {
   "cell_type": "markdown",
   "metadata": {},
   "source": [
    "# Chapter 3. Execution Environment for Quantum Algorithms\n",
    "\n",
    "In order to develop a quantum algorithm and verify whether it is effective for a real problem, some kind of execution environment must be prepared. It would be best if we could directly access an actual quantum computer to run the algorithm and debug the results through trial and error, but this is difficult because there are only a few dozen quantum computers (NISQ devices) in the world today. Furthermore, the current (April 2019) actual devices are very noisy, making it difficult to accurately evaluate the performance of newly developed algorithms. Because of these factors, **the use of simulators that simulate the operation of quantum computers is essential for the development of quantum algorithms.**\n",
    "\n",
    "This chapter therefore introduces the environment for running and developing various quantum algorithms.\n",
    "\n",
    "- In section 3-1, we introduce how to use the library [QURI Parts](https://github.com/QunaSys/quri-parts), which can simulate the operation of a quantum computer at ultra-high speed and is useful for developing and debugging quantum algorithms.\n",
    "- Section 3-2 describes how to use [Qiskit](https://qiskit.org), IBM's quantum computer simulation library  and [IBM Q Experience](https://quantumexperience.ng.bluemix.net/qx/editor), a service that makes actual quantum computers available in the cloud.\n"
   ]
  },
  {
   "cell_type": "markdown",
   "metadata": {
    "nbsphinx-toctree": {}
   },
   "source": [
    "- [3-1. QURI_Parts](3.1_QURI_Parts.ipynb)\n",
    "- [3-2. Execute quantum algorithms on IBM devices](3.2_IBM_Devices.ipynb)"
   ]
  }
 ],
 "metadata": {
  "celltoolbar": "Edit Metadata",
  "kernelspec": {
   "display_name": "Python 3",
   "language": "python",
   "name": "python3"
  },
  "language_info": {
   "codemirror_mode": {
    "name": "ipython",
    "version": 3
   },
   "file_extension": ".py",
   "mimetype": "text/x-python",
   "name": "python",
   "nbconvert_exporter": "python",
   "pygments_lexer": "ipython3",
   "version": "3.7.3"
  }
 },
 "nbformat": 4,
 "nbformat_minor": 2
}
