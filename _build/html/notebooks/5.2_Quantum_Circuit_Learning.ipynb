{
 "cells": [
  {
   "cell_type": "markdown",
   "metadata": {},
   "source": [
    "## 5-2. Quantum Circuit learning"
   ]
  },
  {
   "cell_type": "markdown",
   "metadata": {},
   "source": [
    "**Quantum Circuit Learning** (Quantum Circuit Learning, QCL) is an algorithm for applying quantum computers to machine learning [[1]](https://arxiv.org/abs/1803.00745).  \n",
    "Like VQE (Variational Quantum Eigensolver) studied in the previous section, it is a **quantum/classical hybrid algorithm** is designed to work on **NISQ** (Noisy Intermediate-Scale Quantum Computer), a medium-scale quantum computer without error correction capability. Experiments using actual NISQ devices have already been conducted, and a paper on an actual implementation of QCL by an IBM experimental team was published in Nature in March 2019 and became a hot topic.\n",
    "\n",
    "In the following, we first provide an overview of the algorithm and specific learning steps, and finally present an example implementation using the quantum simulator Qulacs."
   ]
  },
  {
   "cell_type": "markdown",
   "metadata": {},
   "source": [
    "### Overview of QCL\n",
    "\n",
    "In recent years, deep learning has been in the limelight in the field of machine learning.  \n",
    "In deep learning, a deep **neural network** is used to approximate complex functions to learn the relationship between inputs and outputs and to make predictions on new data.  \n",
    "\n",
    "QCL is a machine learning method that replaces this neural network with a **quantum circuit**, or quantum computer. The use of quantum circuits improves the expressive power of the model because it can learn using **a large number of basis functions in an exponential manner**, taking advantage of the principle of superposition in quantum mechanics. Furthermore, it is believed that the conditions that must be satisfied by quantum circuits (unitarity) can **automatically prevent overfitting**. This is expected to further improve performance beyond that of machine learning on classical computers.   \n",
    "(For details, see reference [1].)\n",
    "\n",
    "In neural networks, the function is approximated by adjusting the weight parameter $W$ of each layer, and the concept is exactly the same in QCL.  \n",
    "In other words, the quantum circuit used in QCL contains multiple \"rotation gates,\" and the function is approximated by adjusting the rotation angle $\\theta$ of these rotation gates. The specific procedure is shown below."
   ]
  },
  {
   "cell_type": "markdown",
   "metadata": {},
   "source": [
    "### Learning Procedure\n",
    "1. prepare learning data $\\{(x_i, y_i)\\}_i$ ($x_i$ is the input data and $y_i$ is the correct data to be predicted from $x_i$ (training data) )\n",
    "2. prepare a circuit  $U_{\\text{in}}(x)$, which is determined by some rule from the input $x$, and set the input state $\\{|\\psi_{\\rm in}(x_i)\\rangle\\}_i = \\{U_{\\text{in}}(x_i)|0\\rangle\\}_i$\n",
    "3. multiply the input state by the gate $U(\\theta)$ depending on the parameter $\\theta$ and make the output state $\\{|\\psi_{\\rm out}(x_i, \\theta)\\rangle = U(\\theta)|\\psi_{\\rm in}(x_i)\\rangle \\}_i$.\n",
    "4. measure some observable under the output state and obtain the measured value (e.g., the expected value of $Z$ for the first qubit $\\langle Z_1\\rangle = \\langle \\psi_{\\rm out} |Z_1|\\psi_{\\rm out} \\rangle$)\n",
    "5. let $F$ be an appropriate function (sigmoid, softmax, constant times or whatever) and let $F(measurements_i)$ be the model output $y(x_i, \\theta)$\n",
    "6. calculate the \"cost function $L(\\theta)$\" that represents the deviation between the correct data $\\{y_i\\}_i$ and the model output $\\{y(x_i, \\theta)\\}_i$.\n",
    "7. find $\\theta=\\theta^*$ that minimizes the cost function\n",
    "8. $y(x, \\theta^*)$ is the desired predictive model\n",
    "\n",
    "(In QCL, input data $x$ is first transformed to a quantum state using $U_{\\text{in}}(x)$. Then, by using a variational quantum circuit $U(\\theta)$ and measurements, the output $y$ is obtained. (In the figure, the output is $\\langle B(x,\\theta)\\rangle$) (Source: Modified from Figure 1 in reference [1])"
   ]
  },
  {
   "cell_type": "markdown",
   "metadata": {},
   "source": [
    "### Implementation using the quantum simulator Qulacs"
   ]
  },
  {
   "cell_type": "markdown",
   "metadata": {},
   "source": [
    "In the following, as a demonstration of function approximation, let's perform fitting of the sin function $y=\\sin(\\pi x)$ ."
   ]
  },
  {
   "cell_type": "code",
   "execution_count": 30,
   "metadata": {},
   "outputs": [],
   "source": [
    "import numpy as np\n",
    "import matplotlib.pyplot as plt\n",
    "from functools import reduce"
   ]
  },
  {
   "cell_type": "code",
   "execution_count": 2,
   "metadata": {},
   "outputs": [],
   "source": [
    "########  parameter  #############\n",
    "nqubit = 3 ##number of qubits\n",
    "c_depth = 3  ## depth of circuit\n",
    "time_step = 0.77  ##Elapsed time of time evolution by random Hamiltonian\n",
    "\n",
    "## Take number_x_train points from [x_min, x_max] randomly and use them as the training data.\n",
    "x_min = - 1.; x_max = 1.;\n",
    "num_x_train = 50\n",
    "\n",
    "## The 1-variable function we want to learn\n",
    "func_to_learn = lambda x: np.sin(x*np.pi)\n",
    "\n",
    "##Seed of random numbers\n",
    "random_seed = 0\n",
    "\n",
    "## Initialize random number generator\n",
    "np.random.seed(random_seed)"
   ]
  },
  {
   "cell_type": "markdown",
   "metadata": {},
   "source": [
    "#### 学習データの準備\n",
    "#### Prepare training data"
   ]
  },
  {
   "cell_type": "code",
   "execution_count": 32,
   "metadata": {},
   "outputs": [
    {
     "data": {
      "image/png": "[encoded data removed]",
      "text/plain": [
       "<Figure size 432x288 with 1 Axes>"
      ]
     },
     "metadata": {
      "needs_background": "light"
     },
     "output_type": "display_data"
    }
   ],
   "source": [
    "#### Prepare training data\n",
    "\n",
    "x_train = x_min + (x_max - x_min) * np.random.rand(num_x_train)\n",
    "y_train = func_to_learn(x_train)\n",
    "\n",
    "# Add noise to a clean sin function\n",
    "mag_noise = 0.05\n",
    "y_train = y_train + mag_noise * np.random.randn(num_x_train)\n",
    "\n",
    "plt.plot(x_train, y_train, \"o\"); plt.show()"
   ]
  },
  {
   "cell_type": "markdown",
   "metadata": {},
   "source": [
    "#### Composition of input state\n",
    "First, create a gate $U_{\\rm in}(x_i)$ to embed the input value $x_i$ into the initial state $|00\\ldots0\\rangle$.   \n",
    "Following reference [1], by using the rotation gates $R_j^X(\\theta)=e^{i\\theta X_j/2}, R_j^Z(\\theta)=e^{i\\theta Z_j/2}$ and we define the gate as follow.<br> $U_{\\rm in}(x) = \\prod_j R^Z_j(\\cos^{-1} x^2) R^Y_j(\\ sin^{-1}x)$.   \n",
    "The input value $x_i$ will be converted to the quantum state $|\\psi_{\\rm in}(x_i)\\rangle =U_{\\rm in}(x_i)|00\\ldots0\\rangle$."
   ]
  },
  {
   "cell_type": "code",
   "execution_count": 4,
   "metadata": {},
   "outputs": [],
   "source": [
    "## Run only if you are in Google Colaboratory or in a local environment where Qulacs is not installed\n",
    "!pip install qulacs\n",
    "\n",
    "## Run only in Google Colaboratory or (Linux or Mac) jupyter notebook environment\n",
    "## Qulacs errors will be output normally.\n",
    "!pip3 install wurlitzer\n",
    "%load_ext wurlitzer"
   ]
  },
  {
   "cell_type": "code",
   "execution_count": 33,
   "metadata": {},
   "outputs": [
    {
     "name": "stdout",
     "output_type": "stream",
     "text": [
      "[1.+0.j 0.+0.j 0.+0.j 0.+0.j 0.+0.j 0.+0.j 0.+0.j 0.+0.j]\n"
     ]
    }
   ],
   "source": [
    "#Import required libraries\n",
    "from qulacs import QuantumState, QuantumCircuit\n",
    "\n",
    "state = QuantumState(nqubit) # The initial state\n",
    "state.set_zero_state()\n",
    "print(state.get_vector())"
   ]
  },
  {
   "cell_type": "code",
   "execution_count": 34,
   "metadata": {},
   "outputs": [],
   "source": [
    "# a function to create a gate which encodes x \n",
    "def U_in(x):\n",
    "    U = QuantumCircuit(nqubit)\n",
    "    \n",
    "    angle_y = np.arcsin(x)\n",
    "    angle_z = np.arccos(x**2)\n",
    "\n",
    "    for i in range(nqubit):\n",
    "        U.add_RY_gate(i, angle_y)\n",
    "        U.add_RZ_gate(i, angle_z)\n",
    "    \n",
    "    return U"
   ]
  },
  {
   "cell_type": "code",
   "execution_count": 35,
   "metadata": {},
   "outputs": [
    {
     "name": "stdout",
     "output_type": "stream",
     "text": [
      "[-6.93804351e-01+7.14937415e-01j -3.54871219e-02-3.51340074e-02j\n",
      " -3.54871219e-02-3.51340074e-02j  1.77881430e-03-1.76111422e-03j\n",
      " -3.54871219e-02-3.51340074e-02j  1.77881430e-03-1.76111422e-03j\n",
      "  1.77881430e-03-1.76111422e-03j  8.73809020e-05+9.00424970e-05j]\n"
     ]
    }
   ],
   "source": [
    "# sample calculation of an input state\n",
    "x = 0.1 # a sample value\n",
    "U_in(x).update_quantum_state(state) # calculation of U_in|000>\n",
    "print(state.get_vector())"
   ]
  },
  {
   "cell_type": "markdown",
   "metadata": {},
   "source": [
    "#### Configuration of variational quantum circuit $U(\\theta)$\n",
    "Next, we create a variational quantum circuit $U(\\theta)$ to be optimized. This is done in the following three steps.\n",
    "\n",
    "1. Generation of transverse magnetic field Ising Hamiltonian\n",
    "2. Creation of rotating gate\n",
    "3. Alternately combine the gates of 1. and 2. to create one large variational quantum circuit $U(\\theta)$\n"
   ]
  },
  {
   "cell_type": "markdown",
   "metadata": {},
   "source": [
    "##### 1. Creation of transverse magnetic field Ising Hamiltonian\n",
    "By performing time evolution using the transverse magnetic field Ising model learned in Section 4-2 and increasing the complexity (entanglement) of the quantum circuit, the expressive power of the model is enhanced. (This part can be skipped unless the reader wants to know the details.)"
   ]
  },
  {
   "cell_type": "markdown",
   "metadata": {},
   "source": [
    "The Hamiltonian of the transverse Ising model is as follows and is used to define the time evolution operator $U_{\\text{rand}} = e^{-iHt}$.\n",
    "\n",
    "\n",
    "$$\n",
    "H = \\sum_{j=1}^N a_j X_j + \\sum_{j=1}^N \\sum_{k=1}^{j-1} J_{jk} Z_j Z_k\n",
    "$$\n",
    "\n",
    "Here, the coefficients $a$, $J$ are the uniform distribution of $[-1, 1]$."
   ]
  },
  {
   "cell_type": "code",
   "execution_count": 6,
   "metadata": {},
   "outputs": [],
   "source": [
    "## basic gates\n",
    "from qulacs.gate import X, Z\n",
    "I_mat = np.eye(2, dtype=complex)\n",
    "X_mat = X(0).get_matrix()\n",
    "Z_mat = Z(0).get_matrix()"
   ]
  },
  {
   "cell_type": "code",
   "execution_count": 37,
   "metadata": {},
   "outputs": [],
   "source": [
    "## a function to create fullsize gate.\n",
    "def make_fullgate(list_SiteAndOperator, nqubit):\n",
    "    '''\n",
    "    Receive list_SiteAndOperator = [ [i_0, O_0], [i_1, O_1], ...] ,\n",
    "    insert Identity into irrelevent qubit, and create (2**nqubit, 2**nqubit) size matrix\n",
    "    I(0) * ... * O_0(i_0) * ... * O_1(i_1) ...\n",
    "    '''    list_Site = [SiteAndOperator[0] for SiteAndOperator in list_SiteAndOperator]\n",
    "    list_SingleGates = []  ## list single 1-qubit gates and reduce them using np.kron\n",
    "    cnt = 0\n",
    "    for i in range(nqubit):\n",
    "        if (i in list_Site):\n",
    "            list_SingleGates.append( list_SiteAndOperator[cnt][1] )\n",
    "            cnt += 1\n",
    "        else: ## insert identity if i is not included in list_Site\n",
    "            list_SingleGates.append(I_mat)\n",
    "\n",
    "    return reduce(np.kron, list_SingleGates)"
   ]
  },
  {
   "cell_type": "code",
   "execution_count": 38,
   "metadata": {},
   "outputs": [],
   "source": [
    "####  Create a time evolution operator by creating a random magnetic field/random coupling Ising Hamiltonian\n",
    "\n",
    "ham = np.zeros((2**nqubit,2**nqubit), dtype = complex)\n",
    "for i in range(nqubit): ## i runs 0 to nqubit-1\n",
    "    Jx = -1. + 2.*np.random.rand() ## random number between -1~1\n",
    "    ham += Jx * make_fullgate( [ [i, X_mat] ], nqubit)\n",
    "    for j in range(i+1, nqubit):\n",
    "        J_ij = -1. + 2.*np.random.rand()\n",
    "        ham += J_ij * make_fullgate ([ [i, Z_mat], [j, Z_mat]], nqubit)\n",
    "\n",
    "## Create a time evolution operator by diagonalizing.  H*P = P*D <-> H = P*D*P^dagger\n",
    "diag, eigen_vecs = np.linalg.eigh(ham)\n",
    "time_evol_op = np.dot(np.dot(eigen_vecs, np.diag(np.exp(-1j*time_step*diag))), eigen_vecs.T.conj()) # e^-iHT"
   ]
  },
  {
   "cell_type": "code",
   "execution_count": 39,
   "metadata": {},
   "outputs": [
    {
     "data": {
      "text/plain": [
       "(8, 8)"
      ]
     },
     "execution_count": 39,
     "metadata": {},
     "output_type": "execute_result"
    }
   ],
   "source": [
    "time_evol_op.shape"
   ]
  },
  {
   "cell_type": "code",
   "execution_count": 40,
   "metadata": {},
   "outputs": [],
   "source": [
    "# convert to qulacs gate\n",
    "from qulacs.gate import DenseMatrix\n",
    "time_evol_gate = DenseMatrix([i for i in range(nqubit)], time_evol_op)"
   ]
  },
  {
   "cell_type": "markdown",
   "metadata": {},
   "source": [
    "##### 2. Creation of rotating gate, 3. Configuration of $U(\\theta)$\n",
    "\n",
    "\n",
    "we create a variational quantum circuit $U(\\theta)$ by combining time evolution by random transverse magnetic Ising model $U_{\\text{rand}}$, and $j \\:(=1,2,\\cdots n)$ th quantum qubit multiplied by the following rotation gate\n",
    "\n",
    "$$\n",
    "U_{\\text{rot}}(\\theta_j^{(i)}) = R_j^X(\\theta_{j1}^{(i)})R_j^Z(\\theta_{j2}^{(i)})R_j^X(\\theta_{j3}^{(i)})\n",
    "$$\n",
    "\n",
    "Here, $i$ is a subscript representing the layer of the quantum circuit, and $U_{\\text{rand}}$ and the above rotation are repeated for a total of $d$ layers. In other words, on the whole, we compose the variational Quantum circuit as follows.\n",
    "In total, there are $3nd$ parameters. the initital values of each $\\theta$ follows uniform distribution of $[0, 2\\pi]$."
   ]
  },
  {
   "cell_type": "code",
   "execution_count": 41,
   "metadata": {},
   "outputs": [],
   "source": [
    "from qulacs import ParametricQuantumCircuit"
   ]
  },
  {
   "cell_type": "code",
   "execution_count": 42,
   "metadata": {},
   "outputs": [],
   "source": [
    "# composition of gate for output U_out & setting the initial parameter\n",
    "\n",
    "U_out = ParametricQuantumCircuit(nqubit)\n",
    "for d in range(c_depth):\n",
    "    U_out.add_gate(time_evol_gate)\n",
    "    for i in range(nqubit):\n",
    "        angle = 2.0 * np.pi * np.random.rand()\n",
    "        U_out.add_parametric_RX_gate(i,angle)\n",
    "        angle = 2.0 * np.pi * np.random.rand()\n",
    "        U_out.add_parametric_RZ_gate(i,angle)\n",
    "        angle = 2.0 * np.pi * np.random.rand()\n",
    "        U_out.add_parametric_RX_gate(i,angle)"
   ]
  },
  {
   "cell_type": "code",
   "execution_count": 43,
   "metadata": {},
   "outputs": [],
   "source": [
    "#  Get a list of initial values ​​for the parameter theta\n",
    "parameter_count = U_out.get_parameter_count()\n",
    "theta_init = [U_out.get_parameter(ind) for ind in range(parameter_count)]"
   ]
  },
  {
   "cell_type": "code",
   "execution_count": 44,
   "metadata": {},
   "outputs": [
    {
     "data": {
      "text/plain": [
       "[6.007250646127814,\n",
       " 4.046309757767312,\n",
       " 2.663159813474645,\n",
       " 3.810080933381979,\n",
       " 0.12059442161498848,\n",
       " 1.8948504571449056,\n",
       " 4.14799267096281,\n",
       " 1.8226113595664735,\n",
       " 3.88310546309581,\n",
       " 2.6940332019609157,\n",
       " 0.851208649826403,\n",
       " 1.8741631278382846,\n",
       " 3.5811951525261123,\n",
       " 3.7125630518871535,\n",
       " 3.6085919651139333,\n",
       " 4.104181793964002,\n",
       " 4.097285684838374,\n",
       " 2.71068197476515,\n",
       " 5.633168398253273,\n",
       " 2.309459341364396,\n",
       " 2.738620094343915,\n",
       " 5.6041197193647925,\n",
       " 5.065466226710866,\n",
       " 4.4226624059922806,\n",
       " 0.6297441057449945,\n",
       " 5.777279648887616,\n",
       " 4.487710439107831]"
      ]
     },
     "execution_count": 44,
     "metadata": {},
     "output_type": "execute_result"
    }
   ],
   "source": [
    "theta_init"
   ]
  },
  {
   "cell_type": "markdown",
   "metadata": {},
   "source": [
    "For convenience, create a function to update $\\theta$, the parameter of $U(\\theta)$"
   ]
  },
  {
   "cell_type": "code",
   "execution_count": 45,
   "metadata": {},
   "outputs": [],
   "source": [
    "# function to update parameter theta\n",
    "def set_U_out(theta):    \n",
    "    global U_out\n",
    "    \n",
    "    parameter_count = U_out.get_parameter_count()\n",
    "    \n",
    "    for i in range(parameter_count):\n",
    "        U_out.set_parameter(i, theta[i])"
   ]
  },
  {
   "cell_type": "markdown",
   "metadata": {},
   "source": [
    "#### Measurement\n",
    "The output of the model is the expected value of pauli Z of the 0th qubit at the output state $|\\psi_{\\rm out}\\rangle$.\n",
    "That is, $y(\\theta, x_i) = \\langle Z_0 \\rangle = \\langle \\psi_{\\rm out}|Z_0|\\psi_{\\rm out}\\rangle$."
   ]
  },
  {
   "cell_type": "code",
   "execution_count": 46,
   "metadata": {},
   "outputs": [],
   "source": [
    "# create Observable Z_0\n",
    "from qulacs import Observable\n",
    "obs = Observable(nqubit)\n",
    "obs.add_operator(2.,'Z 0') # set Observable 2 * Z. Multipy 2 to widen the final range of <Z>. This constant must be optimized as one of the parameters in order to deal with unknown functions."
   ]
  },
  {
   "cell_type": "code",
   "execution_count": 47,
   "metadata": {},
   "outputs": [
    {
     "data": {
      "text/plain": [
       "1.9899748742132404"
      ]
     },
     "execution_count": 47,
     "metadata": {},
     "output_type": "execute_result"
    }
   ],
   "source": [
    "obs.get_expectation_value(state)"
   ]
  },
  {
   "cell_type": "markdown",
   "metadata": {},
   "source": [
    "#### Organize a series of steps into a function\n",
    "Summarize the flow up to this point and define a function that returns the predicted value $y(x_i, \\theta)$ of the model from the input $x_i$."
   ]
  },
  {
   "cell_type": "code",
   "execution_count": 48,
   "metadata": {},
   "outputs": [],
   "source": [
    "# A function that returns the model's predicted value y(x_i, theta) from the input x_i\n",
    "def qcl_pred(x, U_out):\n",
    "    state = QuantumState(nqubit)\n",
    "    state.set_zero_state()\n",
    "    \n",
    "    # calculate input state\n",
    "    U_in(x).update_quantum_state(state)\n",
    "    \n",
    "    # calculate output state\n",
    "    U_out.update_quantum_state(state)\n",
    "    \n",
    "    # the output of model\n",
    "    res = obs.get_expectation_value(state)\n",
    "    \n",
    "    return res"
   ]
  },
  {
   "cell_type": "markdown",
   "metadata": {},
   "source": [
    "#### Cost function calculation\n",
    "The cost function $L(\\theta)$ is the mean squared error (MSE) between the training data and the prediction data."
   ]
  },
  {
   "cell_type": "code",
   "execution_count": 49,
   "metadata": {},
   "outputs": [],
   "source": [
    "# calculate cost function L\n",
    "def cost_func(theta):\n",
    "    '''\n",
    "    theta: an array of length c_depth * nqubit * 3\n",
    "    '''\n",
    "    # update theta, the parameter of U_out\n",
    "    set_U_out(theta)\n",
    "    \n",
    "    # calculate data of num_x_train\n",
    "    y_pred = [qcl_pred(x, U_out) for x in x_train]\n",
    "    \n",
    "    # quadratic loss\n",
    "    L = ((y_pred - y_train)**2).mean()\n",
    "    \n",
    "    return L"
   ]
  },
  {
   "cell_type": "code",
   "execution_count": 50,
   "metadata": {},
   "outputs": [
    {
     "data": {
      "text/plain": [
       "1.3889259316193516"
      ]
     },
     "execution_count": 50,
     "metadata": {},
     "output_type": "execute_result"
    }
   ],
   "source": [
    "# the value of cost function with the initial value of parameter theta\n",
    "cost_func(theta_init)"
   ]
  },
  {
   "cell_type": "code",
   "execution_count": 51,
   "metadata": {},
   "outputs": [
    {
     "data": {
      "text/plain": [
       "[<matplotlib.lines.Line2D at 0x1a24c6b5320>]"
      ]
     },
     "execution_count": 51,
     "metadata": {},
     "output_type": "execute_result"
    },
    {
     "data": {
      "image/png": "[encoded data removed]",
      "text/plain": [
       "<Figure size 432x288 with 1 Axes>"
      ]
     },
     "metadata": {
      "needs_background": "light"
     },
     "output_type": "display_data"
    }
   ],
   "source": [
    "# graph with the initial value of parameter theta\n",
    "xlist = np.arange(x_min, x_max, 0.02)\n",
    "y_init = [qcl_pred(x, U_out) for x in xlist]\n",
    "plt.plot(xlist, y_init)"
   ]
  },
  {
   "cell_type": "markdown",
   "metadata": {},
   "source": [
    "#### Learning (optimize with scipy.optimize.minimize)\n",
    "Finally, the preparation is over, and it's finally time to study. Here, for simplicity, the optimization is performed using the Nelder-Mead method, which does not require a gradient formula. When using an optimization method that uses gradients (e.g. BFGS method), a convenient formula for calculating gradients is introduced in Reference [[1]](https://arxiv.org/abs/1803.00745)."
   ]
  },
  {
   "cell_type": "code",
   "execution_count": 52,
   "metadata": {},
   "outputs": [],
   "source": [
    "from scipy.optimize import minimize"
   ]
  },
  {
   "cell_type": "code",
   "execution_count": 53,
   "metadata": {},
   "outputs": [
    {
     "name": "stdout",
     "output_type": "stream",
     "text": [
      "Wall time: 1min 21s\n"
     ]
    }
   ],
   "source": [
    "%%time\n",
    "# Learning (takes about 1-2 minutes on my PC)\n",
    "result = minimize(cost_func, theta_init, method='Nelder-Mead') "
   ]
  },
  {
   "cell_type": "code",
   "execution_count": 54,
   "metadata": {},
   "outputs": [
    {
     "data": {
      "text/plain": [
       "0.003987076559624744"
      ]
     },
     "execution_count": 54,
     "metadata": {},
     "output_type": "execute_result"
    }
   ],
   "source": [
    "# value of cost_function after optimization\n",
    "result.fun "
   ]
  },
  {
   "cell_type": "code",
   "execution_count": 55,
   "metadata": {},
   "outputs": [
    {
     "name": "stdout",
     "output_type": "stream",
     "text": [
      "[7.17242144 5.4043736  1.27744316 3.09192904 0.13144047 2.13757354\n",
      " 4.58470259 2.01924008 2.96107066 2.91843537 1.0609229  1.70351774\n",
      " 6.41114609 6.25686828 2.41619471 3.69387805 4.07551328 1.47666316\n",
      " 3.4108701  2.28524042 1.75253621 6.47969129 3.18418337 1.58699008\n",
      " 1.2831137  4.82903335 5.95931349]\n"
     ]
    }
   ],
   "source": [
    "# solution of theta obtained from optimization\n",
    "theta_opt = result.x \n",
    "print(theta_opt)"
   ]
  },
  {
   "cell_type": "markdown",
   "metadata": {},
   "source": [
    "#### plotting the result"
   ]
  },
  {
   "cell_type": "code",
   "execution_count": 56,
   "metadata": {},
   "outputs": [],
   "source": [
    "# Assign optimized theta to U_out\n",
    "set_U_out(theta_opt)"
   ]
  },
  {
   "cell_type": "code",
   "execution_count": 57,
   "metadata": {},
   "outputs": [
    {
     "data": {
      "image/png": "[encoded data removed]",
      "text/plain": [
       "<Figure size 720x432 with 1 Axes>"
      ]
     },
     "metadata": {
      "needs_background": "light"
     },
     "output_type": "display_data"
    }
   ],
   "source": [
    "# plot\n",
    "plt.figure(figsize=(10, 6))\n",
    "\n",
    "xlist = np.arange(x_min, x_max, 0.02)\n",
    "\n",
    "# training data\n",
    "plt.plot(x_train, y_train, \"o\", label='Teacher')\n",
    "\n",
    "# Graph under initial value of parameter θ\n",
    "\n",
    "plt.plot(xlist, y_init, '--', label='Initial Model Prediction', c='gray')\n",
    "\n",
    "# prediction of model\n",
    "y_pred = np.array([qcl_pred(x, U_out) for x in xlist])\n",
    "plt.plot(xlist, y_pred, label='Final Model Prediction')\n",
    "\n",
    "plt.legend()\n",
    "plt.show()"
   ]
  },
  {
   "cell_type": "markdown",
   "metadata": {},
   "source": [
    "It can be seen that the approximation of the sin function is indeed successful.<br>\n",
    "Here, we dealt with a very simple task of approximating a function with one-dimensional input and output, but it can be extended to approximation of functions with multi-dimensional inputs and outputs and classification problems.\n",
    "Aspiring readers are encouraged to tackle classification problems of the [Iris dataset](https://scikit-learn.org/stable/auto_examples/datasets/plot_iris_dataset.html), which is one of the representative machine learning datasets."
   ]
  },
  {
   "cell_type": "markdown",
   "metadata": {},
   "source": [
    "### Reference\n",
    "[1] K. Mitarai, M. Negoro, M. Kitagawa, and K. Fujii, “Quantum circuit learning”, [Phys. Rev. A 98, 032309 (2018)](https://journals.aps.org/pra/abstract/10.1103/PhysRevA.98.032309), arXiv：https://arxiv.org/abs/1803.00745  \n",
    "[2] V. Havlicek _et al._ , “Supervised learning with quantum-enhanced feature spaces”, [Nature 567, 209–212 (2019)](https://www.nature.com/articles/s41586-019-0980-2), arXiv：https://arxiv.org/abs/1804.11326"
   ]
  },
  {
   "cell_type": "markdown",
   "metadata": {},
   "source": []
  }
 ],
 "metadata": {
  "kernelspec": {
   "display_name": "Python 3.9.5 64-bit ('3.9.5')",
   "language": "python",
   "name": "python3"
  },
  "language_info": {
   "codemirror_mode": {
    "name": "ipython",
    "version": 3
   },
   "file_extension": ".py",
   "mimetype": "text/x-python",
   "name": "python",
   "nbconvert_exporter": "python",
   "pygments_lexer": "ipython3",
   "version": "3.9.5"
  },
  "varInspector": {
   "cols": {
    "lenName": 16,
    "lenType": 16,
    "lenVar": 40
   },
   "kernels_config": {
    "python": {
     "delete_cmd_postfix": "",
     "delete_cmd_prefix": "del ",
     "library": "var_list.py",
     "varRefreshCmd": "print(var_dic_list())"
    },
    "r": {
     "delete_cmd_postfix": ") ",
     "delete_cmd_prefix": "rm(",
     "library": "var_list.r",
     "varRefreshCmd": "cat(var_dic_list()) "
    }
   },
   "types_to_exclude": [
    "module",
    "function",
    "builtin_function_or_method",
    "instance",
    "_Feature"
   ],
   "window_display": false
  },
  "vscode": {
   "interpreter": {
    "hash": "80f21df302999c09c3d444fe636c3228c9e442cf42cf86d38eb61dd3d3032f70"
   }
  }
 },
 "nbformat": 4,
 "nbformat_minor": 2
}
