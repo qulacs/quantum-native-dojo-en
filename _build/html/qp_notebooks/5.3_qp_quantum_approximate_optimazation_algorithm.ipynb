{
 "cells": [
  {
   "cell_type": "markdown",
   "metadata": {},
   "source": [
    "## 5-3. Quantum Approximate Optimazation Algorithm (QAOA)"
   ]
  },
  {
   "cell_type": "markdown",
   "metadata": {},
   "source": [
    "### Overview\n",
    "\n",
    "In this section, we learn the Quantum Approximate Optimazation Algorithm (QAOA), which is considered one of the NISQ algorithms. QAOA, like quantum annealing, is an algorithm for solving combinatorial optimization problems."
   ]
  },
  {
   "cell_type": "markdown",
   "metadata": {},
   "source": [
    "### Problem setting\n",
    "In QAOA, for a $n$ digit bit string $z = z_{1}z_{2}\\cdots z_{n} \\: (z_i =0,1)$, we consider a problem of finding $z$ such that cost function $C(z) = \\sum_\\alpha C_\\alpha(z)$ is minimized.\n",
    " $C_\\alpha(z)$ is some kind of function that takes a bit string $z$ as an argument, and here we should especially consider terms such as Ising model-like $C_\\alpha(z) = z_i\\cdot z_j$.\n",
    "\n",
    "To solve this minimization problem, we use a $n$**-bit quantum system**. And using $\\beta = (\\beta^{(1)}, \\cdots \\beta^{(p)}), \\gamma = (\\gamma^{(1)}, and  \\cdots \\gamma^{(p)})$ as parameter, consider the following quantum state.\n",
    "\n",
    "\\begin{align}\n",
    "&|s\\rangle = |+\\rangle^{\\otimes n} = \\frac{1}{2^{n/2}} \\sum_{z=0}^{2^{n}-1} |z\\rangle, \\\\\n",
    "&|\\beta, \\gamma \\rangle = U_X(\\beta^{(p)}) U_C(\\gamma^{(p)}) \\cdots U_X(\\beta^{(1)}) U_C(\\gamma^{(1)}) |s\\rangle. \n",
    "\\end{align}\n",
    "\n",
    "Here, $|+\\rangle=\\frac{1}{\\sqrt{2}}(|0\\rangle+|1\\rangle)$ is the eigenstate of operator $X$, $X|+\\rangle=|+\\rangle$. Also, $U_C(\\gamma), U_X(\\beta)$ are defined as follows.\n",
    "\n",
    "$$\n",
    "U_C(\\gamma^{(i)}) = e^{-i\\gamma^{(i)} C(Z)} = \\prod_{\\alpha} e^{-i\\gamma^{(i)} C_{\\alpha}(Z)}, \\\\\n",
    "U_X(\\beta^{(i)}) = e^{-i\\beta^{(i)} \\sum_{j=1}^n X_j} = \\prod_{j =1}^n e^{-i\\beta^{(i)} X_j}.\n",
    "$$\n",
    "\n",
    "Knowledge of quantum annealing is required to explain the states $|\\beta, \\gamma \\rangle$ and the meaning of these operators. For the time being, if you just use QAOA, you should accept it as such and use it.\n",
    "(Note that $C(Z)$ is obtained by substituting the Pauli operator $Z_1\\cdots Z_n$ for the input of the function $C(z)$ that takes a bit string as an argument.)\n",
    "\n",
    "and QAOA algorithm tries to find the answer to the original optimization problem by searching for $\\beta,\\gamma$ which minimize $F(\\beta, \\gamma) = \\langle{\\bf \\gamma, \\,\\beta}|C(Z)|{\\bf \\gamma, \\,\\beta}\\rangle$"
   ]
  },
  {
   "cell_type": "markdown",
   "metadata": {},
   "source": [
    "### QAOA Algorithm Steps\n",
    "The concrete procedure of the QAOA algorithm is as follows.\n",
    "\n",
    "1. Create a superposition state $|s\\rangle = |+\\rangle^{\\otimes n}$ on a quantum computer.\n",
    "2. Depending on the parameters $\\beta, \\gamma$, multiply the quantum state by $U_C(\\gamma^{(i)}),U_X(\\beta^{(i)})$ to get the state $|\\beta, \\gamma \\rangle$.\n",
    "3. Measure $\\langle \\beta, \\gamma |C(Z)|\\beta, \\gamma \\rangle$ using a quantum computer.\n",
    "4. On classical computers, update the parameters $\\beta, \\gamma$ so that $\\langle \\beta, \\gamma |C(Z)|\\beta, \\gamma \\rangle$ becomes smaller.\n",
    "5. Repeat steps 1-4 to get the best $\\beta^*, \\gamma^*$.\n",
    "6. For the state $|\\beta^*, \\gamma^* \\rangle$, perform multiple projection measurements in the direction of $z$, take **obtained measurement result** $z_1\\cdots z_n$ ** (which looks good) **as the solution to the original optimization problem.** (Note: the measurement result $z_1\\cdots z_n$ is the classical bit)\n",
    "\n",
    "It's a little confusing, so let's check it while implementing a specific example."
   ]
  },
  {
   "cell_type": "markdown",
   "metadata": {},
   "source": [
    "### Implementation: Solve the Maxcut problem with QAOA\n",
    "\n",
    "As a specific example, we use the Maxcut problem.\n",
    "[Maxcut problem](https://en.wikipedia.org/wiki/Maximum_cut) is the problem to find a cut that maximizes the number of edges split when a graph with $n$ vertices (for example, the figure below) is split into two.\n",
    "\n",
    "![maxcut-example](figs/5/maxcut_example.png)\n",
    "(Figure source: Wikipedia [Maximum cut](https://en.wikipedia.org/wiki/Maximum_cut))\n",
    "\n",
    "To reduce this problem to an optimization problem that can be handled by QAOA, we do the following.\n",
    "If you divide the vertices into two groups, give +1 to the vertices belonging to one group and -1 to the other group. Then, the cost function\n",
    "\n",
    "$$\n",
    "C(z) = -\\frac{1}{2} \\sum_{\\text{vertices connected by edges}i,j} ( 1 - z_i z_j)\n",
    "$$\n",
    "\n",
    "represents (number of edges divided by grouping) $\\times (-1)$.\n",
    "Therefore, if we find a bit string $z=z_1\\cdots z_n$ that minimizes $C(z)$, it means that we have found a way to divide vertices that maximizes the number of split edges."
   ]
  },
  {
   "cell_type": "markdown",
   "metadata": {},
   "source": [
    "In the following, let's solve the maxcut problem for a rectangle (a figure with four vertices).\n",
    "\n",
    "![maxcut](figs/5/maxcut_4nodes.png)\n",
    "\n",
    "\n",
    "In this case, $C(Z)$ is\n",
    "\n",
    "$$\n",
    "\\begin{align}\n",
    "C(Z) &= -\\frac{1}{2}(1-Z_{0}Z_{1})-\\frac{1}{2}(1-Z_{1}Z_{2})-\\frac{1}{2}(1-Z_{2}Z_{3})-\\frac{1}{2}(1-Z_{3}Z_{1})\\\\\n",
    "&=\\frac{1}{2}(Z_{0}Z_{1}+Z_{1}Z_{2}+Z_{2}Z_{3}+Z_{3}Z_{1}) - 2\n",
    "\\end{align}\n",
    "$$\n",
    "\n",
    "\n",
    "The second term is a constant. Therefore,\n",
    "\n",
    "$$\n",
    "C(Z) = \\frac{1}{2}(Z_{0}Z_{1}+Z_{1}Z_{2}+Z_{2}Z_{3}+Z_{3}Z_{1}) \n",
    "$$\n"
   ]
  },
  {
   "cell_type": "markdown",
   "metadata": {},
   "source": [
    "In the following, let's solve the maxcut problem for a rectangle (a figure with four vertices).\n",
    "\n",
    "![maxcut](figs/5/maxcut_4nodes.png)\n",
    "\n",
    "\n",
    "In this case, $C(Z)$ is\n",
    "\n",
    "$$\n",
    "\\begin{align}\n",
    "C(Z) &= -\\frac{1}{2}(1-Z_{0}Z_{1})-\\frac{1}{2}(1-Z_{1}Z_{2})-\\frac{1}{2}(1-Z_{2}Z_{3})-\\frac{1}{2}(1-Z_{3}Z_{1})\\\\\n",
    "&=\\frac{1}{2}(Z_{0}Z_{1}+Z_{1}Z_{2}+Z_{2}Z_{3}+Z_{3}Z_{1}) - 2\n",
    "\\end{align}\n",
    "$$\n",
    "\n",
    "\n",
    "The second term is a constant. Therefore,\n",
    "\n",
    "$$\n",
    "C(Z) = \\frac{1}{2}(Z_{0}Z_{1}+Z_{1}Z_{2}+Z_{2}Z_{3}+Z_{3}Z_{1}) \n",
    "$$\n"
   ]
  },
  {
   "cell_type": "markdown",
   "metadata": {},
   "source": [
    "#### $p=1$ case\n",
    "\n",
    "Let's implement the case when $p=1$. Here, $|\\beta, \\gamma \\rangle = U_X(\\beta^{(1)}) U_C(\\gamma^{(1)}) |s\\rangle$ \n",
    "\n",
    "When we implement $U_C(\\gamma^{(1)}) = \\prod_{i=0}^3 e^{-i\\gamma^{(1)} Z_i Z_{i+1} }$ , we use the following relation used in chapter 4-2\n",
    "\n",
    "$$\n",
    "e^{-i \\delta Z_i Z_{i+1}}　= \\operatorname{CNOT}_{i,i+1} \\cdot e^{-i\\delta Z_{i+1}} \\cdot \\operatorname{CNOT}_{i,i+1}.\n",
    "$$\n",
    "\n",
    "When you convert this into a matrix and calculate, you will find that the above equation is correct.\n",
    "\n",
    "Next, we will compose $|\\beta, \\gamma \\rangle$, measure  $\\langle \\beta, \\gamma | C(Z) |\\beta, \\gamma \\rangle$ and implement the process to minimize it.\n",
    "\n",
    "Here, because several gates share the same circuit parameter, we will be using the `LinearMappedUnboundParametricQuantumCircuit` in QURI Parts to construct the circuit. Please check out the QURI Parts [tutorial](https://quri-parts.qunasys.com/tutorials/parametric) for more details."
   ]
  },
  {
   "cell_type": "code",
   "execution_count": 1,
   "metadata": {},
   "outputs": [
    {
     "name": "stdout",
     "output_type": "stream",
     "text": [
      "QAOA Cost: -0.9999999994991844\n",
      "Optimized Parameter: [1.17809152 0.39269362]\n"
     ]
    }
   ],
   "source": [
    "from quri_parts.core.operator import Operator, pauli_label\n",
    "from scipy.optimize import minimize\n",
    "import numpy as np\n",
    "from quri_parts.circuit import LinearMappedUnboundParametricQuantumCircuit, Parameter\n",
    "from quri_parts.core.state import quantum_state\n",
    "from quri_parts.qulacs.estimator import create_qulacs_vector_estimator\n",
    "\n",
    "\n",
    "## number of vertices\n",
    "n = 4 \n",
    "\n",
    "## Define C(Z) as qulacs.Observable\n",
    "cost_observable = Operator(\n",
    "    {\n",
    "        pauli_label(f\"Z{i} Z{(i+1) % n}\"): 0.5\n",
    "        for i in range(n)\n",
    "    }\n",
    ")\n",
    "\n",
    "\n",
    "# A function to add U_C(gamma) to a circuit \n",
    "def add_U_C(circuit: LinearMappedUnboundParametricQuantumCircuit, gamma_idx: int) -> None:\n",
    "    gamma = circuit.add_parameter(f\"gamma_{gamma_idx}\")\n",
    "    for i in range(n):\n",
    "        j = (i+1) % n\n",
    "        circuit.add_CNOT_gate(i, j)\n",
    "        ## With QURI Parts, RZ(theta)=e^{-i*theta/2*Z}\n",
    "        circuit.add_ParametricRZ_gate(j, {gamma: 2}) \n",
    "        circuit.add_CNOT_gate(i, j)\n",
    "\n",
    "\n",
    "# A function to add U_X(beta) to a circuit\n",
    "def add_U_X(circuit: LinearMappedUnboundParametricQuantumCircuit, beta_idx: int) -> None:\n",
    "    beta = circuit.add_parameter(f\"beta_{beta_idx}\")\n",
    "    for i in range(n):\n",
    "        circuit.add_ParametricRX_gate(i, {beta: 2})\n",
    "    return circuit\n",
    "\n",
    "## Create an estimator\n",
    "estimator = create_qulacs_vector_estimator()\n",
    "\n",
    "def QAOA_output_onelayer(x: list[float]) -> float:\n",
    "    circuit = LinearMappedUnboundParametricQuantumCircuit(n)\n",
    "    ## to create superposition, apply Hadamard gate\n",
    "    for i in range(n):\n",
    "        circuit.add_H_gate(i)\n",
    "    \n",
    "    ## apply  U_C, U_X\n",
    "    add_U_C(circuit, 0)\n",
    "    add_U_X(circuit, 0)\n",
    "\n",
    "    bound_circuit = circuit.bind_parameters(x)\n",
    "    \n",
    "    ## prepare |beta, gamma>\n",
    "    state = quantum_state(n, circuit=bound_circuit)\n",
    "    return estimator(cost_observable, state).value.real\n",
    "\n",
    "x0 = np.array( [0.1, 0.1 ])\n",
    "\n",
    "## minimize with scipy.minimize\n",
    "result = minimize(QAOA_output_onelayer, x0, options={'maxiter':500}, method='powell')\n",
    "print(\"QAOA Cost:\", result.fun) # value after optimization\n",
    "print(\"Optimized Parameter:\", result.x) # (beta, gamma) after optimization"
   ]
  },
  {
   "cell_type": "markdown",
   "metadata": {},
   "source": [
    "We got the minimum value -1 and corresponding $\\beta^{(1)}, \\gamma^{(1)}$.\n",
    "What value do we get from projective measurement of $|\\beta, \\gamma\\rangle$ in z axis ?"
   ]
  },
  {
   "cell_type": "code",
   "execution_count": 2,
   "metadata": {},
   "outputs": [
    {
     "name": "stdout",
     "output_type": "stream",
     "text": [
      "[0.01562503 0.01562428 0.01562428 0.0781264  0.01562428 0.26562503\n",
      " 0.0781264  0.01562428 0.01562428 0.0781264  0.26562503 0.01562428\n",
      " 0.0781264  0.01562428 0.01562428 0.01562503]\n"
     ]
    }
   ],
   "source": [
    "from quri_parts.qulacs.simulator import evaluate_state_to_vector\n",
    "# prepare |beta, gamma> using optimized best, gamma\n",
    "\n",
    "circuit = LinearMappedUnboundParametricQuantumCircuit(n)\n",
    "## to create superposition, apply Hadamard gate\n",
    "for i in range(n):\n",
    "    circuit.add_H_gate(i)\n",
    "##apply  U_C, U_X\n",
    "add_U_C(circuit, 0)\n",
    "add_U_X(circuit, 0)\n",
    "\n",
    "bound_circuit = circuit.bind_parameters(result.x)\n",
    "## prepare |beta, gamma>\n",
    "state = quantum_state(n, circuit=bound_circuit)\n",
    "\n",
    "## Find the of each component of the state vector = probability distribution when observed in the z direction. (Square of the absolute value observation probability)\n",
    "probs = np.abs(evaluate_state_to_vector(state).vector)**2\n",
    "print(probs)"
   ]
  },
  {
   "cell_type": "code",
   "execution_count": 3,
   "metadata": {},
   "outputs": [
    {
     "data": {
      "image/png": "[encoded data removed]",
      "text/plain": [
       "<Figure size 1000x500 with 1 Axes>"
      ]
     },
     "metadata": {},
     "output_type": "display_data"
    }
   ],
   "source": [
    "# plot\n",
    "import matplotlib.pyplot as plt\n",
    "%matplotlib inline\n",
    "\n",
    "## a bit string which can be acquired from z axis projective measurement \n",
    "z_basis = [format(i,\"b\").zfill(n) for i in range(probs.size)]\n",
    "\n",
    "plt.figure(figsize=(10, 5))\n",
    "plt.xlabel(\"states\")\n",
    "plt.ylabel(\"probability(%)\")\n",
    "plt.bar(z_basis, probs*100)\n",
    "plt.show()"
   ]
  },
  {
   "cell_type": "markdown",
   "metadata": {},
   "source": [
    "In other words, it was found that there is a high probability that `0101` or `1010` will be measured when projective measurement is performed in the $z$ direction. These bit strings mean that vertices 1 and 3, and vertices 2 and 4 belong to the same group, so they represent the following partition:\n",
    "\n",
    "![maxcut-p-1](figs/5/maxcut_result_p1.png)\n",
    "\n",
    "Here, the number of edges crossed by the curve that divides the figure is 4, which is the maximum number of edges that pass when dividing this figure.\n",
    "\n",
    "Therefore, if we perform projection measurement on the optimized $|\\beta, \\gamma\\rangle$, perform a certain number of measurement, and adopt a bit string with a high measurement probability, we can solve the optimization problem $C(z)$ solution is obtained.\n",
    "However, remember that the value of the optimized cost function $\\langle \\beta, \\gamma | C(Z) |\\beta, \\gamma \\rangle$ was -1. $\\langle 0101 | C(Z) |0101 \\rangle = \\langle 1010 | C(Z) |1010 \\rangle = -2$, so we are not getting the correct value for the cost function! This is because the variational state $|\\beta, \\gamma \\rangle$ did not have sufficient expressiveness, and the true solution $|0101\\rangle, |1010\\rangle$ could not be expressed.\n",
    "\n",
    "So let's see how the results change when the circuit is more complicated and $p=2$.\n",
    "\n",
    "*By the way, if I measure $|\\beta, \\gamma\\rangle$ 100 times to obtain 100 bit strings $z$, and calculate $C(z)$ for each of them using a classical computer, such a problem may not occur."
   ]
  },
  {
   "cell_type": "markdown",
   "metadata": {},
   "source": [
    "#### $p=2$ case"
   ]
  },
  {
   "cell_type": "code",
   "execution_count": 4,
   "metadata": {},
   "outputs": [
    {
     "name": "stdout",
     "output_type": "stream",
     "text": [
      "QAOA Cost: -1.9999996223652203\n",
      "Optimized parameters: [1.01150163 1.11872823 0.45213228 0.55937865]\n",
      "State vector: [1.10913291e-15 9.96406001e-09 9.96406001e-09 2.72762258e-08\n",
      " 9.96406001e-09 4.99999906e-01 2.72762258e-08 9.96406001e-09\n",
      " 9.96406001e-09 2.72762258e-08 4.99999906e-01 9.96406001e-09\n",
      " 2.72762258e-08 9.96406001e-09 9.96406001e-09 1.10913291e-15]\n"
     ]
    },
    {
     "data": {
      "image/png": "[encoded data removed]",
      "text/plain": [
       "<Figure size 1000x500 with 1 Axes>"
      ]
     },
     "metadata": {},
     "output_type": "display_data"
    }
   ],
   "source": [
    "from quri_parts.circuit import LinearMappedUnboundParametricQuantumCircuit, Parameter\n",
    "from quri_parts.core.state import quantum_state\n",
    "from quri_parts.qulacs.estimator import create_qulacs_vector_estimator\n",
    "\n",
    "## number of vertices\n",
    "n = 4 \n",
    "\n",
    "## Define C(Z) as qulacs.Observable\n",
    "cost_observable = Operator(\n",
    "    {\n",
    "        pauli_label(f\"Z{i} Z{(i+1) % n}\"): 0.5\n",
    "        for i in range(n)\n",
    "    }\n",
    ")\n",
    "\n",
    "\n",
    "# A function to add U_C(gamma) to a circuit \n",
    "def add_U_C(circuit: LinearMappedUnboundParametricQuantumCircuit, gamma_idx: int) -> None:\n",
    "    gamma = circuit.add_parameter(f\"gamma_{gamma_idx}\")\n",
    "    for i in range(n):\n",
    "        j = (i+1) % n\n",
    "        circuit.add_CNOT_gate(i, j)\n",
    "        circuit.add_ParametricRZ_gate(j, {gamma: 2}) ## With QURI Parts, RZ(theta)=e^{-i*theta/2*Z}\n",
    "        circuit.add_CNOT_gate(i, j)\n",
    "\n",
    "\n",
    "# A function to add U_X(beta) to a circuit\n",
    "def add_U_X(circuit: LinearMappedUnboundParametricQuantumCircuit, beta_idx: int) -> None:\n",
    "    beta = circuit.add_parameter(f\"beta_{beta_idx}\")\n",
    "    for i in range(n):\n",
    "        circuit.add_ParametricRX_gate(i, {beta: 2})\n",
    "    return circuit\n",
    "\n",
    "# Create an estimator\n",
    "estimator = create_qulacs_vector_estimator()\n",
    "\n",
    "# a function to |beta, gamma> in the case of p=2  and return  <beta, gamma| C(Z) |beta, gamma>\n",
    "# x = [beta0, beta1, gamma0, gamma1]\n",
    "def QAOA_output_twolayer(x: list[float]) -> float:\n",
    "    circuit = LinearMappedUnboundParametricQuantumCircuit(n)\n",
    "    ## to create superposition, apply Hadamard gate\n",
    "    for i in range(n):\n",
    "        circuit.add_H_gate(i)\n",
    "    \n",
    "    ## apply  U_C, U_X\n",
    "    add_U_C(circuit, 0)\n",
    "    add_U_X(circuit, 0)\n",
    "    add_U_C(circuit, 1)\n",
    "    add_U_X(circuit, 1)\n",
    "\n",
    "    # Sorting the input x to x[[2, 0, 3, 1]] is for\n",
    "    # making the parameter order consistent with the \n",
    "    # circuit parameter order [gamma0, beta0, gamma1, beta1].\n",
    "    # You may check the circuit parameter order by running\n",
    "    # ```circuit.param_mapping.in_params````\n",
    "    bound_circuit = circuit.bind_parameters(x[[2, 0, 3, 1]])\n",
    "    \n",
    "    ## prepare |beta, gamma>\n",
    "    state = quantum_state(n, circuit=bound_circuit)\n",
    "    return estimator(cost_observable, state).value.real\n",
    "\n",
    "x0 = np.array([0.1, 0.1, 0.2, 0.3])\n",
    "\n",
    "## minimize with scipy.minimize\n",
    "result = minimize(QAOA_output_twolayer, x0, options={'maxiter':500}, method='powell')\n",
    "print(\"QAOA Cost:\", result.fun) # value after optimization\n",
    "print(\"Optimized parameters:\", result.x) # (beta, gamma) after optimization\n",
    "\n",
    "from quri_parts.qulacs.simulator import evaluate_state_to_vector\n",
    "# prepare |beta, gamma> using optimized best, gamma\n",
    "\n",
    "circuit = LinearMappedUnboundParametricQuantumCircuit(n)\n",
    "## to create superposition, apply Hadamard gate\n",
    "for i in range(n):\n",
    "    circuit.add_H_gate(i)\n",
    "##apply  U_C, U_X\n",
    "add_U_C(circuit, 0)\n",
    "add_U_X(circuit, 0)\n",
    "add_U_C(circuit, 1)\n",
    "add_U_X(circuit, 1)\n",
    "\n",
    "\n",
    "bound_circuit = circuit.bind_parameters(result.x[[2, 0, 3, 1]])\n",
    "## prepare |beta, gamma>\n",
    "state = quantum_state(n, circuit=bound_circuit)\n",
    "\n",
    "## Find the of each component of the state vector = probability distribution when observed in the z direction. (Square of the absolute value observation probability)\n",
    "probs = np.abs(evaluate_state_to_vector(state).vector)**2\n",
    "print(\"State vector:\", probs)\n",
    "\n",
    "## a bit string which can be acquired from z axis projective measurement \n",
    "z_basis = [format(i,\"b\").zfill(n) for i in range(probs.size)]\n",
    "\n",
    "import matplotlib.pyplot as plt\n",
    "plt.figure(figsize=(10, 5))\n",
    "plt.xlabel(\"states\")\n",
    "plt.ylabel(\"probability(%)\")\n",
    "plt.bar(z_basis, probs*100)\n",
    "plt.show()"
   ]
  },
  {
   "cell_type": "markdown",
   "metadata": {},
   "source": [
    "Compared to the case of $p=1$, it can be seen that the probability of obtaining the true solutions $|0101\\rangle, |1010\\rangle$ is overwhelmingly high. Also, the value of the cost function is correctly approaching -2.\n",
    "\n",
    "Thus, when using QAOA, it will be necessary to pay attention to the size of the complexity $p$ of the variational quantum circuit."
   ]
  },
  {
   "cell_type": "markdown",
   "metadata": {},
   "source": [
    "### Reference\n",
    "\n",
    "[1] E. Farhi, J. Goldstone, and S. Gutmann, “A Quantum Approximate Optimization Algorithm”, [arXiv:1411.4028](https://arxiv.org/abs/1411.4028) (2014).\n",
    "\n",
    "[2] Eddie Farhi: A Quantum Approximate Optimization Algorithm, https://www.youtube.com/watch?v=J8y0VhnISi8"
   ]
  }
 ],
 "metadata": {
  "kernelspec": {
   "display_name": "qp_dev",
   "language": "python",
   "name": "python3"
  },
  "language_info": {
   "codemirror_mode": {
    "name": "ipython",
    "version": 3
   },
   "file_extension": ".py",
   "mimetype": "text/x-python",
   "name": "python",
   "nbconvert_exporter": "python",
   "pygments_lexer": "ipython3",
   "version": "3.9.16"
  }
 },
 "nbformat": 4,
 "nbformat_minor": 2
}
