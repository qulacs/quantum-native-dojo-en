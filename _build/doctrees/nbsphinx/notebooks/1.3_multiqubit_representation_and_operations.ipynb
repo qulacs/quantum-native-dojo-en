{
 "cells": [
  {
   "cell_type": "markdown",
   "metadata": {
    "colab_type": "text",
    "id": "S5qw4OA_jDj9"
   },
   "source": [
    "## 1-3. Multiqubit representation"
   ]
  },
  {
   "cell_type": "markdown",
   "metadata": {
    "colab_type": "text",
    "id": "zZZSlrM5jDj-"
   },
   "source": [
    "So far we have studied the description of the state of a single qubit and its operations (arithmetic operations). To conclude this chapter, let's learn about the description of the state when there are $n$ qubits. It is complicated because of many tensor products, but you can learn it while playing around with the code.\n",
    "\n",
    "The state of $n$ **classical** bits is represented by $n$ $0,1$ numbers, and the total number of patterns is $2^n$.\n",
    "Since quantum mechanics allows superposition states of all these patterns, the state of $n$ **quantum** bits $|\\psi \\rangle$ is described by $2^n$ complex probability amplitudes like $c_{00...0}$, $c_{00...1}$ , and so on. \n",
    "\n",
    "\n",
    "$$\n",
    "\\begin{eqnarray}\n",
    "|\\psi \\rangle &= & \n",
    "c_{00...0} |00...0\\rangle +\n",
    "c_{00...1} |00...1\\rangle + \\cdots +\n",
    "c_{11...1} |11...1\\rangle =\n",
    "\\left(\n",
    "\\begin{array}{c}\n",
    "c_{00...0}\n",
    "\\\\\n",
    "c_{00...1}\n",
    "\\\\\n",
    "\\vdots\n",
    "\\\\\n",
    "c_{11...1}\n",
    "\\end{array}\n",
    "\\right).\n",
    "\\end{eqnarray}\n",
    "$$\n",
    "\n",
    "Please note that the Complex probability amplitudes are normalized.\n",
    "\n",
    "$$\\sum _{i_1,..., i_n} |c_{i_1...i_n}|^2=1$$\n",
    "\n",
    "When the quantum state of $n$ quantum bits are measured, we get bit array $i_1 ... i_n$ randomly with the following probability.\n",
    "\n",
    "$$\n",
    "\\begin{eqnarray}\n",
    "p_{i_1 ... i_n} &=&|c_{i_1 ... i_n}|^2\n",
    "\\label{eq02}\n",
    "\\end{eqnarray}\n",
    "$$\n",
    "\n",
    "and the post measure state is $|i_1 \\dotsc i_n\\rangle$. \n",
    "\n",
    "**Thus, the state of an *$n$* qubit must be described by a *$2^n$* dimensional complex vector that is exponentially large with respect to *$n$*, and here the difference between a classical bit and a qubit is strikingly apparent**.\n",
    "And operations on $n$ qubit systems are represented as unitary matrices of $2^n \\times 2^n$ dimensions.   \n",
    "In other words, a quantum computer is a computer that unitarily transforms a complex vector of exponential size with respect to the number of qubits according to the laws of physics.\n",
    "\n",
    "*Note here the relationship between the order and notation of multiple qubits. When describing states in kets, the 0s and 1s corresponding to the states of the \"first\" qubit, the \"second\" qubit, and so on ...... were notated in order from left to right. For example, if you write $|011\\rangle$, it represents a state where the first qubit is 0, the second qubit is 1, and the third qubit is 1. On the other hand, if we look at the number 011 as a binary number, the upper bits are on the left and the lower bits are on the right. That is, the leftmost 0 corresponds to the most significant bit, the $2^2$, the middle 1 to the $2^1$, and the rightmost 1 to the least significant bit, the $2^0=1$. In other words, the \"$i$th\" qubit corresponds to the $n-i+1$th digit of the $n$-digit binary notation. This should be taken care of when dealing with multiple qubits in packages such as SymPy (see also \"Tensor Products of Operators Using SymPy\" below).\n",
    "\n",
    "(See `1.2.1 Multiple qbits` in Nielsen-Chuang for details.)"
   ]
  },
  {
   "cell_type": "markdown",
   "metadata": {
    "colab_type": "text",
    "id": "SYOr7Bq6jDj-"
   },
   "source": [
    "### Example：2 quantum bits case\n",
    "\n",
    "In the case of a two-qubit, there are four possible superpositions of the states 00, 01, 10, and 11, so the states can be written\n",
    "\n",
    "$$\n",
    "c_{00} |00\\rangle + c_{01} |01\\rangle + c_{10}|10\\rangle + c_{11} |11\\rangle  = \n",
    "\\left( \n",
    "\\begin{array}{c}\n",
    "c_{00}\n",
    "\\\\\n",
    "c_{01}\n",
    "\\\\\n",
    "c_{10}\n",
    "\\\\\n",
    "c_{11}\n",
    "\\end{array}\n",
    "\\right)\n",
    "$$\n"
   ]
  },
  {
   "cell_type": "markdown",
   "metadata": {
    "colab_type": "text",
    "id": "4y2RvAV_jDj_"
   },
   "source": [
    "On the other hand, operations on 2 qubits can be written in $4 \\times 4$ matrices, where each column and each row corresponds to $\\langle00|,\\langle01|,\\langle10|,\\langle11|, |00\\rangle,|01\\rangle,|10\\rangle,$ <span style=\"color:red\"> $|11\\rangle$ </span>.    \n",
    "The most important operation acting on such two-qubit is the **controlled NOT operation (CNOT operation)** .\n",
    "The matrix representation is below.\n",
    "\n",
    "$$\n",
    "\\begin{eqnarray}\n",
    "\\Lambda(X) =\n",
    "\\left(\n",
    "\\begin{array}{cccc}\n",
    "1 & 0 & 0& 0\n",
    "\\\\\n",
    "0 & 1 & 0& 0\n",
    "\\\\\n",
    "0 & 0 & 0 & 1\n",
    "\\\\\n",
    "0 & 0 & 1& 0\n",
    "\\end{array}\n",
    "\\right)\n",
    "\\end{eqnarray}\n",
    "$$\n",
    "\n",
    "Let's see how the CNOT operation works on two qubits. First, if the first qubit is $|0\\rangle$, <span style=\"color:red\">the possibility that the first qubit is $|1\\rangle$ is 0 </span>. Therefore, $c_{10} = c_{11} = 0$,\n",
    "\n",
    "$$\n",
    "\\Lambda(X)\n",
    "\\left(\n",
    "\\begin{array}{c}\n",
    "c_{00}\\\\\n",
    "c_{01}\\\\\n",
    "0\\\\\n",
    "0\n",
    "\\end{array}\n",
    "\\right) =\n",
    "\\left(\n",
    "\\begin{array}{c}\n",
    "c_{00}\\\\\n",
    "c_{01}\\\\\n",
    "0\\\\\n",
    "0\n",
    "\\end{array}\n",
    "\\right)\n",
    "$$\n",
    "\n",
    "Also, the state do not change <span style=\"color:red\"> when $\\Lambda(X)$ is applied </span>. On the other hand, if the first qubit is $|1\\rangle$, then $c_{00} = c_{01} = 0$ .\n",
    "\n",
    "$$\n",
    "\\Lambda(X)\n",
    "\\left(\n",
    "\\begin{array}{c}\n",
    "0\\\\\n",
    "0\\\\\n",
    "c_{10}\\\\\n",
    "c_{11}\n",
    "\\end{array}\n",
    "\\right) =\n",
    "\\left(\n",
    "\\begin{array}{c}\n",
    "0\\\\\n",
    "0\\\\\n",
    "c_{11}\\\\\n",
    "c_{10}\n",
    "\\end{array}\n",
    "\\right)\n",
    "$$\n",
    "\n",
    "The probability amplitudes of the $|10\\rangle$ and $|11\\rangle$ are swapped. In other words, the second qubit is inverted.\n",
    "\n",
    "In other words, the CNOT operation keeps the first qubit intact.\n",
    "\n",
    "- If the first qubit is $|0\\rangle$, nothing is done to the second qubit (the identity operation $I$ acts).\n",
    "- If the first qubit is $|1\\rangle$, the second qubit is flipped ($X$ acts)\n",
    "\n",
    "Therefore, the first qubit is called the **control qubit** and the second qubit is called the **target qubit**.\n",
    "\n",
    "When $\\oplus$ is the addition of mod 2, i.e., the exclusive OR (XOR) in classical computation, the action of this CNOT operation is given by \n",
    "\n",
    "$$\n",
    "\\begin{eqnarray}\n",
    "\\Lambda(X) |ij \\rangle = |i \\;\\; (i\\oplus j)\\rangle \\:\\:\\: (i,j=0,1)\n",
    "\\end{eqnarray}\n",
    "$$\n",
    "\n",
    "\n",
    "<span style=\"color:red\">\n",
    "Conversely, if the second qubit is the control qubit and the first qubit is the target qubit, we can write\n",
    "</span>\n",
    "\n",
    "$$\n",
    "\\begin{eqnarray}\n",
    "\\color{red}{\\Lambda(X) |ij \\rangle = |(i\\oplus j) \\;\\;  j\\rangle \\:\\:\\: (i,j=0,1)}\n",
    "\\end{eqnarray}\n",
    "$$\n",
    "\n",
    "Thus, the CNOT operation can be regarded as an invertible version of XOR in classical computation\n",
    "(Note that the unitary matrix is invertible by definition $U^\\dagger U = U U^\\dagger = I$).\n",
    "For example, let the first qubit is superposition of $|0\\rangle$ and $|1\\rangle$, and the second qubit is $|0\\rangle$. Then\n",
    "\n",
    "$$\n",
    "\\begin{eqnarray}\n",
    "\\frac{1}{\\sqrt{2}}(|0\\rangle + |1\\rangle )\\otimes |0\\rangle =\n",
    "\\frac{1}{\\sqrt{2}}\n",
    "\\left(\n",
    "\\begin{array}{c}\n",
    "1\n",
    "\\\\\n",
    "0\n",
    "\\\\\n",
    "1\n",
    "\\\\\n",
    "0\n",
    "\\end{array}\n",
    "\\right)\n",
    "\\end{eqnarray}\n",
    "$$\n",
    "\n",
    "When CNOT is applied, \n",
    "\n",
    "$$\n",
    "\\begin{eqnarray}\n",
    "\\frac{1}{\\sqrt{2}}( |00\\rangle + |11\\rangle ) =\n",
    "\\frac{1}{\\sqrt{2}}\n",
    "\\left(\n",
    "\\begin{array}{c}\n",
    "1\n",
    "\\\\\n",
    "0\n",
    "\\\\\n",
    "0\n",
    "\\\\\n",
    "1\n",
    "\\end{array}\n",
    "\\right)\n",
    "\\end{eqnarray}\n",
    "$$\n",
    "\n",
    "we get a superposition of $|00\\rangle$ and $|11\\rangle$. At $ |00\\rangle$, the second qubit is intact, while at $ |11\\rangle$, the second qubit is inverted from $ |0\\rangle$ to  $ |1\\rangle$. (See next section for the symbol $\\otimes$.)\n",
    "\n",
    "Furthermore, the CNOT gate can be combined to create an important two-qubit gate, the **SWAP gate**.\n",
    "\n",
    "A CNOT gate with the $i$-th qubit as the control and the $j$-th qubit as the target can be written as follows.\n",
    "\n",
    "$$\\Lambda(X)_{i,j}$$\n",
    "\n",
    "By using this, SWAP gate can be written as \n",
    "\n",
    "$$\n",
    "\\begin{align}\n",
    "\\mathrm{SWAP} &= \\Lambda(X)_{1,2} \\Lambda(X)_{2,1} \\Lambda(X)_{1,2}\\\\\n",
    "&=\n",
    "\\left(\n",
    "\\begin{array}{cccc}\n",
    "1 & 0 & 0 & 0 \\\\\n",
    "0 & 1 & 0 & 0 \\\\\n",
    "0 & 0 & 0 & 1 \\\\\n",
    "0 & 0 & 1 & 0\n",
    "\\end{array}\n",
    "\\right)\n",
    "\\left(\n",
    "\\begin{array}{cccc}\n",
    "1 & 0 & 0 & 0 \\\\\n",
    "0 & 0 & 0 & 1 \\\\\n",
    "0 & 0 & 1 & 0 \\\\\n",
    "0 & 1 & 0 & 0\n",
    "\\end{array}\n",
    "\\right)\n",
    "\\left(\n",
    "\\begin{array}{cccc}\n",
    "1 & 0 & 0 & 0 \\\\\n",
    "0 & 1 & 0 & 0 \\\\\n",
    "0 & 0 & 0 & 1 \\\\\n",
    "0 & 0 & 1 & 0\n",
    "\\end{array}\n",
    "\\right)\\\\\n",
    "&=\n",
    "\\left(\n",
    "\\begin{array}{cccc}\n",
    "1 & 0 & 0 & 0 \\\\\n",
    "0 & 0 & 1 & 0 \\\\\n",
    "0 & 1 & 0 & 0 \\\\\n",
    "0 & 0 & 0 & 1\n",
    "\\end{array}\n",
    "\\right)\n",
    "\\end{align}\n",
    "$$\n",
    "\n",
    "We see that this is the gate which exchanges the first qubit with the second qubit.\n",
    "\n",
    "This can be easily verified by the notation above using the addition $\\oplus$ of mod 2. The action of the three CNOT gates $\\Lambda(X)_{1,2} \\Lambda(X)_{2,1} \\Lambda(X)_{1,2}$ on the $|ij\\rangle$ can be written down step by step, using $i \\oplus (i \\oplus j) = (i \\oplus i) \\oplus j = 0 \\oplus j = j$.\n",
    "\n",
    "$$\n",
    "\\begin{align}\n",
    "|ij\\rangle &\\longrightarrow\n",
    "|i \\;\\; (i\\oplus j)\\rangle\\\\\n",
    "&\\longrightarrow\n",
    "|(i\\oplus (i\\oplus j)) \\;\\; (i\\oplus j)\\rangle =\n",
    "|j \\;\\; (i\\oplus j)\\rangle\\\\\n",
    "&\\longrightarrow\n",
    "|j \\;\\; (j\\oplus (i\\oplus j))\\rangle =\n",
    "|ji\\rangle\n",
    "\\end{align}\n",
    "$$\n",
    "\n",
    "\n",
    "We see that this is the gate which swaps two qubits.\n",
    "\n",
    "(See Nielsen-Chuang `1.3.2 Multiple qbit gates` for detail)"
   ]
  },
  {
   "cell_type": "markdown",
   "metadata": {
    "colab_type": "text",
    "id": "0Sy1atIsjDkA"
   },
   "source": [
    "### Calculating Tensor Products\n",
    "In hand and analytical calculations, the **tensor product** ($\\otimes$) is a powerful tool.\n",
    "This gives us the rules for the calculation of how, given multiple qubits, to transform them into a large single vector we saw above.\n",
    "\n",
    "In quantum mechanics, when you have two quantum systems, each in the states $|\\psi \\rangle$ and $|\\phi \\rangle$, we express this as follows.\n",
    "\n",
    "\n",
    "$$\n",
    "|\\psi \\rangle \\otimes |\\phi\\rangle\n",
    "$$\n",
    "\n",
    "The tensor product $\\otimes$ is used to express the state. Such a system consisting of multiple quantum systems is called a **composite system**. For example, a two-qubit system is a composite system.\n",
    "\n",
    "\n",
    "Basically, tensor products may be computed by the same rules of computation as **polynomials**.\n",
    "\n",
    "For example, calculation can be done this way.\n",
    "\n",
    "$$ \n",
    "(\\alpha |0\\rangle + \\beta |1\\rangle )\\otimes (\\gamma |0\\rangle + \\delta |1\\rangle )\n",
    "= \\alpha \\gamma |0\\rangle |0\\rangle + \\alpha \\delta |0\\rangle |1\\rangle + \\beta \\gamma |1 \\rangle | 0\\rangle + \\beta \\delta |1\\rangle |1\\rangle \n",
    "$$\n",
    "\n",
    "In column vector representation, we get the 4-dimensional vectors corresponding to $|00\\rangle$, $|01\\rangle$, $|10\\rangle$, $|11\\rangle$ .\n",
    "\n",
    "$$\n",
    "\\left(\n",
    "\\begin{array}{c}\n",
    "\\alpha\n",
    "\\\\\n",
    "\\beta\n",
    "\\end{array}\n",
    "\\right)\n",
    "\\otimes \n",
    "\\left(\n",
    "\\begin{array}{c}\n",
    "\\gamma\n",
    "\\\\\n",
    "\\delta\n",
    "\\end{array}\n",
    "\\right) =\n",
    "\\left(\n",
    "\\begin{array}{c}\n",
    "\\alpha \\gamma\n",
    "\\\\\n",
    "\\alpha \\delta\n",
    "\\\\\n",
    "\\beta \\gamma\n",
    "\\\\\n",
    "\\beta \\delta\n",
    "\\end{array}\n",
    "\\right)\n",
    "$$"
   ]
  },
  {
   "cell_type": "markdown",
   "metadata": {
    "colab_type": "text",
    "id": "E0nP2YUBjDkA"
   },
   "source": [
    "### Tensor product calculation using SymPy"
   ]
  },
  {
   "cell_type": "code",
   "execution_count": 1,
   "metadata": {
    "colab": {},
    "colab_type": "code",
    "id": "U-NFd2sGjDi-"
   },
   "outputs": [],
   "source": [
    "from IPython.display import Image, display_png\n",
    "from sympy import *\n",
    "from sympy.physics.quantum import *\n",
    "from sympy.physics.quantum.qubit import Qubit,QubitBra\n",
    "from sympy.physics.quantum.gate import X,Y,Z,H,S,T,CNOT,SWAP, CPHASE\n",
    "init_printing() # to show vectors and matrices nicely"
   ]
  },
  {
   "cell_type": "code",
   "execution_count": 2,
   "metadata": {
    "nbsphinx": "hidden"
   },
   "outputs": [],
   "source": [
    "#Please run only on Google Colaboratory\n",
    "\n",
    "from IPython.display import HTML\n",
    "def setup_mathjax():\n",
    "    display(HTML('''\n",
    "    <script>\n",
    "        if (!window.MathJax && window.google && window.google.colab) {\n",
    "            window.MathJax = {\n",
    "                'tex2jax': {\n",
    "                    'inlineMath': [['$', '$'], ['\\\\(', '\\\\)']],\n",
    "                    'displayMath': [['$$', '$$'], ['\\\\[', '\\\\]']],\n",
    "                    'processEscapes': true,\n",
    "                    'processEnvironments': true,\n",
    "                    'skipTags': ['script', 'noscript', 'style', 'textarea', 'code'],\n",
    "                    'displayAlign': 'center',\n",
    "                },\n",
    "                'HTML-CSS': {\n",
    "                    'styles': {'.MathJax_Display': {'margin': 0}},\n",
    "                    'linebreaks': {'automatic': true},\n",
    "                    // Disable to prevent OTF font loading, which aren't part of our\n",
    "                    // distribution.\n",
    "                    'imageFont': null,\n",
    "                },\n",
    "               'messageStyle': 'none'\n",
    "            };\n",
    "            var script = document.createElement(\"script\");\n",
    "            script.src = \"https://colab.research.google.com/static/mathjax/MathJax.js?config=TeX-AMS_HTML-full,Safe\";\n",
    "            document.head.appendChild(script);\n",
    "        }\n",
    "    </script>\n",
    "    '''))\n",
    "get_ipython().events.register('pre_run_cell', setup_mathjax)"
   ]
  },
  {
   "cell_type": "code",
   "execution_count": 3,
   "metadata": {
    "colab": {},
    "colab_type": "code",
    "id": "Zn8MxcqwjDkB"
   },
   "outputs": [
    {
     "data": {
      "text/html": [
       "\n",
       "    <script>\n",
       "        if (!window.MathJax && window.google && window.google.colab) {\n",
       "            window.MathJax = {\n",
       "                'tex2jax': {\n",
       "                    'inlineMath': [['$', '$'], ['\\(', '\\)']],\n",
       "                    'displayMath': [['$$', '$$'], ['\\[', '\\]']],\n",
       "                    'processEscapes': true,\n",
       "                    'processEnvironments': true,\n",
       "                    'skipTags': ['script', 'noscript', 'style', 'textarea', 'code'],\n",
       "                    'displayAlign': 'center',\n",
       "                },\n",
       "                'HTML-CSS': {\n",
       "                    'styles': {'.MathJax_Display': {'margin': 0}},\n",
       "                    'linebreaks': {'automatic': true},\n",
       "                    // Disable to prevent OTF font loading, which aren't part of our\n",
       "                    // distribution.\n",
       "                    'imageFont': null,\n",
       "                },\n",
       "               'messageStyle': 'none'\n",
       "            };\n",
       "            var script = document.createElement(\"script\");\n",
       "            script.src = \"https://colab.research.google.com/static/mathjax/MathJax.js?config=TeX-AMS_HTML-full,Safe\";\n",
       "            document.head.appendChild(script);\n",
       "        }\n",
       "    </script>\n",
       "    "
      ],
      "text/plain": [
       "<IPython.core.display.HTML object>"
      ]
     },
     "metadata": {},
     "output_type": "display_data"
    }
   ],
   "source": [
    "a,b,c,d = symbols('alpha,beta,gamma,delta')\n",
    "psi = a*Qubit('0')+b*Qubit('1')\n",
    "phi = c*Qubit('0')+d*Qubit('1')"
   ]
  },
  {
   "cell_type": "code",
   "execution_count": 4,
   "metadata": {
    "colab": {},
    "colab_type": "code",
    "id": "5H9b5lxXjDkD",
    "outputId": "e3b6bf9f-74ab-40cd-aa79-c95401c3d585"
   },
   "outputs": [
    {
     "data": {
      "text/html": [
       "\n",
       "    <script>\n",
       "        if (!window.MathJax && window.google && window.google.colab) {\n",
       "            window.MathJax = {\n",
       "                'tex2jax': {\n",
       "                    'inlineMath': [['$', '$'], ['\\(', '\\)']],\n",
       "                    'displayMath': [['$$', '$$'], ['\\[', '\\]']],\n",
       "                    'processEscapes': true,\n",
       "                    'processEnvironments': true,\n",
       "                    'skipTags': ['script', 'noscript', 'style', 'textarea', 'code'],\n",
       "                    'displayAlign': 'center',\n",
       "                },\n",
       "                'HTML-CSS': {\n",
       "                    'styles': {'.MathJax_Display': {'margin': 0}},\n",
       "                    'linebreaks': {'automatic': true},\n",
       "                    // Disable to prevent OTF font loading, which aren't part of our\n",
       "                    // distribution.\n",
       "                    'imageFont': null,\n",
       "                },\n",
       "               'messageStyle': 'none'\n",
       "            };\n",
       "            var script = document.createElement(\"script\");\n",
       "            script.src = \"https://colab.research.google.com/static/mathjax/MathJax.js?config=TeX-AMS_HTML-full,Safe\";\n",
       "            document.head.appendChild(script);\n",
       "        }\n",
       "    </script>\n",
       "    "
      ],
      "text/plain": [
       "<IPython.core.display.HTML object>"
      ]
     },
     "metadata": {},
     "output_type": "display_data"
    },
    {
     "data": {
      "image/png": "[encoded data removed]",
      "text/latex": [
       "$$\\left({\\alpha {\\left|0\\right\\rangle } + \\beta {\\left|1\\right\\rangle }}\\right)\\otimes \\left({\\delta {\\left|1\\right\\rangle } + \\gamma {\\left|0\\right\\rangle }}\\right)$$"
      ],
      "text/plain": [
       "(α⋅❘0⟩ + β⋅❘1⟩)⨂ (δ⋅❘1⟩ + γ⋅❘0⟩)"
      ]
     },
     "execution_count": 4,
     "metadata": {},
     "output_type": "execute_result"
    }
   ],
   "source": [
    "TensorProduct(psi, phi) #tensor product"
   ]
  },
  {
   "cell_type": "code",
   "execution_count": 5,
   "metadata": {
    "colab": {},
    "colab_type": "code",
    "id": "4PLJcjG9jDkE",
    "outputId": "a5cac454-2a76-405e-e406-68291f1aa704",
    "scrolled": true
   },
   "outputs": [
    {
     "data": {
      "text/html": [
       "\n",
       "    <script>\n",
       "        if (!window.MathJax && window.google && window.google.colab) {\n",
       "            window.MathJax = {\n",
       "                'tex2jax': {\n",
       "                    'inlineMath': [['$', '$'], ['\\(', '\\)']],\n",
       "                    'displayMath': [['$$', '$$'], ['\\[', '\\]']],\n",
       "                    'processEscapes': true,\n",
       "                    'processEnvironments': true,\n",
       "                    'skipTags': ['script', 'noscript', 'style', 'textarea', 'code'],\n",
       "                    'displayAlign': 'center',\n",
       "                },\n",
       "                'HTML-CSS': {\n",
       "                    'styles': {'.MathJax_Display': {'margin': 0}},\n",
       "                    'linebreaks': {'automatic': true},\n",
       "                    // Disable to prevent OTF font loading, which aren't part of our\n",
       "                    // distribution.\n",
       "                    'imageFont': null,\n",
       "                },\n",
       "               'messageStyle': 'none'\n",
       "            };\n",
       "            var script = document.createElement(\"script\");\n",
       "            script.src = \"https://colab.research.google.com/static/mathjax/MathJax.js?config=TeX-AMS_HTML-full,Safe\";\n",
       "            document.head.appendChild(script);\n",
       "        }\n",
       "    </script>\n",
       "    "
      ],
      "text/plain": [
       "<IPython.core.display.HTML object>"
      ]
     },
     "metadata": {},
     "output_type": "display_data"
    },
    {
     "data": {
      "image/png": "[encoded data removed]",
      "text/latex": [
       "$$\\left[\\begin{matrix}\\alpha \\gamma\\\\\\alpha \\delta\\\\\\beta \\gamma\\\\\\beta \\delta\\end{matrix}\\right]$$"
      ],
      "text/plain": [
       "⎡α⋅γ⎤\n",
       "⎢   ⎥\n",
       "⎢α⋅δ⎥\n",
       "⎢   ⎥\n",
       "⎢β⋅γ⎥\n",
       "⎢   ⎥\n",
       "⎣β⋅δ⎦"
      ]
     },
     "execution_count": 5,
     "metadata": {},
     "output_type": "execute_result"
    }
   ],
   "source": [
    "represent(TensorProduct(psi, phi))"
   ]
  },
  {
   "cell_type": "markdown",
   "metadata": {
    "colab_type": "text",
    "id": "qub7RTm2jDkG"
   },
   "source": [
    "Furthermore, calculating the tensor product of this vector and $|\\psi\\rangle$, we get an 8-dimensional vector"
   ]
  },
  {
   "cell_type": "code",
   "execution_count": 6,
   "metadata": {
    "colab": {},
    "colab_type": "code",
    "id": "sVC53glUjDkG",
    "outputId": "0a8e037b-4e03-4c13-aa0a-c9eda2dd139a"
   },
   "outputs": [
    {
     "data": {
      "text/html": [
       "\n",
       "    <script>\n",
       "        if (!window.MathJax && window.google && window.google.colab) {\n",
       "            window.MathJax = {\n",
       "                'tex2jax': {\n",
       "                    'inlineMath': [['$', '$'], ['\\(', '\\)']],\n",
       "                    'displayMath': [['$$', '$$'], ['\\[', '\\]']],\n",
       "                    'processEscapes': true,\n",
       "                    'processEnvironments': true,\n",
       "                    'skipTags': ['script', 'noscript', 'style', 'textarea', 'code'],\n",
       "                    'displayAlign': 'center',\n",
       "                },\n",
       "                'HTML-CSS': {\n",
       "                    'styles': {'.MathJax_Display': {'margin': 0}},\n",
       "                    'linebreaks': {'automatic': true},\n",
       "                    // Disable to prevent OTF font loading, which aren't part of our\n",
       "                    // distribution.\n",
       "                    'imageFont': null,\n",
       "                },\n",
       "               'messageStyle': 'none'\n",
       "            };\n",
       "            var script = document.createElement(\"script\");\n",
       "            script.src = \"https://colab.research.google.com/static/mathjax/MathJax.js?config=TeX-AMS_HTML-full,Safe\";\n",
       "            document.head.appendChild(script);\n",
       "        }\n",
       "    </script>\n",
       "    "
      ],
      "text/plain": [
       "<IPython.core.display.HTML object>"
      ]
     },
     "metadata": {},
     "output_type": "display_data"
    },
    {
     "data": {
      "image/png": "[encoded data removed]",
      "text/latex": [
       "$$\\left[\\begin{matrix}\\alpha^{2} \\gamma\\\\\\alpha^{2} \\delta\\\\\\alpha \\beta \\gamma\\\\\\alpha \\beta \\delta\\\\\\alpha \\beta \\gamma\\\\\\alpha \\beta \\delta\\\\\\beta^{2} \\gamma\\\\\\beta^{2} \\delta\\end{matrix}\\right]$$"
      ],
      "text/plain": [
       "⎡ 2   ⎤\n",
       "⎢α ⋅γ ⎥\n",
       "⎢     ⎥\n",
       "⎢ 2   ⎥\n",
       "⎢α ⋅δ ⎥\n",
       "⎢     ⎥\n",
       "⎢α⋅β⋅γ⎥\n",
       "⎢     ⎥\n",
       "⎢α⋅β⋅δ⎥\n",
       "⎢     ⎥\n",
       "⎢α⋅β⋅γ⎥\n",
       "⎢     ⎥\n",
       "⎢α⋅β⋅δ⎥\n",
       "⎢     ⎥\n",
       "⎢ 2   ⎥\n",
       "⎢β ⋅γ ⎥\n",
       "⎢     ⎥\n",
       "⎢ 2   ⎥\n",
       "⎣β ⋅δ ⎦"
      ]
     },
     "execution_count": 6,
     "metadata": {},
     "output_type": "execute_result"
    }
   ],
   "source": [
    "represent(TensorProduct(psi,TensorProduct(psi, phi)))"
   ]
  },
  {
   "cell_type": "markdown",
   "metadata": {
    "colab_type": "text",
    "id": "XFioeA99jDkJ"
   },
   "source": [
    "### Tensor product of operators\n",
    "\n",
    "The tensor product can be used to express which qubit an operator acts on. For example, if we want to apply the operator $A$ to the first qubit and the operator $B$ to the second qubit, then tensor product operator is given as follows \n",
    "\n",
    "$$ A \\otimes B$$\n",
    "\n",
    "Let $A$ and $B$ be 2×2 matrices, respectively, then $A\\otimes B$ is a 4×4 matrix.\n",
    "\n",
    "$$\n",
    "\\left(\n",
    "\\begin{array}{cc}\n",
    "a_{11} & a_{12}\n",
    "\\\\\n",
    "a_{21} & a_{22}\n",
    "\\end{array}\n",
    "\\right)\n",
    "\\otimes \n",
    "\\left(\n",
    "\\begin{array}{cc}\n",
    "b_{11} & b_{12}\n",
    "\\\\\n",
    "b_{21} & b_{22}\n",
    "\\end{array}\n",
    "\\right) =\n",
    "\\left(\n",
    "\\begin{array}{cccc}\n",
    "a_{11} b_{11} & a_{11} b_{12} & a_{12} b_{11} & a_{12} b_{12}\n",
    "\\\\\n",
    "a_{11} b_{21} & a_{11} b_{22} & a_{12} b_{21} & a_{12} b_{22}\n",
    "\\\\\n",
    "a_{21} b_{11} & a_{21} b_{12} & a_{22} b_{11} & a_{22} b_{12}\n",
    "\\\\\n",
    "a_{21} b_{21} & a_{21} b_{22} & a_{22} b_{21} & a_{22} b_{22}\n",
    "\\end{array}\n",
    "\\right)\n",
    "$$\n",
    "\n",
    "When $ A \\otimes B$ transforms the following Tensor product,\n",
    "\n",
    "$$|\\psi \\rangle \\otimes | \\phi \\rangle $$ \n",
    "\n",
    "we get\n",
    "\n",
    "$$ (A|\\psi \\rangle ) \\otimes (B |\\phi \\rangle )$$\n",
    "\n",
    "\n",
    "$A$ and $B$ act on each of the subsystems $|\\psi \\rangle$ and $|\\phi\\rangle$, respectively.\n",
    "For addition, we can expand it like a polynomial.\n",
    "\n",
    "$$\n",
    "(A+C)\\otimes (B+D) |\\psi \\rangle \\otimes | \\phi \\rangle =\n",
    "(A \\otimes B +A \\otimes D + C \\otimes B + C \\otimes D) |\\psi \\rangle \\otimes | \\phi \\rangle\\\\ =\n",
    "(A|\\psi \\rangle) \\otimes (B| \\phi \\rangle)\n",
    "+(A|\\psi \\rangle) \\otimes (D| \\phi \\rangle)\n",
    "+(C|\\psi \\rangle) \\otimes (B| \\phi \\rangle)\n",
    "+(C|\\psi \\rangle) \\otimes (D| \\phi \\rangle)\n",
    "$$\n",
    "\n",
    "Tensor products and tensor product operators are written horizontally on the left and right, but it may actually be easier to understand how they work if they are arranged vertically.\n",
    "\n",
    "$$\n",
    "\\left(\n",
    "\\begin{array}{c}\n",
    "A\n",
    "\\\\\n",
    "\\otimes \n",
    "\\\\\n",
    "B\n",
    "\\end{array}\n",
    "\\right)\n",
    "\\begin{array}{c}\n",
    "|\\psi \\rangle \n",
    "\\\\\n",
    "\\otimes \n",
    "\\\\\n",
    "|\\phi\\rangle\n",
    "\\end{array}\n",
    "$$\n",
    "\n",
    "For example, the entangle state created using the CNOT operation is\n",
    "\n",
    "$$\n",
    "\\left(\n",
    "\\begin{array}{c}\n",
    "|0\\rangle \\langle 0|\n",
    "\\\\\n",
    "\\otimes \n",
    "\\\\\n",
    "I\n",
    "\\end{array}\n",
    "+\n",
    "\\begin{array}{c}\n",
    "|1\\rangle \\langle 1|\n",
    "\\\\\n",
    "\\otimes \n",
    "\\\\\n",
    "X\n",
    "\\end{array}\n",
    "\\right)\n",
    "\\left(\n",
    "\\begin{array}{c}\n",
    "\\frac{1}{\\sqrt{2}}(|0\\rangle + |1\\rangle)\n",
    "\\\\\n",
    "\\otimes \n",
    "\\\\\n",
    "|0\\rangle\n",
    "\\end{array}\n",
    "\\right) =\n",
    "\\frac{1}{\\sqrt{2}}\\left(\n",
    "\\begin{array}{c}\n",
    "|0 \\rangle \n",
    "\\\\\n",
    "\\otimes \n",
    "\\\\\n",
    "|0\\rangle\n",
    "\\end{array}\n",
    "+\n",
    "\\begin{array}{c}\n",
    "|1 \\rangle \n",
    "\\\\\n",
    "\\otimes \n",
    "\\\\\n",
    "|1\\rangle\n",
    "\\end{array}\n",
    "\\right)\n",
    "$$"
   ]
  },
  {
   "cell_type": "markdown",
   "metadata": {
    "colab_type": "text",
    "id": "MYxxEJ8ejDkJ"
   },
   "source": [
    "### Tensor product of operators using SymPy\n",
    "When using an operator in SymPy, always specify which digit the operator affects. Note that it is not \"the **th**\" but \"the **digit**\" in binary notation. When specifying the $i$th qubit from the left of the $n$ qubits with SymPy code, you should specify index `n-i` (Sympy index based on 0)."
   ]
  },
  {
   "cell_type": "markdown",
   "metadata": {
    "colab_type": "text",
    "id": "t3L4MWITjDkL"
   },
   "source": [
    "`H(0)` can be written as follows in one-qubit space"
   ]
  },
  {
   "cell_type": "code",
   "execution_count": 9,
   "metadata": {
    "colab": {},
    "colab_type": "code",
    "id": "GQcwyGq3jDkL",
    "outputId": "2f4f2189-906a-44ba-8eb4-8560895bea53"
   },
   "outputs": [
    {
     "data": {
      "text/html": [
       "\n",
       "    <script>\n",
       "        if (!window.MathJax && window.google && window.google.colab) {\n",
       "            window.MathJax = {\n",
       "                'tex2jax': {\n",
       "                    'inlineMath': [['$', '$'], ['\\(', '\\)']],\n",
       "                    'displayMath': [['$$', '$$'], ['\\[', '\\]']],\n",
       "                    'processEscapes': true,\n",
       "                    'processEnvironments': true,\n",
       "                    'skipTags': ['script', 'noscript', 'style', 'textarea', 'code'],\n",
       "                    'displayAlign': 'center',\n",
       "                },\n",
       "                'HTML-CSS': {\n",
       "                    'styles': {'.MathJax_Display': {'margin': 0}},\n",
       "                    'linebreaks': {'automatic': true},\n",
       "                    // Disable to prevent OTF font loading, which aren't part of our\n",
       "                    // distribution.\n",
       "                    'imageFont': null,\n",
       "                },\n",
       "               'messageStyle': 'none'\n",
       "            };\n",
       "            var script = document.createElement(\"script\");\n",
       "            script.src = \"https://colab.research.google.com/static/mathjax/MathJax.js?config=TeX-AMS_HTML-full,Safe\";\n",
       "            document.head.appendChild(script);\n",
       "        }\n",
       "    </script>\n",
       "    "
      ],
      "text/plain": [
       "<IPython.core.display.HTML object>"
      ]
     },
     "metadata": {},
     "output_type": "display_data"
    },
    {
     "data": {
      "image/png": "[encoded data removed]",
      "text/latex": [
       "$$\\left[\\begin{matrix}\\frac{1}{\\sqrt{2}} & \\frac{1}{\\sqrt{2}}\\\\\\frac{1}{\\sqrt{2}} & - \\frac{\\sqrt{2}}{2}\\end{matrix}\\right]$$"
      ],
      "text/plain": [
       "⎡1    1  ⎤\n",
       "⎢──   ── ⎥\n",
       "⎢√2   √2 ⎥\n",
       "⎢        ⎥\n",
       "⎢1   -√2 ⎥\n",
       "⎢──  ────⎥\n",
       "⎣√2   2  ⎦"
      ]
     },
     "execution_count": 9,
     "metadata": {},
     "output_type": "execute_result"
    }
   ],
   "source": [
    "represent(H(0),nqubits=1)"
   ]
  },
  {
   "cell_type": "markdown",
   "metadata": {
    "colab_type": "text",
    "id": "RDIjIr1gjDkP"
   },
   "source": [
    "In two-qubit space, it corresponds to $H \\otimes I$, and its matrix representation is"
   ]
  },
  {
   "cell_type": "code",
   "execution_count": 10,
   "metadata": {
    "colab": {},
    "colab_type": "code",
    "id": "Kd_yAuLXjDkQ",
    "outputId": "87ce9361-229e-4e6a-a9a3-19b104977a2c"
   },
   "outputs": [
    {
     "data": {
      "text/html": [
       "\n",
       "    <script>\n",
       "        if (!window.MathJax && window.google && window.google.colab) {\n",
       "            window.MathJax = {\n",
       "                'tex2jax': {\n",
       "                    'inlineMath': [['$', '$'], ['\\(', '\\)']],\n",
       "                    'displayMath': [['$$', '$$'], ['\\[', '\\]']],\n",
       "                    'processEscapes': true,\n",
       "                    'processEnvironments': true,\n",
       "                    'skipTags': ['script', 'noscript', 'style', 'textarea', 'code'],\n",
       "                    'displayAlign': 'center',\n",
       "                },\n",
       "                'HTML-CSS': {\n",
       "                    'styles': {'.MathJax_Display': {'margin': 0}},\n",
       "                    'linebreaks': {'automatic': true},\n",
       "                    // Disable to prevent OTF font loading, which aren't part of our\n",
       "                    // distribution.\n",
       "                    'imageFont': null,\n",
       "                },\n",
       "               'messageStyle': 'none'\n",
       "            };\n",
       "            var script = document.createElement(\"script\");\n",
       "            script.src = \"https://colab.research.google.com/static/mathjax/MathJax.js?config=TeX-AMS_HTML-full,Safe\";\n",
       "            document.head.appendChild(script);\n",
       "        }\n",
       "    </script>\n",
       "    "
      ],
      "text/plain": [
       "<IPython.core.display.HTML object>"
      ]
     },
     "metadata": {},
     "output_type": "display_data"
    },
    {
     "data": {
      "image/png": "[encoded data removed]",
      "text/latex": [
       "$$\\left[\\begin{matrix}\\frac{1}{\\sqrt{2}} & 0 & \\frac{1}{\\sqrt{2}} & 0\\\\0 & \\frac{1}{\\sqrt{2}} & 0 & \\frac{1}{\\sqrt{2}}\\\\\\frac{1}{\\sqrt{2}} & 0 & - \\frac{\\sqrt{2}}{2} & 0\\\\0 & \\frac{1}{\\sqrt{2}} & 0 & - \\frac{\\sqrt{2}}{2}\\end{matrix}\\right]$$"
      ],
      "text/plain": [
       "⎡1        1        ⎤\n",
       "⎢──  0    ──    0  ⎥\n",
       "⎢√2       √2       ⎥\n",
       "⎢                  ⎥\n",
       "⎢    1          1  ⎥\n",
       "⎢0   ──   0     ── ⎥\n",
       "⎢    √2         √2 ⎥\n",
       "⎢                  ⎥\n",
       "⎢1       -√2       ⎥\n",
       "⎢──  0   ────   0  ⎥\n",
       "⎢√2       2        ⎥\n",
       "⎢                  ⎥\n",
       "⎢    1         -√2 ⎥\n",
       "⎢0   ──   0    ────⎥\n",
       "⎣    √2         2  ⎦"
      ]
     },
     "execution_count": 10,
     "metadata": {},
     "output_type": "execute_result"
    }
   ],
   "source": [
    "represent(H(1),nqubits=2)"
   ]
  },
  {
   "cell_type": "markdown",
   "metadata": {
    "colab_type": "text",
    "id": "tZpN1W-gjDkN"
   },
   "source": [
    "CNOT operator is"
   ]
  },
  {
   "cell_type": "code",
   "execution_count": 11,
   "metadata": {
    "colab": {},
    "colab_type": "code",
    "id": "DqURihgDjDkN",
    "outputId": "d6305d23-fa04-44be-8166-6fad20ebab38"
   },
   "outputs": [
    {
     "data": {
      "text/html": [
       "\n",
       "    <script>\n",
       "        if (!window.MathJax && window.google && window.google.colab) {\n",
       "            window.MathJax = {\n",
       "                'tex2jax': {\n",
       "                    'inlineMath': [['$', '$'], ['\\(', '\\)']],\n",
       "                    'displayMath': [['$$', '$$'], ['\\[', '\\]']],\n",
       "                    'processEscapes': true,\n",
       "                    'processEnvironments': true,\n",
       "                    'skipTags': ['script', 'noscript', 'style', 'textarea', 'code'],\n",
       "                    'displayAlign': 'center',\n",
       "                },\n",
       "                'HTML-CSS': {\n",
       "                    'styles': {'.MathJax_Display': {'margin': 0}},\n",
       "                    'linebreaks': {'automatic': true},\n",
       "                    // Disable to prevent OTF font loading, which aren't part of our\n",
       "                    // distribution.\n",
       "                    'imageFont': null,\n",
       "                },\n",
       "               'messageStyle': 'none'\n",
       "            };\n",
       "            var script = document.createElement(\"script\");\n",
       "            script.src = \"https://colab.research.google.com/static/mathjax/MathJax.js?config=TeX-AMS_HTML-full,Safe\";\n",
       "            document.head.appendChild(script);\n",
       "        }\n",
       "    </script>\n",
       "    "
      ],
      "text/plain": [
       "<IPython.core.display.HTML object>"
      ]
     },
     "metadata": {},
     "output_type": "display_data"
    },
    {
     "data": {
      "image/png": "[encoded data removed]",
      "text/latex": [
       "$$\\left[\\begin{matrix}1 & 0 & 0 & 0\\\\0 & 1 & 0 & 0\\\\0 & 0 & 0 & 1\\\\0 & 0 & 1 & 0\\end{matrix}\\right]$$"
      ],
      "text/plain": [
       "⎡1  0  0  0⎤\n",
       "⎢          ⎥\n",
       "⎢0  1  0  0⎥\n",
       "⎢          ⎥\n",
       "⎢0  0  0  1⎥\n",
       "⎢          ⎥\n",
       "⎣0  0  1  0⎦"
      ]
     },
     "execution_count": 11,
     "metadata": {},
     "output_type": "execute_result"
    }
   ],
   "source": [
    "represent(CNOT(1,0),nqubits=2)"
   ]
  },
  {
   "cell_type": "markdown",
   "metadata": {
    "colab_type": "text",
    "id": "MW8u4BNvjDkT"
   },
   "source": [
    "The tensor product of the Pauli operators $X \\otimes Y \\otimes Z$ is"
   ]
  },
  {
   "cell_type": "code",
   "execution_count": 12,
   "metadata": {
    "colab": {},
    "colab_type": "code",
    "id": "omfY86udjDkU",
    "outputId": "317136da-ac9d-4d2c-f2ab-c3c7065b66f9"
   },
   "outputs": [
    {
     "data": {
      "text/html": [
       "\n",
       "    <script>\n",
       "        if (!window.MathJax && window.google && window.google.colab) {\n",
       "            window.MathJax = {\n",
       "                'tex2jax': {\n",
       "                    'inlineMath': [['$', '$'], ['\\(', '\\)']],\n",
       "                    'displayMath': [['$$', '$$'], ['\\[', '\\]']],\n",
       "                    'processEscapes': true,\n",
       "                    'processEnvironments': true,\n",
       "                    'skipTags': ['script', 'noscript', 'style', 'textarea', 'code'],\n",
       "                    'displayAlign': 'center',\n",
       "                },\n",
       "                'HTML-CSS': {\n",
       "                    'styles': {'.MathJax_Display': {'margin': 0}},\n",
       "                    'linebreaks': {'automatic': true},\n",
       "                    // Disable to prevent OTF font loading, which aren't part of our\n",
       "                    // distribution.\n",
       "                    'imageFont': null,\n",
       "                },\n",
       "               'messageStyle': 'none'\n",
       "            };\n",
       "            var script = document.createElement(\"script\");\n",
       "            script.src = \"https://colab.research.google.com/static/mathjax/MathJax.js?config=TeX-AMS_HTML-full,Safe\";\n",
       "            document.head.appendChild(script);\n",
       "        }\n",
       "    </script>\n",
       "    "
      ],
      "text/plain": [
       "<IPython.core.display.HTML object>"
      ]
     },
     "metadata": {},
     "output_type": "display_data"
    },
    {
     "data": {
      "image/png": "[encoded data removed]",
      "text/latex": [
       "$$\\left[\\begin{matrix}0 & 0 & 0 & 0 & 0 & 0 & - i & 0\\\\0 & 0 & 0 & 0 & 0 & 0 & 0 & i\\\\0 & 0 & 0 & 0 & i & 0 & 0 & 0\\\\0 & 0 & 0 & 0 & 0 & - i & 0 & 0\\\\0 & 0 & - i & 0 & 0 & 0 & 0 & 0\\\\0 & 0 & 0 & i & 0 & 0 & 0 & 0\\\\i & 0 & 0 & 0 & 0 & 0 & 0 & 0\\\\0 & - i & 0 & 0 & 0 & 0 & 0 & 0\\end{matrix}\\right]$$"
      ],
      "text/plain": [
       "⎡0  0   0   0  0  0   -ⅈ  0⎤\n",
       "⎢                          ⎥\n",
       "⎢0  0   0   0  0  0   0   ⅈ⎥\n",
       "⎢                          ⎥\n",
       "⎢0  0   0   0  ⅈ  0   0   0⎥\n",
       "⎢                          ⎥\n",
       "⎢0  0   0   0  0  -ⅈ  0   0⎥\n",
       "⎢                          ⎥\n",
       "⎢0  0   -ⅈ  0  0  0   0   0⎥\n",
       "⎢                          ⎥\n",
       "⎢0  0   0   ⅈ  0  0   0   0⎥\n",
       "⎢                          ⎥\n",
       "⎢ⅈ  0   0   0  0  0   0   0⎥\n",
       "⎢                          ⎥\n",
       "⎣0  -ⅈ  0   0  0  0   0   0⎦"
      ]
     },
     "execution_count": 12,
     "metadata": {},
     "output_type": "execute_result"
    }
   ],
   "source": [
    "represent(X(2)*Y(1)*Z(0),nqubits=3)"
   ]
  },
  {
   "cell_type": "markdown",
   "metadata": {
    "colab_type": "text",
    "id": "L4d9cIfbjDkV"
   },
   "source": [
    "In this way, the above tensor product rules can be tested."
   ]
  },
  {
   "cell_type": "markdown",
   "metadata": {},
   "source": [
    "### When only a part of multiple qubits are measured\n",
    "\n",
    "The probability of the measurement result when all of the multiple qubits are measured has already been explained. It is also possible to measure only a part of the multiple qubits. In that case, the probability of the measurement result is the square of the length of the vector projected by the (subsystem) basis corresponding to the measurement result, and the state after the measurement is the normalized version of the projected vector.\n",
    "\n",
    "Let's look at this in detail. Consider the following $n$-qubit states.\n",
    "\n",
    "        \n",
    "\\begin{align}\n",
    "|\\psi\\rangle &=\n",
    "c_{00...0} |00...0\\rangle +\n",
    "c_{00...1} |00...1\\rangle + \\cdots +\n",
    "c_{11...1} |11...1\\rangle\\\\\n",
    "&= \\sum_{i_1 \\dotsc i_n} c_{i_1 \\dotsc i_n} |i_1 \\dotsc i_n\\rangle =\n",
    "\\sum_{i_1 \\dotsc i_n} c_{i_1 \\dotsc i_n} |i_1\\rangle \\otimes \\cdots \\otimes |i_n\\rangle\n",
    "\\end{align}\n",
    "\n",
    "Suppose we measure the first qubit, the projection operator on the orthonormal basis $|0\\rangle$ and $|1\\rangle$ of the state space of the first qubit can be written as $|0\\rangle\\langle0|$ and $|1\\rangle\\langle1|$ respectively. Operator that projects the first qubit onto the $|0\\rangle$ and does nothing to the other qubits is \n",
    "\n",
    "$$\n",
    "|0\\rangle\\langle0| \\otimes I \\otimes \\cdots \\otimes I\n",
    "$$\n",
    "\n",
    "With this operator, the probability of obtaining the measurement value 0 is\n",
    "\n",
    "$$\n",
    "\\bigl\\Vert \\bigl(|0\\rangle\\langle0| \\otimes I \\otimes \\cdots \\otimes I\\bigr) |\\psi\\rangle \\bigr\\Vert^2 =\n",
    "\\langle \\psi | \\bigl(|0\\rangle\\langle0| \\otimes I \\otimes \\cdots \\otimes I\\bigr) | \\psi \\rangle\n",
    "$$\n",
    "\n",
    "Since\n",
    "\n",
    "$$\n",
    "\\bigl(|0\\rangle\\langle0| \\otimes I \\otimes \\cdots \\otimes I\\bigr) | \\psi \\rangle =\n",
    "\\sum_{i_2 \\dotsc i_n} c_{0 i_2 \\dotsc i_n} |0\\rangle \\otimes |i_2\\rangle \\otimes \\cdots \\otimes |i_n\\rangle\n",
    "$$\n",
    "\n",
    "the probability of obtaining 0 is\n",
    "\n",
    "$$\n",
    "p_0 = \\sum_{i_2 \\dotsc i_n} |c_{0 i_2 \\dotsc i_n}|^2\n",
    "$$\n",
    "\n",
    "and the post-measurement state is\n",
    "\n",
    "$$\n",
    "\\frac{1}{\\sqrt{p_0}}\\sum_{i_2 \\dotsc i_n} c_{0 i_2 \\dotsc i_n} |0\\rangle \\otimes |i_2\\rangle \\otimes \\cdots \\otimes |i_n\\rangle\n",
    "$$\n",
    "\n",
    "By interchanging 0 and 1, the probability of obtaining the measurement value 1 and the state after the measurement are obtained.\n",
    "\n",
    "Let us note that the expressions for $p_0$ and $p_1$ obtained here coincide with the peripheral probability distribution of $i_1$ calculated from the simultaneous probability distribution $p_{i_1, \\dotsc, i_n}$ of the measurement $i_1, \\dotsc, i_n$. In fact,\n",
    "\n",
    "\n",
    "$$\n",
    "\\sum_{i_2, \\dotsc, i_n} p_{i_1, \\dotsc, i_n} = \\sum_{i_2, \\dotsc, i_n} |c_{i_1, \\dotsc, i_n}|^2 = p_{i_1}\n",
    "$$\n",
    "\n",
    "The same calculation can be done for measuring more qubits, for example, the first $k$ qubits. The probability of obtaining the measurement result $i_1, \\dotsc, i_k$ is\n",
    "\n",
    "$$\n",
    "p_{i_1, \\dotsc, i_k} = \\sum_{i_{k+1}, \\dotsc, i_n} |c_{i_1, \\dotsc, i_n}|^2\n",
    "$$\n",
    "\n",
    "and the post-measurement state is\n",
    "\n",
    "$$\n",
    "\\frac{1}{\\sqrt{p_{i_1, \\dotsc, i_k}}}\\sum_{i_{k+1} \\dotsc i_n} c_{i_1 \\dotsc i_n} |i_1 \\rangle \\otimes \\cdots \\otimes |i_n\\rangle\n",
    "$$\n",
    "\n",
    "(Note that only $i_{k+1},\\cdots,i_n$ are summed up.)"
   ]
  },
  {
   "cell_type": "markdown",
   "metadata": {},
   "source": [
    "Let's look at another example using SymPy. Here, we consider the following state created by combining the H and CNOT operations.\n",
    "\n",
    "$$\n",
    "|\\psi\\rangle = \\Lambda(X) (H \\otimes H) |0\\rangle \\otimes |0\\rangle = \\frac{|00\\rangle + |10\\rangle + |01\\rangle + |11\\rangle}{2}\n",
    "$$"
   ]
  },
  {
   "cell_type": "code",
   "execution_count": 13,
   "metadata": {},
   "outputs": [
    {
     "data": {
      "text/html": [
       "\n",
       "    <script>\n",
       "        if (!window.MathJax && window.google && window.google.colab) {\n",
       "            window.MathJax = {\n",
       "                'tex2jax': {\n",
       "                    'inlineMath': [['$', '$'], ['\\(', '\\)']],\n",
       "                    'displayMath': [['$$', '$$'], ['\\[', '\\]']],\n",
       "                    'processEscapes': true,\n",
       "                    'processEnvironments': true,\n",
       "                    'skipTags': ['script', 'noscript', 'style', 'textarea', 'code'],\n",
       "                    'displayAlign': 'center',\n",
       "                },\n",
       "                'HTML-CSS': {\n",
       "                    'styles': {'.MathJax_Display': {'margin': 0}},\n",
       "                    'linebreaks': {'automatic': true},\n",
       "                    // Disable to prevent OTF font loading, which aren't part of our\n",
       "                    // distribution.\n",
       "                    'imageFont': null,\n",
       "                },\n",
       "               'messageStyle': 'none'\n",
       "            };\n",
       "            var script = document.createElement(\"script\");\n",
       "            script.src = \"https://colab.research.google.com/static/mathjax/MathJax.js?config=TeX-AMS_HTML-full,Safe\";\n",
       "            document.head.appendChild(script);\n",
       "        }\n",
       "    </script>\n",
       "    "
      ],
      "text/plain": [
       "<IPython.core.display.HTML object>"
      ]
     },
     "metadata": {},
     "output_type": "display_data"
    },
    {
     "data": {
      "image/png": "[encoded data removed]",
      "text/latex": [
       "$$\\frac{{\\left|00\\right\\rangle }}{2} + \\frac{{\\left|01\\right\\rangle }}{2} + \\frac{{\\left|10\\right\\rangle }}{2} + \\frac{{\\left|11\\right\\rangle }}{2}$$"
      ],
      "text/plain": [
       "❘00⟩   ❘01⟩   ❘10⟩   ❘11⟩\n",
       "──── + ──── + ──── + ────\n",
       " 2      2      2      2  "
      ]
     },
     "execution_count": 13,
     "metadata": {},
     "output_type": "execute_result"
    }
   ],
   "source": [
    "psi = qapply(CNOT(1, 0)*H(1)*H(0)*Qubit('00'))\n",
    "psi"
   ]
  },
  {
   "cell_type": "markdown",
   "metadata": {},
   "source": [
    "The probability of measuring the first qubit of this state and obtaining zero is\n",
    "\n",
    "$$\n",
    "p_0 = \\langle \\psi | \\bigl( |0\\rangle\\langle0| \\otimes I \\bigr) | \\psi \\rangle =\n",
    "\\left(\\frac{\\langle 00 | + \\langle 10 | + \\langle 01 | + \\langle 11 |}{2}\\right)\n",
    "\\left(\\frac{| 00 \\rangle + | 01 \\rangle}{2}\\right) =\n",
    "\\frac{1}{2}\n",
    "$$\n",
    "\n",
    "and the post-measurement state is\n",
    "\n",
    "$$\n",
    "\\frac{1}{\\sqrt{p_0}} \\bigl( |0\\rangle\\langle0| \\otimes I \\bigr) | \\psi \\rangle =\n",
    "\\frac{| 00 \\rangle + | 01 \\rangle}{\\sqrt{2}}\n",
    "$$"
   ]
  },
  {
   "cell_type": "markdown",
   "metadata": {},
   "source": [
    "Let's calculate this result with SymPy as well. SymPy has several functions for measurements, and we can use `measure_partial` to calculate the probability of measuring some qubits and the state after the measurement. If you pass the state to be measured and the index of the qubit to be measured as arguments, the pairs of the state after the measurement and the probability of the measurement are output as a list. For the post-measurement state and probability when the first qubit is 0, just refer to the `[0]` element."
   ]
  },
  {
   "cell_type": "code",
   "execution_count": 1,
   "metadata": {},
   "outputs": [],
   "source": [
    "from sympy.physics.quantum.qubit import measure_all, measure_partial\n",
    "measured_state_and_probability = measure_partial(psi, (1,))"
   ]
  },
  {
   "cell_type": "code",
   "execution_count": null,
   "metadata": {},
   "outputs": [],
   "source": [
    "measured_state_and_probability[0]"
   ]
  },
  {
   "cell_type": "markdown",
   "metadata": {},
   "source": [
    "It can be seen that the result is consistent with the result calculated manually above. If we do the same calculation for the case when the measurement result is 1, we have"
   ]
  },
  {
   "cell_type": "code",
   "execution_count": 15,
   "metadata": {},
   "outputs": [
    {
     "data": {
      "text/html": [
       "\n",
       "    <script>\n",
       "        if (!window.MathJax && window.google && window.google.colab) {\n",
       "            window.MathJax = {\n",
       "                'tex2jax': {\n",
       "                    'inlineMath': [['$', '$'], ['\\(', '\\)']],\n",
       "                    'displayMath': [['$$', '$$'], ['\\[', '\\]']],\n",
       "                    'processEscapes': true,\n",
       "                    'processEnvironments': true,\n",
       "                    'skipTags': ['script', 'noscript', 'style', 'textarea', 'code'],\n",
       "                    'displayAlign': 'center',\n",
       "                },\n",
       "                'HTML-CSS': {\n",
       "                    'styles': {'.MathJax_Display': {'margin': 0}},\n",
       "                    'linebreaks': {'automatic': true},\n",
       "                    // Disable to prevent OTF font loading, which aren't part of our\n",
       "                    // distribution.\n",
       "                    'imageFont': null,\n",
       "                },\n",
       "               'messageStyle': 'none'\n",
       "            };\n",
       "            var script = document.createElement(\"script\");\n",
       "            script.src = \"https://colab.research.google.com/static/mathjax/MathJax.js?config=TeX-AMS_HTML-full,Safe\";\n",
       "            document.head.appendChild(script);\n",
       "        }\n",
       "    </script>\n",
       "    "
      ],
      "text/plain": [
       "<IPython.core.display.HTML object>"
      ]
     },
     "metadata": {},
     "output_type": "display_data"
    },
    {
     "data": {
      "image/png": "[encoded data removed]",
      "text/latex": [
       "$$\\left ( \\frac{\\sqrt{2} {\\left|10\\right\\rangle }}{2} + \\frac{\\sqrt{2} {\\left|11\\right\\rangle }}{2}, \\quad \\frac{1}{2}\\right )$$"
      ],
      "text/plain": [
       "⎛√2⋅❘10⟩   √2⋅❘11⟩     ⎞\n",
       "⎜─────── + ───────, 1/2⎟\n",
       "⎝   2         2        ⎠"
      ]
     },
     "execution_count": 15,
     "metadata": {},
     "output_type": "execute_result"
    }
   ],
   "source": [
    "measured_state_and_probability[1]"
   ]
  },
  {
   "cell_type": "markdown",
   "metadata": {},
   "source": [
    "---\n",
    "## Column: What is a universal gate set?\n",
    "\n",
    "It is known that in a classical computer, arbitrary logic operations can be performed by combining several NAND gates (the inverted output of a logical product AND).  \n",
    "What, then, is the counterpart in quantum computation, i.e., what is the minimum quantum gate required to perform an arbitrary quantum computation?  \n",
    "In fact, the following ones we have learned in this section\n",
    "\n",
    "$$\\{H, T, {\\rm CNOT} \\}$$  \n",
    "\n",
    "is known to be the so-called **universal gate set** .  \n",
    "By combining them well, arbitrary quantum computation can be performed, i.e., \"**universal quantum computation**\" is possible.  \n",
    "\n",
    "### 【Note for those who want to know more details】\n",
    "\n",
    "In the following, we will explain step by step how the three types of gates $\\{H, T, {\\rm CNOT} \\}$ constitute a universal gate set.  \n",
    "We will start with the general $N$ qubit unitary operation and break it down into finer components, and see how we finally arrive at the above three types of gates.\n",
    "\n",
    "#### ◆ Decomposition of $n$-qubit unitary operations\n",
    "First, any $n$-qubit unitary operation can be decomposed into several **1-qubit unitary operations** and **CNOT gates** via the following steps.  \n",
    "\n",
    "1. Any $n$-qubit unitary operation can be decomposed into a product of several **2-level unitary operations**. Here, a 2-level unitary operation is a unitary operation that acts only on a 2-dimensional subspace of a $2^3=8$ dimensional space stretched over two bases (e.g., $\\{|000\\rangle, |111\\rangle \\}$) in the case of 3 qubits, as an example.\n",
    "2. any two-level unitary operation can be composed of a **control**$U$**gate** (the NOT part of the CNOT gate is replaced by an arbitrary one-qubit unitary operation $U$) and a **Toffoli gate** (a generalized version of CNOT gate with two control qubits)\n",
    "\n",
    "3. both the control $U$ gate and the Toffoli gate can be constructed from **one qubit unitary operation** and **CNOT gate**.\n",
    "\n",
    "#### ◆ Composition of 1-qubit unitary operations\n",
    "Furthermore, any 1-qubit unitary operation can be composed of $\\{H, T\\}$.\n",
    "\n",
    "1. Arbitrary 1-qubit unitary operation can be realized (strictly) by a rotation gate $\\{R_X(\\theta), R_Z(\\theta)\\}$ from Euler's rotation angle law\n",
    "2. In fact, any rotation on the Bloch sphere can be realized by using only $\\{H, T\\}$ (Note 1). This is due to the fact that rotation of an irrational multiple of $\\pi$ about an axis can be realized from only $\\{H, T\\}$ (**Solovay-Kitaev algorithm**).\n",
    " \n",
    "(Note 1) Some readers may wonder how a continuous rotation on the Bloch sphere can be realized by a discrete operation $\\{H, T\\}$. In fact, if one were to realize a strictly one-qubit unitary operation with discrete gate operations, an infinite number of gates would be required. In reality, however, it is not necessary to realize strict unitary operations, and it is sufficient to approximate arbitrary unitary operations with the required computational accuracy $\\epsilon$. Here, the **Solovay-Kitaev theorem** [3] guarantees that by using polynomial number of $\\{H, T\\}$, arbitrary one-qubit unitary operations can be **approximately constructed with good enough accuracy**.\n",
    "\n",
    "\n",
    "<br>\n",
    "  \n",
    "The above discussion shows that with three types of gates $\\{H, T, {\\rm CNOT} \\}$, arbitrary $n$-qubit unitary operations can be realized.\n",
    "\n",
    "For more details on universal gate sets and universal quantum computation, see:  \n",
    "[1] Nielsen-Chuang's `4.5 universal quantum gates`.   \n",
    "[2] Keisuke Fujii, \"Fundamentals of quantum computers and their interface with physics\" (Lecture at the 62nd Summer School for Young Physicists) DOI: 10.14989/229039 http://mercury.yukawa.kyoto-u.ac.jp/~bussei.kenkyu/archives/1274.html  \n",
    "[3] For review, C. M. Dawson and M. A. Nielsen, \"The Solovay-Kitaev algorithm\", https://arxiv.org/abs/quant-ph/0505030"
   ]
  },
  {
   "cell_type": "code",
   "execution_count": null,
   "metadata": {},
   "outputs": [],
   "source": []
  }
 ],
 "metadata": {
  "colab": {
   "name": "1_basics_of_quantum_information.ipynb",
   "provenance": [],
   "version": "0.3.2"
  },
  "kernelspec": {
   "display_name": "Python 3",
   "language": "python",
   "name": "python3"
  },
  "language_info": {
   "codemirror_mode": {
    "name": "ipython",
    "version": 3
   },
   "file_extension": ".py",
   "mimetype": "text/x-python",
   "name": "python",
   "nbconvert_exporter": "python",
   "pygments_lexer": "ipython3",
   "version": "3.8.3"
  },
  "varInspector": {
   "cols": {
    "lenName": 16,
    "lenType": 16,
    "lenVar": 40
   },
   "kernels_config": {
    "python": {
     "delete_cmd_postfix": "",
     "delete_cmd_prefix": "del ",
     "library": "var_list.py",
     "varRefreshCmd": "print(var_dic_list())"
    },
    "r": {
     "delete_cmd_postfix": ") ",
     "delete_cmd_prefix": "rm(",
     "library": "var_list.r",
     "varRefreshCmd": "cat(var_dic_list()) "
    }
   },
   "types_to_exclude": [
    "module",
    "function",
    "builtin_function_or_method",
    "instance",
    "_Feature"
   ],
   "window_display": false
  }
 },
 "nbformat": 4,
 "nbformat_minor": 2
}
