{
 "cells": [
  {
   "cell_type": "markdown",
   "metadata": {
    "colab_type": "text",
    "id": "A46fkXZnkD6Z"
   },
   "source": [
    "## 1-2. Basic operations on qubits"
   ]
  },
  {
   "cell_type": "markdown",
   "metadata": {
    "colab_type": "text",
    "id": "-kTiAS2zjDjS"
   },
   "source": [
    "Now that we have a better understanding of qubits, let us look at how operations on qubits are represented.\n",
    "This is closely related to the properties of quantum mechanics.\n",
    "\n",
    "1. Linearity   \n",
    "In quantum mechanics, the time variation of states (qubits) is always linear (with respect to the superposition of states). In other words, **the operations allowed on a quantum computer are linear transformations** of the state vector.\n",
    "Since the quantum state of a qubit is represented as a normalized two-dimensional complex vector,\n",
    "the (linear) operation on a qubit is represented by a $2 \\times 2$ **complex matrix**.\n",
    "\n",
    "2. Unitarity   \n",
    "Furthermore, from the normalization condition that the sum of the probabilities is always 1, we can derive further restrictions on the linear operations. Since the probability of obtaining each measurement result is given by the square of the absolute value of the complex probability amplitude, the sum of these square is equal to the inner product of the state vector with itself. Therefore, \n",
    "\n",
    "$$\n",
    "|\\alpha|^2 + |\\beta|^2 =\n",
    "(\\alpha^*, \\beta^*)\n",
    "\\left(\n",
    "\\begin{array}{c}\n",
    "\\alpha \n",
    "\\\\\n",
    "\\beta \n",
    "\\end{array}\n",
    "\\right) = 1.\n",
    "$$\n",
    " \n",
    " (Asterisk $^*$ denotes complex conjugation). \n",
    " Let $U$ be the linear transformation (matrix) corresponding to the quantum operation, the state after manipulation by the quantum computer is\n",
    " \n",
    "\n",
    "$$\n",
    "U\n",
    "\\left(\n",
    "\\begin{array}{c}\n",
    "\\alpha \n",
    "\\\\\n",
    "\\beta \n",
    "\\end{array}\n",
    "\\right)\n",
    "$$\n",
    "\n",
    "Since the normalization condition must hold for this state as well, the following is required\n",
    "(The dagger $^\\dagger$ represents the matrix transpose and complex conjugation both applied, called Hermitian conjugation)\n",
    "\n",
    "$$\n",
    "(\\alpha^*, \\beta^*)\n",
    "U^\\dagger U\n",
    "\\left(\n",
    "\\begin{array}{c}\n",
    "\\alpha \n",
    "\\\\\n",
    "\\beta \n",
    "\\end{array}\n",
    "\\right) = 1\n",
    "$$\n",
    "\n",
    "  Since this relation must hold for any $\\alpha$, $\\beta$, the quantum operation $U$ corresponds to a **unitary matrix** satisfying the following conditions:\n",
    " \n",
    "$$\n",
    "U^{\\dagger} U = U U^{\\dagger} = I.\n",
    "$$\n",
    "\n",
    "**That is, the operations on qubits are represented by unitary matrices**."
   ]
  },
  {
   "cell_type": "markdown",
   "metadata": {},
   "source": [
    "Let's get our terminology straight. In quantum mechanics, a linear transformation on a state vector is called an **operator**. When we simply refer to an operator, we mean any linear transformation that is not necessarily unitary. On the other hand, a linear transformation that satisfies the above-mentioned unitarity is called a **quantum operation** (quantum gate). Quantum operations can be thought of as (at least theoretically) **physically feasible** operators on quantum states."
   ]
  },
  {
   "cell_type": "markdown",
   "metadata": {
    "colab_type": "text",
    "id": "BCw0oDA2jDjW"
   },
   "source": [
    "### An example of one quantum bit operation: Pauli Operators\n",
    "\n",
    "**Pauli operators** are the basic quantum operations acting on a single qubit.\n",
    "These are the most important operators in learning about quantum computers. They are defined by: \n",
    "\n",
    "$$\n",
    "\\begin{eqnarray}\n",
    "I&=&\n",
    "\\left(\\begin{array}{cc}\n",
    "1 & 0\n",
    "\\\\\n",
    "0 & 1\n",
    "\\end{array}\n",
    "\\right),\\;\\;\\;\n",
    "X=\n",
    "\\left(\\begin{array}{cc}\n",
    "0 & 1\n",
    "\\\\\n",
    "1 & 0\n",
    "\\end{array}\n",
    "\\right),\\;\\;\\;\n",
    "Y &=&\n",
    "\\left(\\begin{array}{cc}\n",
    "0 & -i\n",
    "\\\\\n",
    "i & 0\n",
    "\\end{array}\n",
    "\\right),\\;\\;\\;\n",
    "Z=\n",
    "\\left(\\begin{array}{cc}\n",
    "1 & 0\n",
    "\\\\\n",
    "0 & -1\n",
    "\\end{array}\n",
    "\\right).\n",
    "\\end{eqnarray}\n",
    "$$\n",
    "\n",
    "Let me explain the image of each operator.\n",
    "\n",
    "First, $I$ is the identity operator, which in essence means \"do nothing\".\n",
    "\n",
    "The $X$ corresponds to the classical bit inversion (NOT), and operates in the following way.\n",
    "(* Bra-ket notation was used. See also column below.)\n",
    "\n",
    "\n",
    "$$X|0\\rangle = |1\\rangle, \\;\\;\n",
    "X|1\\rangle = |0\\rangle\n",
    "$$\n",
    "This is a bit flip.\n",
    "\n",
    "The $Z$ operator reverses the phase of the $|0\\rangle$ and $|1\\rangle$\n",
    "\n",
    "$$\n",
    "Z|0\\rangle = |0\\rangle, \\;\\;\n",
    "Z|1\\rangle = -|1\\rangle\n",
    "$$\n",
    "\n",
    "This is an operation unique to quantum computers that can preserve the  \"phase\" information of the superposition of $|0\\rangle$ and $|1\\rangle$.\n",
    "\n",
    "$$\n",
    "Z \\frac{1}{\\sqrt{2}} ( |0\\rangle + |1\\rangle ) = \\frac{1}{\\sqrt{2}} ( |0\\rangle - |1\\rangle ) \n",
    "$$\n",
    "\n",
    "The $Y$ operator can be written as $Y=iXZ$ and\n",
    "It can be thought of as a combination of phase flip and bit flip (wih the added complex number $i$ ).\n",
    "\n",
    "(See Nielsen-Chuang's `1.3.1 Single qubit gates` for details)."
   ]
  },
  {
   "cell_type": "markdown",
   "metadata": {
    "colab_type": "text",
    "id": "xDZ-Dd29jDjY"
   },
   "source": [
    "### One quantum bit operation with SymPy\n",
    "\n",
    "In SymPy, frequently used basic operations are predefined."
   ]
  },
  {
   "cell_type": "code",
   "execution_count": 1,
   "metadata": {
    "colab": {},
    "colab_type": "code",
    "id": "U-NFd2sGjDi-"
   },
   "outputs": [],
   "source": [
    "from IPython.display import Image, display_png\n",
    "from sympy import *\n",
    "from sympy.physics.quantum import *\n",
    "from sympy.physics.quantum.qubit import Qubit,QubitBra\n",
    "init_printing() # to display vectors and matrices nicely"
   ]
  },
  {
   "cell_type": "code",
   "execution_count": 2,
   "metadata": {
    "nbsphinx": "hidden"
   },
   "outputs": [],
   "source": [
    "# Please run only on Google Colaboratory\n",
    "from IPython.display import HTML\n",
    "def setup_mathjax():\n",
    "    display(HTML('''\n",
    "    <script>\n",
    "        if (!window.MathJax && window.google && window.google.colab) {\n",
    "            window.MathJax = {\n",
    "                'tex2jax': {\n",
    "                    'inlineMath': [['$', '$'], ['\\\\(', '\\\\)']],\n",
    "                    'displayMath': [['$$', '$$'], ['\\\\[', '\\\\]']],\n",
    "                    'processEscapes': true,\n",
    "                    'processEnvironments': true,\n",
    "                    'skipTags': ['script', 'noscript', 'style', 'textarea', 'code'],\n",
    "                    'displayAlign': 'center',\n",
    "                },\n",
    "                'HTML-CSS': {\n",
    "                    'styles': {'.MathJax_Display': {'margin': 0}},\n",
    "                    'linebreaks': {'automatic': true},\n",
    "                    // Disable to prevent OTF font loading, which aren't part of our\n",
    "                    // distribution.\n",
    "                    'imageFont': null,\n",
    "                },\n",
    "               'messageStyle': 'none'\n",
    "            };\n",
    "            var script = document.createElement(\"script\");\n",
    "            script.src = \"https://colab.research.google.com/static/mathjax/MathJax.js?config=TeX-AMS_HTML-full,Safe\";\n",
    "            document.head.appendChild(script);\n",
    "        }\n",
    "    </script>\n",
    "    '''))\n",
    "get_ipython().events.register('pre_run_cell', setup_mathjax)"
   ]
  },
  {
   "cell_type": "code",
   "execution_count": 3,
   "metadata": {
    "colab": {},
    "colab_type": "code",
    "id": "429oA41QjDjY"
   },
   "outputs": [
    {
     "data": {
      "text/html": [
       "\n",
       "    <script>\n",
       "        if (!window.MathJax && window.google && window.google.colab) {\n",
       "            window.MathJax = {\n",
       "                'tex2jax': {\n",
       "                    'inlineMath': [['$', '$'], ['\\(', '\\)']],\n",
       "                    'displayMath': [['$$', '$$'], ['\\[', '\\]']],\n",
       "                    'processEscapes': true,\n",
       "                    'processEnvironments': true,\n",
       "                    'skipTags': ['script', 'noscript', 'style', 'textarea', 'code'],\n",
       "                    'displayAlign': 'center',\n",
       "                },\n",
       "                'HTML-CSS': {\n",
       "                    'styles': {'.MathJax_Display': {'margin': 0}},\n",
       "                    'linebreaks': {'automatic': true},\n",
       "                    // Disable to prevent OTF font loading, which aren't part of our\n",
       "                    // distribution.\n",
       "                    'imageFont': null,\n",
       "                },\n",
       "               'messageStyle': 'none'\n",
       "            };\n",
       "            var script = document.createElement(\"script\");\n",
       "            script.src = \"https://colab.research.google.com/static/mathjax/MathJax.js?config=TeX-AMS_HTML-full,Safe\";\n",
       "            document.head.appendChild(script);\n",
       "        }\n",
       "    </script>\n",
       "    "
      ],
      "text/plain": [
       "<IPython.core.display.HTML object>"
      ]
     },
     "metadata": {},
     "output_type": "display_data"
    }
   ],
   "source": [
    "from sympy.physics.quantum.gate import X,Y,Z,H,S,T,CNOT,SWAP, CPHASE"
   ]
  },
  {
   "cell_type": "markdown",
   "metadata": {
    "colab_type": "text",
    "id": "iTzqkUUHjDjb"
   },
   "source": [
    "When defining an operator, it is necessary to specify the index of the target qubit like `X(0)`.\n",
    "Also, when displaying it as a matrix, you need to specify `nqubits` which is the number of qubits in the quantum circuit .\n",
    "Here, since there is only one qubit, the index of the qubit is 0. we can use `X(0)` and `nqubits=1`."
   ]
  },
  {
   "cell_type": "code",
   "execution_count": 4,
   "metadata": {
    "colab": {},
    "colab_type": "code",
    "id": "Z17Vx3EZjDjc",
    "outputId": "4a0298a1-c6c0-417c-9f08-c2dc8f21da79"
   },
   "outputs": [
    {
     "data": {
      "text/html": [
       "\n",
       "    <script>\n",
       "        if (!window.MathJax && window.google && window.google.colab) {\n",
       "            window.MathJax = {\n",
       "                'tex2jax': {\n",
       "                    'inlineMath': [['$', '$'], ['\\(', '\\)']],\n",
       "                    'displayMath': [['$$', '$$'], ['\\[', '\\]']],\n",
       "                    'processEscapes': true,\n",
       "                    'processEnvironments': true,\n",
       "                    'skipTags': ['script', 'noscript', 'style', 'textarea', 'code'],\n",
       "                    'displayAlign': 'center',\n",
       "                },\n",
       "                'HTML-CSS': {\n",
       "                    'styles': {'.MathJax_Display': {'margin': 0}},\n",
       "                    'linebreaks': {'automatic': true},\n",
       "                    // Disable to prevent OTF font loading, which aren't part of our\n",
       "                    // distribution.\n",
       "                    'imageFont': null,\n",
       "                },\n",
       "               'messageStyle': 'none'\n",
       "            };\n",
       "            var script = document.createElement(\"script\");\n",
       "            script.src = \"https://colab.research.google.com/static/mathjax/MathJax.js?config=TeX-AMS_HTML-full,Safe\";\n",
       "            document.head.appendChild(script);\n",
       "        }\n",
       "    </script>\n",
       "    "
      ],
      "text/plain": [
       "<IPython.core.display.HTML object>"
      ]
     },
     "metadata": {},
     "output_type": "display_data"
    },
    {
     "data": {
      "image/png": "[encoded data removed]",
      "text/latex": [
       "$$X_{0}$$"
      ],
      "text/plain": [
       "X \n",
       " 0"
      ]
     },
     "execution_count": 4,
     "metadata": {},
     "output_type": "execute_result"
    }
   ],
   "source": [
    "X(0)"
   ]
  },
  {
   "cell_type": "code",
   "execution_count": 5,
   "metadata": {
    "colab": {},
    "colab_type": "code",
    "id": "M5-QaSjVjDjh",
    "outputId": "62f03195-21d1-42d6-f8e1-e0be2935736f"
   },
   "outputs": [
    {
     "data": {
      "text/html": [
       "\n",
       "    <script>\n",
       "        if (!window.MathJax && window.google && window.google.colab) {\n",
       "            window.MathJax = {\n",
       "                'tex2jax': {\n",
       "                    'inlineMath': [['$', '$'], ['\\(', '\\)']],\n",
       "                    'displayMath': [['$$', '$$'], ['\\[', '\\]']],\n",
       "                    'processEscapes': true,\n",
       "                    'processEnvironments': true,\n",
       "                    'skipTags': ['script', 'noscript', 'style', 'textarea', 'code'],\n",
       "                    'displayAlign': 'center',\n",
       "                },\n",
       "                'HTML-CSS': {\n",
       "                    'styles': {'.MathJax_Display': {'margin': 0}},\n",
       "                    'linebreaks': {'automatic': true},\n",
       "                    // Disable to prevent OTF font loading, which aren't part of our\n",
       "                    // distribution.\n",
       "                    'imageFont': null,\n",
       "                },\n",
       "               'messageStyle': 'none'\n",
       "            };\n",
       "            var script = document.createElement(\"script\");\n",
       "            script.src = \"https://colab.research.google.com/static/mathjax/MathJax.js?config=TeX-AMS_HTML-full,Safe\";\n",
       "            document.head.appendChild(script);\n",
       "        }\n",
       "    </script>\n",
       "    "
      ],
      "text/plain": [
       "<IPython.core.display.HTML object>"
      ]
     },
     "metadata": {},
     "output_type": "display_data"
    },
    {
     "data": {
      "image/png": "[encoded data removed]",
      "text/latex": [
       "$$\\left[\\begin{matrix}0 & 1\\\\1 & 0\\end{matrix}\\right]$$"
      ],
      "text/plain": [
       "⎡0  1⎤\n",
       "⎢    ⎥\n",
       "⎣1  0⎦"
      ]
     },
     "execution_count": 5,
     "metadata": {},
     "output_type": "execute_result"
    }
   ],
   "source": [
    "represent(X(0),nqubits=1)  #Pauli X"
   ]
  },
  {
   "cell_type": "markdown",
   "metadata": {
    "colab_type": "text",
    "id": "wYqb2xMTjDjl"
   },
   "source": [
    "Similarly, `Y`, `Z`, etc. can be used. In addition, the Hadamard operation `H`, the topological operation `S`, and the topological operation `T` of $\\pi/4$ can also be used (these are also common operations, check the definition of these matrices for definitions)."
   ]
  },
  {
   "cell_type": "code",
   "execution_count": 6,
   "metadata": {
    "colab": {},
    "colab_type": "code",
    "id": "GoetLCZMjDjm",
    "outputId": "0d419848-4d69-4649-c348-0e0c8edf8f71"
   },
   "outputs": [
    {
     "data": {
      "text/html": [
       "\n",
       "    <script>\n",
       "        if (!window.MathJax && window.google && window.google.colab) {\n",
       "            window.MathJax = {\n",
       "                'tex2jax': {\n",
       "                    'inlineMath': [['$', '$'], ['\\(', '\\)']],\n",
       "                    'displayMath': [['$$', '$$'], ['\\[', '\\]']],\n",
       "                    'processEscapes': true,\n",
       "                    'processEnvironments': true,\n",
       "                    'skipTags': ['script', 'noscript', 'style', 'textarea', 'code'],\n",
       "                    'displayAlign': 'center',\n",
       "                },\n",
       "                'HTML-CSS': {\n",
       "                    'styles': {'.MathJax_Display': {'margin': 0}},\n",
       "                    'linebreaks': {'automatic': true},\n",
       "                    // Disable to prevent OTF font loading, which aren't part of our\n",
       "                    // distribution.\n",
       "                    'imageFont': null,\n",
       "                },\n",
       "               'messageStyle': 'none'\n",
       "            };\n",
       "            var script = document.createElement(\"script\");\n",
       "            script.src = \"https://colab.research.google.com/static/mathjax/MathJax.js?config=TeX-AMS_HTML-full,Safe\";\n",
       "            document.head.appendChild(script);\n",
       "        }\n",
       "    </script>\n",
       "    "
      ],
      "text/plain": [
       "<IPython.core.display.HTML object>"
      ]
     },
     "metadata": {},
     "output_type": "display_data"
    },
    {
     "data": {
      "image/png": "[encoded data removed]",
      "text/latex": [
       "$$\\left[\\begin{matrix}\\frac{1}{\\sqrt{2}} & \\frac{1}{\\sqrt{2}}\\\\\\frac{1}{\\sqrt{2}} & - \\frac{\\sqrt{2}}{2}\\end{matrix}\\right]$$"
      ],
      "text/plain": [
       "⎡1    1  ⎤\n",
       "⎢──   ── ⎥\n",
       "⎢√2   √2 ⎥\n",
       "⎢        ⎥\n",
       "⎢1   -√2 ⎥\n",
       "⎢──  ────⎥\n",
       "⎣√2   2  ⎦"
      ]
     },
     "execution_count": 6,
     "metadata": {},
     "output_type": "execute_result"
    }
   ],
   "source": [
    "represent(H(0),nqubits=1)"
   ]
  },
  {
   "cell_type": "code",
   "execution_count": 7,
   "metadata": {
    "colab": {},
    "colab_type": "code",
    "id": "KHlhSKyAjDjp",
    "outputId": "718387c4-d682-435e-c0f6-e00a2d512f40"
   },
   "outputs": [
    {
     "data": {
      "text/html": [
       "\n",
       "    <script>\n",
       "        if (!window.MathJax && window.google && window.google.colab) {\n",
       "            window.MathJax = {\n",
       "                'tex2jax': {\n",
       "                    'inlineMath': [['$', '$'], ['\\(', '\\)']],\n",
       "                    'displayMath': [['$$', '$$'], ['\\[', '\\]']],\n",
       "                    'processEscapes': true,\n",
       "                    'processEnvironments': true,\n",
       "                    'skipTags': ['script', 'noscript', 'style', 'textarea', 'code'],\n",
       "                    'displayAlign': 'center',\n",
       "                },\n",
       "                'HTML-CSS': {\n",
       "                    'styles': {'.MathJax_Display': {'margin': 0}},\n",
       "                    'linebreaks': {'automatic': true},\n",
       "                    // Disable to prevent OTF font loading, which aren't part of our\n",
       "                    // distribution.\n",
       "                    'imageFont': null,\n",
       "                },\n",
       "               'messageStyle': 'none'\n",
       "            };\n",
       "            var script = document.createElement(\"script\");\n",
       "            script.src = \"https://colab.research.google.com/static/mathjax/MathJax.js?config=TeX-AMS_HTML-full,Safe\";\n",
       "            document.head.appendChild(script);\n",
       "        }\n",
       "    </script>\n",
       "    "
      ],
      "text/plain": [
       "<IPython.core.display.HTML object>"
      ]
     },
     "metadata": {},
     "output_type": "display_data"
    },
    {
     "data": {
      "image/png": "[encoded data removed]",
      "text/latex": [
       "$$\\left[\\begin{matrix}1 & 0\\\\0 & i\\end{matrix}\\right]$$"
      ],
      "text/plain": [
       "⎡1  0⎤\n",
       "⎢    ⎥\n",
       "⎣0  ⅈ⎦"
      ]
     },
     "execution_count": 7,
     "metadata": {},
     "output_type": "execute_result"
    }
   ],
   "source": [
    "represent(S(0),nqubits=1)"
   ]
  },
  {
   "cell_type": "code",
   "execution_count": 8,
   "metadata": {
    "colab": {},
    "colab_type": "code",
    "id": "JY4XPi5-jDjt",
    "outputId": "17949ae7-7d91-4070-a5dc-a6438a933f1e"
   },
   "outputs": [
    {
     "data": {
      "text/html": [
       "\n",
       "    <script>\n",
       "        if (!window.MathJax && window.google && window.google.colab) {\n",
       "            window.MathJax = {\n",
       "                'tex2jax': {\n",
       "                    'inlineMath': [['$', '$'], ['\\(', '\\)']],\n",
       "                    'displayMath': [['$$', '$$'], ['\\[', '\\]']],\n",
       "                    'processEscapes': true,\n",
       "                    'processEnvironments': true,\n",
       "                    'skipTags': ['script', 'noscript', 'style', 'textarea', 'code'],\n",
       "                    'displayAlign': 'center',\n",
       "                },\n",
       "                'HTML-CSS': {\n",
       "                    'styles': {'.MathJax_Display': {'margin': 0}},\n",
       "                    'linebreaks': {'automatic': true},\n",
       "                    // Disable to prevent OTF font loading, which aren't part of our\n",
       "                    // distribution.\n",
       "                    'imageFont': null,\n",
       "                },\n",
       "               'messageStyle': 'none'\n",
       "            };\n",
       "            var script = document.createElement(\"script\");\n",
       "            script.src = \"https://colab.research.google.com/static/mathjax/MathJax.js?config=TeX-AMS_HTML-full,Safe\";\n",
       "            document.head.appendChild(script);\n",
       "        }\n",
       "    </script>\n",
       "    "
      ],
      "text/plain": [
       "<IPython.core.display.HTML object>"
      ]
     },
     "metadata": {},
     "output_type": "display_data"
    },
    {
     "data": {
      "image/png": "[encoded data removed]",
      "text/latex": [
       "$$\\left[\\begin{matrix}1 & 0\\\\0 & e^{\\frac{i \\pi}{4}}\\end{matrix}\\right]$$"
      ],
      "text/plain": [
       "⎡1   0  ⎤\n",
       "⎢       ⎥\n",
       "⎢    ⅈ⋅π⎥\n",
       "⎢    ───⎥\n",
       "⎢     4 ⎥\n",
       "⎣0  ℯ   ⎦"
      ]
     },
     "execution_count": 8,
     "metadata": {},
     "output_type": "execute_result"
    }
   ],
   "source": [
    "represent(T(0),nqubits=1)"
   ]
  },
  {
   "cell_type": "markdown",
   "metadata": {
    "colab_type": "text",
    "id": "WHJnjJlUjDjw"
   },
   "source": [
    "To apply these operations to quantum state, you can use `*`."
   ]
  },
  {
   "cell_type": "code",
   "execution_count": 4,
   "metadata": {
    "colab": {},
    "colab_type": "code",
    "id": "PDa71nXCjDjw",
    "outputId": "c10c626d-5fd4-453a-fc96-d3d77bcbdfa6"
   },
   "outputs": [
    {
     "data": {
      "text/html": [
       "\n",
       "    <script>\n",
       "        if (!window.MathJax && window.google && window.google.colab) {\n",
       "            window.MathJax = {\n",
       "                'tex2jax': {\n",
       "                    'inlineMath': [['$', '$'], ['\\(', '\\)']],\n",
       "                    'displayMath': [['$$', '$$'], ['\\[', '\\]']],\n",
       "                    'processEscapes': true,\n",
       "                    'processEnvironments': true,\n",
       "                    'skipTags': ['script', 'noscript', 'style', 'textarea', 'code'],\n",
       "                    'displayAlign': 'center',\n",
       "                },\n",
       "                'HTML-CSS': {\n",
       "                    'styles': {'.MathJax_Display': {'margin': 0}},\n",
       "                    'linebreaks': {'automatic': true},\n",
       "                    // Disable to prevent OTF font loading, which aren't part of our\n",
       "                    // distribution.\n",
       "                    'imageFont': null,\n",
       "                },\n",
       "               'messageStyle': 'none'\n",
       "            };\n",
       "            var script = document.createElement(\"script\");\n",
       "            script.src = \"https://colab.research.google.com/static/mathjax/MathJax.js?config=TeX-AMS_HTML-full,Safe\";\n",
       "            document.head.appendChild(script);\n",
       "        }\n",
       "    </script>\n",
       "    "
      ],
      "text/plain": [
       "<IPython.core.display.HTML object>"
      ]
     },
     "metadata": {},
     "output_type": "display_data"
    },
    {
     "data": {
      "image/png": "[encoded data removed]",
      "text/latex": [
       "$\\displaystyle S_{0} Y_{0} X_{0} H_{0} {\\left|0\\right\\rangle }$"
      ],
      "text/plain": [
       "S ⋅Y ⋅X ⋅H ⋅❘0⟩\n",
       " 0  0  0  0    "
      ]
     },
     "execution_count": 4,
     "metadata": {},
     "output_type": "execute_result"
    }
   ],
   "source": [
    "ket0 = Qubit('0')\n",
    "S(0)*Y(0)*X(0)*H(0)*ket0"
   ]
  },
  {
   "cell_type": "markdown",
   "metadata": {
    "colab_type": "text",
    "id": "fC08tDbvjDjy"
   },
   "source": [
    "Use `qapply()` for actual calculation."
   ]
  },
  {
   "cell_type": "code",
   "execution_count": 16,
   "metadata": {
    "colab": {},
    "colab_type": "code",
    "id": "lJvga4X4jDj5",
    "outputId": "372213bc-d074-44c8-b1ea-0c635a8c5acb"
   },
   "outputs": [
    {
     "data": {
      "text/html": [
       "\n",
       "    <script>\n",
       "        if (!window.MathJax && window.google && window.google.colab) {\n",
       "            window.MathJax = {\n",
       "                'tex2jax': {\n",
       "                    'inlineMath': [['$', '$'], ['\\(', '\\)']],\n",
       "                    'displayMath': [['$$', '$$'], ['\\[', '\\]']],\n",
       "                    'processEscapes': true,\n",
       "                    'processEnvironments': true,\n",
       "                    'skipTags': ['script', 'noscript', 'style', 'textarea', 'code'],\n",
       "                    'displayAlign': 'center',\n",
       "                },\n",
       "                'HTML-CSS': {\n",
       "                    'styles': {'.MathJax_Display': {'margin': 0}},\n",
       "                    'linebreaks': {'automatic': true},\n",
       "                    // Disable to prevent OTF font loading, which aren't part of our\n",
       "                    // distribution.\n",
       "                    'imageFont': null,\n",
       "                },\n",
       "               'messageStyle': 'none'\n",
       "            };\n",
       "            var script = document.createElement(\"script\");\n",
       "            script.src = \"https://colab.research.google.com/static/mathjax/MathJax.js?config=TeX-AMS_HTML-full,Safe\";\n",
       "            document.head.appendChild(script);\n",
       "        }\n",
       "    </script>\n",
       "    "
      ],
      "text/plain": [
       "<IPython.core.display.HTML object>"
      ]
     },
     "metadata": {},
     "output_type": "display_data"
    },
    {
     "data": {
      "image/png": "[encoded data removed]",
      "text/latex": [
       "$$- \\frac{\\sqrt{2} i {\\left|0\\right\\rangle }}{2} - \\frac{\\sqrt{2} {\\left|1\\right\\rangle }}{2}$$"
      ],
      "text/plain": [
       "  √2⋅ⅈ⋅❘0⟩   √2⋅❘1⟩\n",
       "- ──────── - ──────\n",
       "     2         2   "
      ]
     },
     "execution_count": 16,
     "metadata": {},
     "output_type": "execute_result"
    }
   ],
   "source": [
    "qapply(S(0)*Y(0)*X(0)*H(0)*ket0)"
   ]
  },
  {
   "cell_type": "markdown",
   "metadata": {
    "colab_type": "text",
    "id": "kl_ZWf5sjDj6"
   },
   "source": [
    "To show column vector representation, you can use `represent`."
   ]
  },
  {
   "cell_type": "code",
   "execution_count": 17,
   "metadata": {
    "colab": {},
    "colab_type": "code",
    "id": "FrP7AO4XjDj6",
    "outputId": "8b5b8ca1-0082-4dca-a017-6b01caac9efb"
   },
   "outputs": [
    {
     "data": {
      "text/html": [
       "\n",
       "    <script>\n",
       "        if (!window.MathJax && window.google && window.google.colab) {\n",
       "            window.MathJax = {\n",
       "                'tex2jax': {\n",
       "                    'inlineMath': [['$', '$'], ['\\(', '\\)']],\n",
       "                    'displayMath': [['$$', '$$'], ['\\[', '\\]']],\n",
       "                    'processEscapes': true,\n",
       "                    'processEnvironments': true,\n",
       "                    'skipTags': ['script', 'noscript', 'style', 'textarea', 'code'],\n",
       "                    'displayAlign': 'center',\n",
       "                },\n",
       "                'HTML-CSS': {\n",
       "                    'styles': {'.MathJax_Display': {'margin': 0}},\n",
       "                    'linebreaks': {'automatic': true},\n",
       "                    // Disable to prevent OTF font loading, which aren't part of our\n",
       "                    // distribution.\n",
       "                    'imageFont': null,\n",
       "                },\n",
       "               'messageStyle': 'none'\n",
       "            };\n",
       "            var script = document.createElement(\"script\");\n",
       "            script.src = \"https://colab.research.google.com/static/mathjax/MathJax.js?config=TeX-AMS_HTML-full,Safe\";\n",
       "            document.head.appendChild(script);\n",
       "        }\n",
       "    </script>\n",
       "    "
      ],
      "text/plain": [
       "<IPython.core.display.HTML object>"
      ]
     },
     "metadata": {},
     "output_type": "display_data"
    },
    {
     "data": {
      "image/png": "[encoded data removed]",
      "text/latex": [
       "$$\\left[\\begin{matrix}- \\frac{\\sqrt{2} i}{2}\\\\- \\frac{\\sqrt{2}}{2}\\end{matrix}\\right]$$"
      ],
      "text/plain": [
       "⎡-√2⋅ⅈ ⎤\n",
       "⎢──────⎥\n",
       "⎢  2   ⎥\n",
       "⎢      ⎥\n",
       "⎢ -√2  ⎥\n",
       "⎢ ──── ⎥\n",
       "⎣  2   ⎦"
      ]
     },
     "execution_count": 17,
     "metadata": {},
     "output_type": "execute_result"
    }
   ],
   "source": [
    "represent(qapply(S(0)*Y(0)*X(0)*H(0)*ket0))"
   ]
  },
  {
   "cell_type": "markdown",
   "metadata": {
    "colab_type": "text",
    "id": "Q0WS2GgrjDj8"
   },
   "source": [
    "SymPy does all the simple matrix calculations automatically."
   ]
  },
  {
   "cell_type": "markdown",
   "metadata": {
    "colab_type": "text",
    "id": "00CSXe8hjDj9"
   },
   "source": [
    "---\n",
    "### Column：Bra-ket notation\n",
    "\n",
    "At this point, let's take a moment to organize what is called Bra-ket notation, which is often used in quantum mechanics. Once you get used to the bra-ket notation, you can perform calculations very easily and prospectively.\n",
    "\n",
    "Column vectors are expressed like this\n",
    "\n",
    "$$\n",
    "|\\psi \\rangle = \\left( \n",
    "\\begin{array}{c}\n",
    "\\alpha\n",
    "\\\\\n",
    "\\beta \n",
    "\\end{array}\n",
    "\\right)\n",
    "$$\n",
    "\n",
    "We call this **\"ket\"** . Similarly, row vectors are expressed like this.\n",
    "\n",
    "$$\n",
    "\\langle \\psi | = ( |\\psi \\rangle ) ^{\\dagger} = ( \\alpha ^* , \\beta ^*)\n",
    "$$\n",
    "\n",
    "\n",
    "We call this **\"bra\"** . ${\\dagger}$ mark is a transposition and complex conjugation operation that transposes a column vector into a row vector.\n",
    "\n",
    "\n",
    "$$\n",
    "|\\psi \\rangle = \\left( \n",
    "\\begin{array}{c}\n",
    "\\alpha\n",
    "\\\\\n",
    "\\beta \n",
    "\\end{array}\n",
    "\\right), \\;\\;\\;\n",
    "|\\phi \\rangle = \\left( \n",
    "\\begin{array}{c}\n",
    "\\gamma\n",
    "\\\\\n",
    "\\delta\n",
    "\\end{array}\n",
    "\\right)\n",
    "$$\n",
    "\n",
    "Multiplying a bra a and ket corresponds to **inner product** .\n",
    "\n",
    "$$\n",
    "\\langle \\phi | \\psi \\rangle = (\\gamma ^* , \\delta ^* ) \\left( \n",
    "\\begin{array}{c}\n",
    "\\alpha\n",
    "\\\\\n",
    "\\beta \n",
    "\\end{array}\n",
    "\\right) = \\gamma ^* \\alpha + \\delta ^* \\beta \n",
    "$$\n",
    "\n",
    "\n",
    "The reason why row and column vectors are called bra kets, respectively, is that when they are lined up like this , they become a \"bra ket\".\n",
    "\n",
    "Conversely, if you put them in reverse order\n",
    "\n",
    "$$\n",
    "|\\phi \\rangle \\langle \\psi | = \\left( \n",
    "\\begin{array}{c}\n",
    "\\gamma\n",
    "\\\\\n",
    "\\delta\n",
    "\\end{array}\n",
    "\\right) (\\alpha ^* , \\beta ^*) = \\left( \n",
    "\\begin{array}{cc}\n",
    "\\gamma \\alpha ^*  & \\gamma \\beta ^* \n",
    "\\\\\n",
    "\\delta \\alpha ^*   & \\delta \\beta ^*\n",
    "\\end{array}\n",
    "\\right)\n",
    "$$\n",
    "\n",
    "we get an operator. For example, $X$ operator can be expressed like this.\n",
    "\n",
    "\n",
    "$$\n",
    "X= \\left( \n",
    "\\begin{array}{cc}\n",
    "0 & 1 \n",
    "\\\\\n",
    "1 & 0 \n",
    "\\end{array}\n",
    "\\right)\n",
    "=\n",
    "|0\\rangle \\langle 1 | + |1\\rangle \\langle 0|\n",
    "$$\n",
    "\n",
    "If you memorize this, \n",
    "\n",
    "$$\n",
    "\\langle 0| 0\\rangle = \\langle 1 | 1\\rangle = 1, \\;\\;\\; \\langle 0 | 1 \\rangle = \\langle 1 | 0 \\rangle = 0\n",
    "$$\n",
    "\n",
    "By using these, you can calculate $X |0\\rangle$ with only bra and ket ,without matrices\n",
    "\n",
    "\n",
    "\\begin{align}\n",
    "&X |0\\rangle \\\\\n",
    "&= \\color{red}{(|0\\rangle \\langle 1 | + |1\\rangle \\langle 0|) |0\\rangle} \\\\\n",
    "&= \\color{red}{|0\\rangle \\langle 1 |0\\rangle + |1\\rangle \\langle 0|0\\rangle} \\\\\n",
    "&= \\color{red}{|0\\rangle ・ 0 + |1\\rangle ・1} \\\\\n",
    "&= |1\\rangle\n",
    "\\end{align}\n",
    "\n",
    "\n",
    "**In analytical calculations of quantum information, the elements of a vector are rarely actually written down, but are often written down using bra-ket and then calculated** (when simulating a quantum computer on a classical computer, the entire vector is written down).\n",
    "\n",
    "Similary, this result is worth memorizing\n",
    "\n",
    "$$\n",
    "I = |0\\rangle \\langle 0 | + |1\\rangle \\langle 1| , \\;\\;\\; Z = |0\\rangle \\langle 0| - |1\\rangle \\langle 1| \n",
    "$$\n"
   ]
  },
  {
   "cell_type": "code",
   "execution_count": null,
   "metadata": {},
   "outputs": [],
   "source": []
  }
 ],
 "metadata": {
  "colab": {
   "name": "1_basics_of_quantum_information.ipynb",
   "provenance": [],
   "version": "0.3.2"
  },
  "kernelspec": {
   "display_name": "Python 3",
   "language": "python",
   "name": "python3"
  },
  "language_info": {
   "codemirror_mode": {
    "name": "ipython",
    "version": 3
   },
   "file_extension": ".py",
   "mimetype": "text/x-python",
   "name": "python",
   "nbconvert_exporter": "python",
   "pygments_lexer": "ipython3",
   "version": "3.8.3"
  },
  "varInspector": {
   "cols": {
    "lenName": 16,
    "lenType": 16,
    "lenVar": 40
   },
   "kernels_config": {
    "python": {
     "delete_cmd_postfix": "",
     "delete_cmd_prefix": "del ",
     "library": "var_list.py",
     "varRefreshCmd": "print(var_dic_list())"
    },
    "r": {
     "delete_cmd_postfix": ") ",
     "delete_cmd_prefix": "rm(",
     "library": "var_list.r",
     "varRefreshCmd": "cat(var_dic_list()) "
    }
   },
   "types_to_exclude": [
    "module",
    "function",
    "builtin_function_or_method",
    "instance",
    "_Feature"
   ],
   "window_display": false
  }
 },
 "nbformat": 4,
 "nbformat_minor": 2
}
